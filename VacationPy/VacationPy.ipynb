{
 "cells": [
  {
   "cell_type": "markdown",
   "metadata": {},
   "source": [
    "# VacationPy\n",
    "----\n",
    "\n",
    "#### Note\n",
    "* Keep an eye on your API usage. Use https://developers.google.com/maps/reporting/gmp-reporting as reference for how to monitor your usage and billing.\n",
    "\n",
    "* Instructions have been included for each segment. You do not have to follow them exactly, but they are included to help you think through the steps."
   ]
  },
  {
   "cell_type": "code",
   "execution_count": 1,
   "metadata": {},
   "outputs": [],
   "source": [
    "# Dependencies and Setup\n",
    "import matplotlib.pyplot as plt\n",
    "import pandas as pd\n",
    "import numpy as np\n",
    "import requests\n",
    "import gmaps\n",
    "import os\n",
    "import json\n",
    "from concurrent.futures import ThreadPoolExecutor, as_completed\n",
    "\n",
    "\n",
    "# Import API key\n",
    "from api_keys import g_key"
   ]
  },
  {
   "cell_type": "markdown",
   "metadata": {},
   "source": [
    "### Store Part I results into DataFrame\n",
    "* Load the csv exported in Part I to a DataFrame"
   ]
  },
  {
   "cell_type": "code",
   "execution_count": 2,
   "metadata": {},
   "outputs": [
    {
     "data": {
      "text/html": [
       "<div>\n",
       "<style scoped>\n",
       "    .dataframe tbody tr th:only-of-type {\n",
       "        vertical-align: middle;\n",
       "    }\n",
       "\n",
       "    .dataframe tbody tr th {\n",
       "        vertical-align: top;\n",
       "    }\n",
       "\n",
       "    .dataframe thead th {\n",
       "        text-align: right;\n",
       "    }\n",
       "</style>\n",
       "<table border=\"1\" class=\"dataframe\">\n",
       "  <thead>\n",
       "    <tr style=\"text-align: right;\">\n",
       "      <th></th>\n",
       "      <th>searc_city</th>\n",
       "      <th>city</th>\n",
       "      <th>country</th>\n",
       "      <th>lat</th>\n",
       "      <th>lng</th>\n",
       "      <th>temp</th>\n",
       "      <th>humidity</th>\n",
       "      <th>cloudiness</th>\n",
       "      <th>windspeed</th>\n",
       "    </tr>\n",
       "  </thead>\n",
       "  <tbody>\n",
       "    <tr>\n",
       "      <th>0</th>\n",
       "      <td>ushuaia</td>\n",
       "      <td>Ushuaia</td>\n",
       "      <td>AR</td>\n",
       "      <td>-54.8000</td>\n",
       "      <td>-68.3000</td>\n",
       "      <td>50.00</td>\n",
       "      <td>53</td>\n",
       "      <td>40</td>\n",
       "      <td>20.71</td>\n",
       "    </tr>\n",
       "    <tr>\n",
       "      <th>1</th>\n",
       "      <td>oytal</td>\n",
       "      <td>Oytal</td>\n",
       "      <td>KZ</td>\n",
       "      <td>42.9057</td>\n",
       "      <td>73.2697</td>\n",
       "      <td>55.27</td>\n",
       "      <td>56</td>\n",
       "      <td>33</td>\n",
       "      <td>7.20</td>\n",
       "    </tr>\n",
       "    <tr>\n",
       "      <th>2</th>\n",
       "      <td>bengkulu</td>\n",
       "      <td>Bengkulu</td>\n",
       "      <td>ID</td>\n",
       "      <td>-3.8004</td>\n",
       "      <td>102.2655</td>\n",
       "      <td>77.02</td>\n",
       "      <td>91</td>\n",
       "      <td>99</td>\n",
       "      <td>3.87</td>\n",
       "    </tr>\n",
       "    <tr>\n",
       "      <th>3</th>\n",
       "      <td>muros</td>\n",
       "      <td>Muros</td>\n",
       "      <td>ES</td>\n",
       "      <td>42.7762</td>\n",
       "      <td>-9.0603</td>\n",
       "      <td>62.02</td>\n",
       "      <td>94</td>\n",
       "      <td>100</td>\n",
       "      <td>3.00</td>\n",
       "    </tr>\n",
       "    <tr>\n",
       "      <th>4</th>\n",
       "      <td>rock sound</td>\n",
       "      <td>Rock Sound</td>\n",
       "      <td>BS</td>\n",
       "      <td>24.9000</td>\n",
       "      <td>-76.2000</td>\n",
       "      <td>77.90</td>\n",
       "      <td>73</td>\n",
       "      <td>70</td>\n",
       "      <td>12.35</td>\n",
       "    </tr>\n",
       "  </tbody>\n",
       "</table>\n",
       "</div>"
      ],
      "text/plain": [
       "   searc_city        city country      lat       lng   temp  humidity  \\\n",
       "0     ushuaia     Ushuaia      AR -54.8000  -68.3000  50.00        53   \n",
       "1       oytal       Oytal      KZ  42.9057   73.2697  55.27        56   \n",
       "2    bengkulu    Bengkulu      ID  -3.8004  102.2655  77.02        91   \n",
       "3       muros       Muros      ES  42.7762   -9.0603  62.02        94   \n",
       "4  rock sound  Rock Sound      BS  24.9000  -76.2000  77.90        73   \n",
       "\n",
       "   cloudiness  windspeed  \n",
       "0          40      20.71  \n",
       "1          33       7.20  \n",
       "2          99       3.87  \n",
       "3         100       3.00  \n",
       "4          70      12.35  "
      ]
     },
     "execution_count": 2,
     "metadata": {},
     "output_type": "execute_result"
    }
   ],
   "source": [
    "filepath = \"../WeatherPy/citydata.csv\"\n",
    "cityweatherdf = pd.read_csv(filepath)\n",
    "cityweatherdf.head()\n"
   ]
  },
  {
   "cell_type": "markdown",
   "metadata": {},
   "source": [
    "### Humidity Heatmap\n",
    "* Configure gmaps.\n",
    "* Use the Lat and Lng as locations and Humidity as the weight.\n",
    "* Add Heatmap layer to map."
   ]
  },
  {
   "cell_type": "code",
   "execution_count": 3,
   "metadata": {},
   "outputs": [],
   "source": [
    "# Access maps with unique API key\n",
    "gmaps.configure(api_key=g_key)\n",
    "\n",
    "# Store latitude and longitude in locations\n",
    "locations = cityweatherdf[[\"lat\", \"lng\"]]\n",
    "\n",
    "# Fill NaN values and convert to float\n",
    "humid = cityweatherdf[\"humidity\"].astype(float)"
   ]
  },
  {
   "cell_type": "code",
   "execution_count": 4,
   "metadata": {},
   "outputs": [
    {
     "data": {
      "application/vnd.jupyter.widget-view+json": {
       "model_id": "1960f27d5bf841309f945b4eeacec3fd",
       "version_major": 2,
       "version_minor": 0
      },
      "text/plain": [
       "Figure(layout=FigureLayout(height='420px'))"
      ]
     },
     "metadata": {},
     "output_type": "display_data"
    }
   ],
   "source": [
    "# Plot Heatmap\n",
    "fig = gmaps.figure(center=(0,0), zoom_level=2)\n",
    "\n",
    "# Create heat layer\n",
    "heat_layer = gmaps.heatmap_layer(locations, weights=humid, \n",
    "                                 dissipating=False, max_intensity=np.max(humid),\n",
    "                                 point_radius=3.5)\n",
    "\n",
    "# Add layer\n",
    "fig.add_layer(heat_layer)\n",
    "\n",
    "# Display figure\n",
    "fig"
   ]
  },
  {
   "cell_type": "markdown",
   "metadata": {},
   "source": [
    "### Create new DataFrame fitting weather criteria\n",
    "* Narrow down the cities to fit weather conditions.\n",
    "* Drop any rows will null values."
   ]
  },
  {
   "cell_type": "code",
   "execution_count": 5,
   "metadata": {},
   "outputs": [
    {
     "name": "stdout",
     "output_type": "stream",
     "text": [
      "Total cities meeting criteria : 10\n"
     ]
    },
    {
     "data": {
      "text/html": [
       "<div>\n",
       "<style scoped>\n",
       "    .dataframe tbody tr th:only-of-type {\n",
       "        vertical-align: middle;\n",
       "    }\n",
       "\n",
       "    .dataframe tbody tr th {\n",
       "        vertical-align: top;\n",
       "    }\n",
       "\n",
       "    .dataframe thead th {\n",
       "        text-align: right;\n",
       "    }\n",
       "</style>\n",
       "<table border=\"1\" class=\"dataframe\">\n",
       "  <thead>\n",
       "    <tr style=\"text-align: right;\">\n",
       "      <th></th>\n",
       "      <th>searc_city</th>\n",
       "      <th>city</th>\n",
       "      <th>country</th>\n",
       "      <th>lat</th>\n",
       "      <th>lng</th>\n",
       "      <th>temp</th>\n",
       "      <th>humidity</th>\n",
       "      <th>cloudiness</th>\n",
       "      <th>windspeed</th>\n",
       "    </tr>\n",
       "  </thead>\n",
       "  <tbody>\n",
       "    <tr>\n",
       "      <th>127</th>\n",
       "      <td>richards bay</td>\n",
       "      <td>Richards Bay</td>\n",
       "      <td>ZA</td>\n",
       "      <td>-28.7830</td>\n",
       "      <td>32.0377</td>\n",
       "      <td>73.18</td>\n",
       "      <td>36</td>\n",
       "      <td>0</td>\n",
       "      <td>4.68</td>\n",
       "    </tr>\n",
       "    <tr>\n",
       "      <th>129</th>\n",
       "      <td>santiago del estero</td>\n",
       "      <td>Santiago del Estero</td>\n",
       "      <td>AR</td>\n",
       "      <td>-27.7951</td>\n",
       "      <td>-64.2615</td>\n",
       "      <td>72.59</td>\n",
       "      <td>36</td>\n",
       "      <td>0</td>\n",
       "      <td>7.92</td>\n",
       "    </tr>\n",
       "    <tr>\n",
       "      <th>217</th>\n",
       "      <td>nador</td>\n",
       "      <td>Nador</td>\n",
       "      <td>MA</td>\n",
       "      <td>35.1740</td>\n",
       "      <td>-2.9287</td>\n",
       "      <td>75.87</td>\n",
       "      <td>60</td>\n",
       "      <td>0</td>\n",
       "      <td>5.75</td>\n",
       "    </tr>\n",
       "    <tr>\n",
       "      <th>254</th>\n",
       "      <td>zmiyiv</td>\n",
       "      <td>Zmiyiv</td>\n",
       "      <td>UA</td>\n",
       "      <td>49.6966</td>\n",
       "      <td>36.3611</td>\n",
       "      <td>73.20</td>\n",
       "      <td>38</td>\n",
       "      <td>0</td>\n",
       "      <td>8.95</td>\n",
       "    </tr>\n",
       "    <tr>\n",
       "      <th>299</th>\n",
       "      <td>komsomolskiy</td>\n",
       "      <td>Yangi Marg`ilon</td>\n",
       "      <td>UZ</td>\n",
       "      <td>40.4272</td>\n",
       "      <td>71.7189</td>\n",
       "      <td>71.60</td>\n",
       "      <td>37</td>\n",
       "      <td>0</td>\n",
       "      <td>4.61</td>\n",
       "    </tr>\n",
       "  </tbody>\n",
       "</table>\n",
       "</div>"
      ],
      "text/plain": [
       "              searc_city                 city country      lat      lng  \\\n",
       "127         richards bay         Richards Bay      ZA -28.7830  32.0377   \n",
       "129  santiago del estero  Santiago del Estero      AR -27.7951 -64.2615   \n",
       "217                nador                Nador      MA  35.1740  -2.9287   \n",
       "254               zmiyiv               Zmiyiv      UA  49.6966  36.3611   \n",
       "299         komsomolskiy      Yangi Marg`ilon      UZ  40.4272  71.7189   \n",
       "\n",
       "      temp  humidity  cloudiness  windspeed  \n",
       "127  73.18        36           0       4.68  \n",
       "129  72.59        36           0       7.92  \n",
       "217  75.87        60           0       5.75  \n",
       "254  73.20        38           0       8.95  \n",
       "299  71.60        37           0       4.61  "
      ]
     },
     "execution_count": 5,
     "metadata": {},
     "output_type": "execute_result"
    }
   ],
   "source": [
    "# Criteria is \n",
    "# A max temperature lower than 80 degrees but higher than 70.\n",
    "# Wind speed less than 10 mph.\n",
    "# Zero cloudiness.\n",
    "short_listdf = cityweatherdf.loc[(cityweatherdf[\"windspeed\"] <= 10) & \\\n",
    "                               (cityweatherdf[\"cloudiness\"] == 0) & \\\n",
    "                               (cityweatherdf[\"temp\"].between(70,80))].dropna()\n",
    "\n",
    "\n",
    "cityrecordcount = len(short_listdf.index)\n",
    "print(f\"Total cities meeting criteria : {cityrecordcount}\")\n",
    "short_listdf.head()"
   ]
  },
  {
   "cell_type": "markdown",
   "metadata": {},
   "source": [
    "### Hotel Map\n",
    "* Store into variable named `hotel_df`.\n",
    "* Add a \"Hotel Name\" column to the DataFrame.\n",
    "* Set parameters to search for hotels with 5000 meters.\n",
    "* Hit the Google Places API for each city's coordinates.\n",
    "* Store the first Hotel result into the DataFrame.\n",
    "* Plot markers on top of the heatmap."
   ]
  },
  {
   "cell_type": "code",
   "execution_count": 6,
   "metadata": {},
   "outputs": [],
   "source": [
    "# Process results and return top hotel\n",
    "def tophotel(data):\n",
    "    FIELDS = [\"icon\",\"name\",\"photos\",\"place_id\",\"rating\",\"geometry.location.lat\",\"geometry.location.lng\"]\n",
    "    testhoteldf = pd.json_normalize(data)\n",
    "    # Sort to find top rated hotel\n",
    "    sorted_hoteldf = testhoteldf[FIELDS].sort_values(by=['rating'],ascending=False).reset_index(drop=True)\n",
    "    sorted_hoteldf.rename(columns={\"name\":\"Hotel_Name\",\"geometry.location.lat\":\"Lat\",\"geometry.location.lng\":\"Lng\"}, inplace=True)\n",
    "\n",
    "    return sorted_hoteldf.iloc[0]\n",
    "\n",
    "# geocoordinates\n",
    "\n",
    "def hotelsearch(lat,lng, allresults=False):  # Return Top Hote by default, set \"allresults\" true if you want complete return\n",
    "    # base url\n",
    "    base_url = \"https://maps.googleapis.com/maps/api/place/nearbysearch/json\"\n",
    "    target_coordinates = f\"{lat},{lng}\"\n",
    "    target_search = \"hotel\"\n",
    "    target_radius = 5000\n",
    "    target_type = \"hotel\"\n",
    "\n",
    "    # set up a parameters dictionary\n",
    "    params = {\n",
    "        \"location\": target_coordinates,\n",
    "        \"keyword\": target_search,\n",
    "        \"radius\": target_radius,\n",
    "        \"type\": target_type,\n",
    "        \"key\": g_key\n",
    "    }\n",
    "    try :\n",
    "        # run a request using our params dictionary\n",
    "        response = requests.get(base_url, params=params)\n",
    "        json_response = response.json()\n",
    "        searchresults = json_response['results']\n",
    "        if allresults:\n",
    "            return response.json()\n",
    "        else:\n",
    "            if not searchresults:\n",
    "                #print(\"No hotels returned!\")\n",
    "                return\n",
    "            else:\n",
    "                tophotelresult = tophotel(searchresults)\n",
    "                return tophotelresult\n",
    "    except requests.exceptions.RequestException as e:\n",
    "        #Do not want to continue if getting errors\n",
    "        raise SystemExit(e)\n"
   ]
  },
  {
   "cell_type": "code",
   "execution_count": 7,
   "metadata": {},
   "outputs": [
    {
     "name": "stdout",
     "output_type": "stream",
     "text": [
      "icon          https://maps.gstatic.com/mapfiles/place_api/ic...\n",
      "Hotel_Name                     Canopy By Hilton Atlanta Midtown\n",
      "photos        [{'height': 472, 'html_attributions': ['<a hre...\n",
      "place_id                            ChIJ477LYFAE9YgR24puh_com0g\n",
      "rating                                                      4.5\n",
      "Lat                                                     33.7932\n",
      "Lng                                                     -84.388\n",
      "Name: 0, dtype: object\n"
     ]
    }
   ],
   "source": [
    "# Test Return of Top Hotel\n",
    "# Atlanta is lat': 33.749, 'lng': -84.388,\n",
    "atlanta = {\"lat\":'33.749',\"lng\":'-84.388'}\n",
    "hoteltest = hotelsearch(atlanta[\"lat\"],atlanta[\"lng\"])\n",
    "print(hoteltest)"
   ]
  },
  {
   "cell_type": "code",
   "execution_count": 8,
   "metadata": {},
   "outputs": [
    {
     "name": "stdout",
     "output_type": "stream",
     "text": [
      "None\n"
     ]
    }
   ],
   "source": [
    "# Test Return of No hotel found\n",
    "hoteltest = hotelsearch('29.1081','21.2869')\n",
    "print(hoteltest)"
   ]
  },
  {
   "cell_type": "code",
   "execution_count": 9,
   "metadata": {},
   "outputs": [
    {
     "name": "stdout",
     "output_type": "stream",
     "text": [
      "{'html_attributions': [], 'next_page_token': 'ATtYBwJGL51PVLjhuJ5PMKHu12s8IRtGOS9x_EO5LUo-z71h_XxnRMr3G5cOxltOYOWHGrJuZWJfPD6MFwAHLh3dDFAxRBCOI6R-yfS66CWtzvh02hEOWjPRUFKaJLzauXJvLxJWxdUX8Hynyq5lIiyXvxukn9P1LPptg9bxiN9DfSy6iKaQmNCBR-CeMHkFTBl5FFb2ENiFsqtSOR_DSjNdx1FMiGj8qZcn8gD9nuGtw6Fwtccj1KKtODvVapY6SK-YgpsceNuC5vd-MgIIoP527pX0FyXxvmnn0PBBU043Nh8grOV0U3kUm6CUVtxw13jLgWPxGpzQklS6GBtwXNGxMJdfeOQhZD0RKUxVH0VzQSzAB2dUt9-OA9iFRaGTzc7tg1ukUtZoK_zCbsYRSsliUhUUxoG7pIWhEll4NE084WFbGBsE32yHsCCCxJWU-lQ', 'results': [{'business_status': 'OPERATIONAL', 'geometry': {'location': {'lat': 33.758994, 'lng': -84.383111}, 'viewport': {'northeast': {'lat': 33.76047987989272, 'lng': -84.38204237010729}, 'southwest': {'lat': 33.75778022010728, 'lng': -84.38474202989272}}}, 'icon': 'https://maps.gstatic.com/mapfiles/place_api/icons/v1/png_71/lodging-71.png', 'name': 'Sheraton Atlanta Hotel', 'opening_hours': {'open_now': True}, 'photos': [{'height': 1366, 'html_attributions': ['<a href=\"https://maps.google.com/maps/contrib/117769331373316738787\">Sheraton Atlanta Hotel</a>'], 'photo_reference': 'ATtYBwJDXyTH9jEZ7Hf15ahWc9_Cr9vghh0UfFReYu0o7rPwjgYFLJaInb4JuhNcJh0P0xoejHGAeg33nDmt2RzSolj5X3KylWCk_9aEXdmXTFWAi3SfRoTw3J4ogiosOwY6TMXjoSgmL_uTAjd8Bz-o2_cKfe7yU8yEOOXqAcofzTsUNVsR', 'width': 2048}], 'place_id': 'ChIJxd-SzXcE9YgRs6Jkbw7LWf8', 'plus_code': {'compound_code': 'QJ58+HQ Atlanta, Georgia', 'global_code': '865QQJ58+HQ'}, 'rating': 3.9, 'reference': 'ChIJxd-SzXcE9YgRs6Jkbw7LWf8', 'scope': 'GOOGLE', 'types': ['lodging', 'point_of_interest', 'establishment'], 'user_ratings_total': 5138, 'vicinity': '165 Courtland St NE, Atlanta'}, {'business_status': 'OPERATIONAL', 'geometry': {'location': {'lat': 33.7615415, 'lng': -84.38595509999999}, 'viewport': {'northeast': {'lat': 33.76317757989272, 'lng': -84.38319600000001}, 'southwest': {'lat': 33.76047792010728, 'lng': -84.38697719999999}}}, 'icon': 'https://maps.gstatic.com/mapfiles/place_api/icons/v1/png_71/lodging-71.png', 'name': 'Atlanta Marriott Marquis', 'opening_hours': {'open_now': True}, 'photos': [{'height': 699, 'html_attributions': ['<a href=\"https://maps.google.com/maps/contrib/101930563596311370958\">A Google User</a>'], 'photo_reference': 'ATtYBwKC3rFXsV3R72PkLCy2PK5PEH-E544K2cwL86z73u752US_IFm6p_C2RGoSEUMhUKjVJwNBu8swXTnhHbaolvkunXsTl1FboYYqNk4VCbAWkGp16TTtgNDeCcClIpLC8vf-uelCZBDk7V3VZobBJXs-hKjMLM8nHPqHVWRmHGdde1ya', 'width': 1048}], 'place_id': 'ChIJwxiI1nkE9YgR3dIyOdDBaC8', 'plus_code': {'compound_code': 'QJ67+JJ Atlanta, Georgia', 'global_code': '865QQJ67+JJ'}, 'rating': 4.3, 'reference': 'ChIJwxiI1nkE9YgR3dIyOdDBaC8', 'scope': 'GOOGLE', 'types': ['lodging', 'point_of_interest', 'establishment'], 'user_ratings_total': 10309, 'vicinity': '265 Peachtree Center Ave NE, Atlanta'}, {'business_status': 'OPERATIONAL', 'geometry': {'location': {'lat': 33.783499, 'lng': -84.38334549999999}, 'viewport': {'northeast': {'lat': 33.78470307989272, 'lng': -84.38204832010727}, 'southwest': {'lat': 33.78200342010728, 'lng': -84.38474797989271}}}, 'icon': 'https://maps.gstatic.com/mapfiles/place_api/icons/v1/png_71/lodging-71.png', 'name': 'Loews Atlanta Hotel', 'opening_hours': {'open_now': True}, 'photos': [{'height': 3370, 'html_attributions': ['<a href=\"https://maps.google.com/maps/contrib/112941020235906963215\">Loews Atlanta Hotel</a>'], 'photo_reference': 'ATtYBwLd2uATz-APfKxgSHbcFOaXtkodhLQBwjLNQY_kMv251Ub_6cUSEd_D05_LgAD4t1kp58H8HwcdZalQEm59usHp2qXPVBcMiu2Wn99SIDCMalUzUAlcBAeYuhPkQA1o1Y_5D7qcnepuCj1D-bv95mGBZl8EdlycfjxPaYie8ZRunfN3', 'width': 5054}], 'place_id': 'ChIJW_dJAkME9YgR8cmczxrCpIo', 'plus_code': {'compound_code': 'QJM8+9M Atlanta, Georgia', 'global_code': '865QQJM8+9M'}, 'rating': 4.5, 'reference': 'ChIJW_dJAkME9YgR8cmczxrCpIo', 'scope': 'GOOGLE', 'types': ['lodging', 'point_of_interest', 'establishment'], 'user_ratings_total': 2191, 'vicinity': '1065 Peachtree Rd NE, Atlanta'}, {'business_status': 'OPERATIONAL', 'geometry': {'location': {'lat': 33.78703730000001, 'lng': -84.38138350000001}, 'viewport': {'northeast': {'lat': 33.78821642989273, 'lng': -84.38035387010729}, 'southwest': {'lat': 33.78551677010728, 'lng': -84.38305352989273}}}, 'icon': 'https://maps.gstatic.com/mapfiles/place_api/icons/v1/png_71/lodging-71.png', 'name': 'W Atlanta - Midtown', 'opening_hours': {'open_now': True}, 'photos': [{'height': 1366, 'html_attributions': ['<a href=\"https://maps.google.com/maps/contrib/101558546990930120528\">W Atlanta - Midtown</a>'], 'photo_reference': 'ATtYBwKOoU3kyQYUSjipNFdTVHw47HYiVTHTsFSRt0NrTiTJ1WTowcNaX2RnI5tZhQUz13vRn5kby_nrPNWjW8qv6MFkuBnOeblpvvVE6-YW3xDKrlG56xFd39CSgeCaPF6pN_G48QU_j7aGy0rUa4QpGYBT0VQMlibr_hAOBLU--jz8zKxu', 'width': 2048}], 'place_id': 'ChIJzY1EDkQE9YgRzdycAtbmwiw', 'plus_code': {'compound_code': 'QJP9+RC Atlanta, Georgia', 'global_code': '865QQJP9+RC'}, 'rating': 4.1, 'reference': 'ChIJzY1EDkQE9YgRzdycAtbmwiw', 'scope': 'GOOGLE', 'types': ['lodging', 'point_of_interest', 'establishment'], 'user_ratings_total': 1985, 'vicinity': '188 14th St NE, Atlanta'}, {'business_status': 'OPERATIONAL', 'geometry': {'location': {'lat': 33.7596519, 'lng': -84.388947}, 'viewport': {'northeast': {'lat': 33.76058642989272, 'lng': -84.38752902010728}, 'southwest': {'lat': 33.75788677010728, 'lng': -84.39022867989273}}}, 'icon': 'https://maps.gstatic.com/mapfiles/place_api/icons/v1/png_71/lodging-71.png', 'name': 'The Westin Peachtree Plaza, Atlanta', 'opening_hours': {'open_now': True}, 'photos': [{'height': 810, 'html_attributions': ['<a href=\"https://maps.google.com/maps/contrib/116698897403069058837\">The Westin Peachtree Plaza, Atlanta</a>'], 'photo_reference': 'ATtYBwKfe8Asmf9LHf0hvc47MSKHRnM1sRpnSEEapbas2JoVNBDw3gq6IFGvaEvIHP6O-M8v_kEC7ih2hYjVBIKMae1L4qQJ71SJDW665DdidtbwVbkm43kZn86mLfppkgE8_VAlifvIDXSf83oi9gqFuiPE3UJh9AFw_cIlrXOXeWgruKam', 'width': 1440}], 'place_id': 'ChIJ86lMh3gE9YgRVGCyTyCJZB0', 'plus_code': {'compound_code': 'QJ56+VC Atlanta, Georgia', 'global_code': '865QQJ56+VC'}, 'rating': 4.3, 'reference': 'ChIJ86lMh3gE9YgRVGCyTyCJZB0', 'scope': 'GOOGLE', 'types': ['lodging', 'point_of_interest', 'establishment'], 'user_ratings_total': 8307, 'vicinity': '210 Peachtree St NW, Atlanta'}, {'business_status': 'OPERATIONAL', 'geometry': {'location': {'lat': 33.7585793, 'lng': -84.3870657}, 'viewport': {'northeast': {'lat': 33.75984997989272, 'lng': -84.38589462010727}, 'southwest': {'lat': 33.75715032010728, 'lng': -84.38859427989271}}}, 'icon': 'https://maps.gstatic.com/mapfiles/place_api/icons/v1/png_71/lodging-71.png', 'name': 'The Ritz-Carlton, Atlanta', 'opening_hours': {'open_now': True}, 'photos': [{'height': 1366, 'html_attributions': ['<a href=\"https://maps.google.com/maps/contrib/102699646059874219471\">The Ritz-Carlton, Atlanta</a>'], 'photo_reference': 'ATtYBwI0A5hNEc01Bw0oM_lhxicT1MAIkpDu3qfFEseJGy5KwUsP1HNbQ_Bb3cZ2XGPTu0Y4jtlIMpeHRa-WpvqIZi_V-lttol7uoi7sJ0Ofmfta7ENIUUngHcYO9C39q-8KHPGTfo2NQeRUIjbXUACEUO5NmXWR7errEsKU2HnN96z8SCey', 'width': 2048}], 'place_id': 'ChIJm56eKO0E9YgRSeb3PncqJzw', 'plus_code': {'compound_code': 'QJ57+C5 Atlanta, Georgia', 'global_code': '865QQJ57+C5'}, 'rating': 4.5, 'reference': 'ChIJm56eKO0E9YgRSeb3PncqJzw', 'scope': 'GOOGLE', 'types': ['lodging', 'point_of_interest', 'establishment'], 'user_ratings_total': 2173, 'vicinity': '181 Peachtree Rd NE, Atlanta'}, {'business_status': 'OPERATIONAL', 'geometry': {'location': {'lat': 33.791434, 'lng': -84.3981008}, 'viewport': {'northeast': {'lat': 33.79271732989272, 'lng': -84.39677807010727}, 'southwest': {'lat': 33.79001767010728, 'lng': -84.39947772989272}}}, 'icon': 'https://maps.gstatic.com/mapfiles/place_api/icons/v1/png_71/lodging-71.png', 'name': 'Twelve Midtown, Autograph Collection', 'opening_hours': {'open_now': True}, 'photos': [{'height': 1366, 'html_attributions': ['<a href=\"https://maps.google.com/maps/contrib/110811327941522133704\">Twelve Atlantic Station Hotel</a>'], 'photo_reference': 'ATtYBwJ4UENwXPkxzdApoRiJ2ImvpCFX4LL1aCLk4Ox2T9u_9GFRB_vdyq580EOCaXWyV9zmfDME0Pkm8R-unrlG62lvMG9_yCsf9fzG_SeZBDlTzxYoCUaU_Ol7ILFrU9_KGAd6CjOuIpJCypIkedIJBgyBqO7be954RaDTrKAkmtExt4_o', 'width': 2048}], 'place_id': 'ChIJ7XjMm_cE9YgRtIzD7WCH9sM', 'plus_code': {'compound_code': 'QJR2+HQ Atlanta, Georgia', 'global_code': '865QQJR2+HQ'}, 'rating': 4.2, 'reference': 'ChIJ7XjMm_cE9YgRtIzD7WCH9sM', 'scope': 'GOOGLE', 'types': ['lodging', 'point_of_interest', 'establishment'], 'user_ratings_total': 854, 'vicinity': '361 17th St NW, Atlanta'}, {'business_status': 'OPERATIONAL', 'geometry': {'location': {'lat': 33.765133, 'lng': -84.3892103}, 'viewport': {'northeast': {'lat': 33.76633527989272, 'lng': -84.38774092010728}, 'southwest': {'lat': 33.76363562010728, 'lng': -84.39044057989273}}}, 'icon': 'https://maps.gstatic.com/mapfiles/place_api/icons/v1/png_71/lodging-71.png', 'name': 'W Atlanta – Downtown', 'opening_hours': {'open_now': True}, 'photos': [{'height': 1366, 'html_attributions': ['<a href=\"https://maps.google.com/maps/contrib/103727668910348949764\">W Atlanta-Downtown</a>'], 'photo_reference': 'ATtYBwJ0Pd28OOXOSMvREWKxw_eT7fAXCsf_eBFri02R2F4Gwg_NzAYLnhePhYguM-yzFeef6XP0MBH0mBuXvFa6FINAPwhJn6rp_Ddeiw_8USIdxCJ9KQLrWcRN5lM5OfDylVRYBqBWfvce_DOp5vsfp1IvqZp4qFkwsCYaG7Fbrwik2uxy', 'width': 2048}], 'place_id': 'ChIJ9yPW2nsE9YgRv8Lg0ro_55A', 'plus_code': {'compound_code': 'QJ86+38 Atlanta, Georgia', 'global_code': '865QQJ86+38'}, 'rating': 4.1, 'reference': 'ChIJ9yPW2nsE9YgRv8Lg0ro_55A', 'scope': 'GOOGLE', 'types': ['lodging', 'point_of_interest', 'establishment'], 'user_ratings_total': 1506, 'vicinity': '45 Ivan Allen Jr Blvd NW, Atlanta'}, {'business_status': 'OPERATIONAL', 'geometry': {'location': {'lat': 33.7605431, 'lng': -84.3950598}, 'viewport': {'northeast': {'lat': 33.76186082989271, 'lng': -84.39377032010727}, 'southwest': {'lat': 33.75916117010727, 'lng': -84.39646997989271}}}, 'icon': 'https://maps.gstatic.com/mapfiles/place_api/icons/v1/png_71/lodging-71.png', 'name': 'Embassy Suites by Hilton Atlanta at Centennial Olympic Park', 'opening_hours': {'open_now': True}, 'photos': [{'height': 4000, 'html_attributions': ['<a href=\"https://maps.google.com/maps/contrib/102589726242149544657\">Embassy Suites Atlanta - At Centennial Olympic Park</a>'], 'photo_reference': 'ATtYBwKH2N5cz2rtUU1zSYrYOag7r9aCst3Dhy5zgNylHO218kgDIU4Q6gOU1mpPltNtMolUMii6SnSYxGGVnQjhzkSc8wzcuTIaAevwOlmhqc6LC3VUzl34nDiABokXDaoH9AWTCeNORKs0LX8RpdquI1c6dSXDzTFHq7HpjUdCdwGZuMzV', 'width': 6000}], 'place_id': 'ChIJp8-IuX8E9YgRbAuMHZl6bBQ', 'plus_code': {'compound_code': 'QJ63+6X Atlanta, Georgia', 'global_code': '865QQJ63+6X'}, 'rating': 4.3, 'reference': 'ChIJp8-IuX8E9YgRbAuMHZl6bBQ', 'scope': 'GOOGLE', 'types': ['lodging', 'point_of_interest', 'establishment'], 'user_ratings_total': 2326, 'vicinity': '267 Marietta St NW, Atlanta'}, {'business_status': 'OPERATIONAL', 'geometry': {'location': {'lat': 33.7618814, 'lng': -84.3956335}, 'viewport': {'northeast': {'lat': 33.76312452989271, 'lng': -84.39422727010727}, 'southwest': {'lat': 33.76042487010727, 'lng': -84.39692692989271}}}, 'icon': 'https://maps.gstatic.com/mapfiles/place_api/icons/v1/png_71/lodging-71.png', 'name': 'Hilton Garden Inn Atlanta Downtown', 'opening_hours': {'open_now': True}, 'photos': [{'height': 390, 'html_attributions': ['<a href=\"https://maps.google.com/maps/contrib/108910877725088177003\">Hilton Garden Inn Atlanta Downtown</a>'], 'photo_reference': 'ATtYBwJe3JxANf4_EfrATreTBCvVbMjOplVktA5mYKC4Hd_xBU9sDtc65Pm1o45xq77XHLzIXav12-aBhXvAj8VtIuCGEjBBzJ6HDaCVp3RM7REe9DYBZLsvTizxOae4VuNB2sa2PVpcntWn7YVi9NcvbR3bJdhK0ptugBVSFK2dn5kXDB_v', 'width': 698}], 'place_id': 'ChIJOeYULX4E9YgRMxjoaB8p5pw', 'plus_code': {'compound_code': 'QJ63+QP Atlanta, Georgia', 'global_code': '865QQJ63+QP'}, 'rating': 4.3, 'reference': 'ChIJOeYULX4E9YgRMxjoaB8p5pw', 'scope': 'GOOGLE', 'types': ['lodging', 'point_of_interest', 'establishment'], 'user_ratings_total': 1851, 'vicinity': '275 Baker St NW, Atlanta'}, {'business_status': 'OPERATIONAL', 'geometry': {'location': {'lat': 33.758522, 'lng': -84.394358}, 'viewport': {'northeast': {'lat': 33.76016662989272, 'lng': -84.39323812010728}, 'southwest': {'lat': 33.75746697010728, 'lng': -84.39593777989273}}}, 'icon': 'https://maps.gstatic.com/mapfiles/place_api/icons/v1/png_71/lodging-71.png', 'name': 'Omni Atlanta Hotel at CNN Center', 'opening_hours': {'open_now': True}, 'photos': [{'height': 3712, 'html_attributions': ['<a href=\"https://maps.google.com/maps/contrib/114041020135946816615\">Omni Hotel at CNN Center</a>'], 'photo_reference': 'ATtYBwJGKa0ExKif2E5hDfePmhddzyTU3TXRgGEivAedqT1zATtF0sUjSOS3yZPMUUsd93Om3XZVMF_lj1VKTdvmBUAm2sH3dv8lA2uk0zZGMpLksrc4jrSH0PL_U06dWz2cUxPAGwExxY9KnlZwhUg1yPvQLE84bpCXlYY1XPUM86-IdPIn', 'width': 5568}], 'place_id': 'ChIJd_c_Y4AD9YgR0xH3kBPHKqI', 'plus_code': {'compound_code': 'QJ54+C7 Atlanta, Georgia', 'global_code': '865QQJ54+C7'}, 'rating': 4.3, 'reference': 'ChIJd_c_Y4AD9YgR0xH3kBPHKqI', 'scope': 'GOOGLE', 'types': ['lodging', 'point_of_interest', 'establishment'], 'user_ratings_total': 9924, 'vicinity': '100 Cnn, Center St NW, Atlanta'}, {'business_status': 'OPERATIONAL', 'geometry': {'location': {'lat': 33.7902012, 'lng': -84.3884271}, 'viewport': {'northeast': {'lat': 33.79155492989272, 'lng': -84.38684217010729}, 'southwest': {'lat': 33.78885527010728, 'lng': -84.38954182989272}}}, 'icon': 'https://maps.gstatic.com/mapfiles/place_api/icons/v1/png_71/lodging-71.png', 'name': 'Artmore Hotel', 'opening_hours': {'open_now': True}, 'photos': [{'height': 2400, 'html_attributions': ['<a href=\"https://maps.google.com/maps/contrib/116998118932296635162\">A Google User</a>'], 'photo_reference': 'ATtYBwLtlIL9LD32HzcJYs4JOr76-X_IpMQ6pq2-mVQucuShcnBiBW9zN_xv_BjziMSwZ9PRltiY5J3938_mwd1GS_bNz6ZLQG26B6KLLASf11dYoywUHDQyxr0Chl4_7rroMhzZMpsnYO_D9vVVBd-Sr6i9VekwtaipftGnUQxYL1tL4UEI', 'width': 3600}], 'place_id': 'ChIJh-lI8FoE9YgRyKGKYvLpvA8', 'plus_code': {'compound_code': 'QJR6+3J Atlanta, Georgia', 'global_code': '865QQJR6+3J'}, 'rating': 4.1, 'reference': 'ChIJh-lI8FoE9YgRyKGKYvLpvA8', 'scope': 'GOOGLE', 'types': ['lodging', 'point_of_interest', 'establishment'], 'user_ratings_total': 931, 'vicinity': '1302 W Peachtree St NW, Atlanta'}, {'business_status': 'OPERATIONAL', 'geometry': {'location': {'lat': 33.770219, 'lng': -84.38812}, 'viewport': {'northeast': {'lat': 33.77166137989273, 'lng': -84.38642542010729}, 'southwest': {'lat': 33.76896172010728, 'lng': -84.38912507989272}}}, 'icon': 'https://maps.gstatic.com/mapfiles/place_api/icons/v1/png_71/lodging-71.png', 'name': 'Crowne Plaza Atlanta - Midtown, an IHG Hotel', 'opening_hours': {'open_now': True}, 'photos': [{'height': 3840, 'html_attributions': ['<a href=\"https://maps.google.com/maps/contrib/112932108920371821363\">A Google User</a>'], 'photo_reference': 'ATtYBwKJf96a3rneDuDJ8oWrXxceoM62A8sJP9SOIUkNzIhu0D_EOYoLAvQnMSFIqDZpjLc5SM30lAizeBLo7E95iuh94iPWjZn_utQnHguxk2SWFSdfYkKomY6gLeu_LwP77Zwez7x1xEXTvY25yaW5pc0PMH4RjicLI-waWe-Q_uEcMSlA', 'width': 5760}], 'place_id': 'ChIJmX5uKGUE9YgRLS3WaxO1vDA', 'plus_code': {'compound_code': 'QJC6+3Q Atlanta, Georgia', 'global_code': '865QQJC6+3Q'}, 'rating': 3.9, 'reference': 'ChIJmX5uKGUE9YgRLS3WaxO1vDA', 'scope': 'GOOGLE', 'types': ['lodging', 'point_of_interest', 'establishment'], 'user_ratings_total': 2073, 'vicinity': '590 W Peachtree St NW, Atlanta'}, {'business_status': 'OPERATIONAL', 'geometry': {'location': {'lat': 33.7599412, 'lng': -84.3910229}, 'viewport': {'northeast': {'lat': 33.76122557989272, 'lng': -84.38966072010727}, 'southwest': {'lat': 33.75852592010727, 'lng': -84.39236037989271}}}, 'icon': 'https://maps.gstatic.com/mapfiles/place_api/icons/v1/png_71/lodging-71.png', 'name': 'AC Hotel by Marriott Atlanta Downtown', 'opening_hours': {'open_now': True}, 'photos': [{'height': 3930, 'html_attributions': ['<a href=\"https://maps.google.com/maps/contrib/105937293010069562374\">A Google User</a>'], 'photo_reference': 'ATtYBwK563_KCKjBvY5TNhydABnc7zQX2LMcnFibxDAaQ5aT_KG8nNLpPEDF_sJv9B3WR7wUTMR0xKnmKNmlVwZiZ7inhTYxMJ0WK190J5LHROCljvBmv8u_70HMzqN5yWjVih-70zNOvmcXXuCknS1IfXzoRWY5kLunwoi_2E3qyppGydkK', 'width': 5895}], 'place_id': 'ChIJf2-xSn8E9YgR9VHMvyGzeVE', 'plus_code': {'compound_code': 'QJ55+XH Atlanta, Georgia', 'global_code': '865QQJ55+XH'}, 'rating': 4.2, 'reference': 'ChIJf2-xSn8E9YgR9VHMvyGzeVE', 'scope': 'GOOGLE', 'types': ['lodging', 'point_of_interest', 'establishment'], 'user_ratings_total': 1131, 'vicinity': '101 Andrew Young International Blvd NW, Atlanta'}, {'business_status': 'OPERATIONAL', 'geometry': {'location': {'lat': 33.7613755, 'lng': -84.38735559999999}, 'viewport': {'northeast': {'lat': 33.76316027989272, 'lng': -84.38587257010727}, 'southwest': {'lat': 33.76046062010728, 'lng': -84.38857222989272}}}, 'icon': 'https://maps.gstatic.com/mapfiles/place_api/icons/v1/png_71/lodging-71.png', 'name': 'Hyatt Regency Atlanta', 'opening_hours': {'open_now': True}, 'photos': [{'height': 2360, 'html_attributions': ['<a href=\"https://maps.google.com/maps/contrib/117303312757330849175\">A Google User</a>'], 'photo_reference': 'ATtYBwLCqtqAcc4vnhrHavl2cFIcnNYpIJFuoESgOWEHUs1nZ_jiyv6q81r8RXtFe1cmeGXxALrzWn0Ik5eZJnunFujfK7masb62ZQKl0N1Eeym80MkaYjkCgFETpeV5Ucq7qKTmeyF4AntdmjU6is4gI4Ok0a3gEs62k2q4tmf_S7yctUhU', 'width': 3884}], 'place_id': 'ChIJnU8tsnkE9YgRKlmgs3CKyks', 'plus_code': {'compound_code': 'QJ67+H3 Atlanta, Georgia', 'global_code': '865QQJ67+H3'}, 'rating': 4.3, 'reference': 'ChIJnU8tsnkE9YgRKlmgs3CKyks', 'scope': 'GOOGLE', 'types': ['lodging', 'point_of_interest', 'establishment'], 'user_ratings_total': 8103, 'vicinity': '265 Peachtree Rd NE, Atlanta'}, {'business_status': 'OPERATIONAL', 'geometry': {'location': {'lat': 33.762632, 'lng': -84.389613}, 'viewport': {'northeast': {'lat': 33.76391147989273, 'lng': -84.38826227010728}, 'southwest': {'lat': 33.76121182010728, 'lng': -84.39096192989271}}}, 'icon': 'https://maps.gstatic.com/mapfiles/place_api/icons/v1/png_71/lodging-71.png', 'name': 'Aloft Atlanta Downtown', 'opening_hours': {'open_now': True}, 'photos': [{'height': 1366, 'html_attributions': ['<a href=\"https://maps.google.com/maps/contrib/116048019170258564341\">Aloft Atlanta Downtown</a>'], 'photo_reference': 'ATtYBwIQNUkarB_3pX4wXcaN_AQWIRX_ZMYs516BgPNn0h41XYFW-aoa9uGVnGjgRP11GXMIayfoKGpHmCdRSc2DQMLdUwbykz7WVzSBUiqJwRhZOIniW6kQcY0wTFq5WRCC97lEac0jhXOLDVVbuK1oInVifStfNSICYG_-KSnmLHBAvwdU', 'width': 2048}], 'place_id': 'ChIJF428P3kE9YgRyuO6sXkZsW4', 'plus_code': {'compound_code': 'QJ76+35 Atlanta, Georgia', 'global_code': '865QQJ76+35'}, 'rating': 4, 'reference': 'ChIJF428P3kE9YgRyuO6sXkZsW4', 'scope': 'GOOGLE', 'types': ['lodging', 'point_of_interest', 'establishment'], 'user_ratings_total': 1736, 'vicinity': '300 Ted Turner Dr NW, Atlanta'}, {'business_status': 'OPERATIONAL', 'geometry': {'location': {'lat': 33.7535634, 'lng': -84.39952249999999}, 'viewport': {'northeast': {'lat': 33.75493617989272, 'lng': -84.39824327010727}, 'southwest': {'lat': 33.75223652010727, 'lng': -84.40094292989272}}}, 'icon': 'https://maps.gstatic.com/mapfiles/place_api/icons/v1/png_71/lodging-71.png', 'name': 'Reverb by Hard Rock Downtown Atlanta', 'opening_hours': {'open_now': True}, 'photos': [{'height': 1768, 'html_attributions': ['<a href=\"https://maps.google.com/maps/contrib/112418332911235411163\">A Google User</a>'], 'photo_reference': 'ATtYBwKru7U8Y1B-JPhZ4pi43J8jc0BNCQJ3pXOYBMUmqGNcMqHGibSH_OgMff8xwkSUzMk5bzkCrp9Rma5R5vtgR9vt-qhc5j-ceC66oQ5zL2o-G8aw9_TA8fUe5ZLrQKBVPWy99bTCqT5Mj0zOHSPb7C9H-k0uPAc9irdklGJOKmD2m9Us', 'width': 2500}], 'place_id': 'ChIJIVpV2BYD9YgRIBhjAJ7nnpw', 'plus_code': {'compound_code': 'QJ32+C5 Atlanta, Georgia', 'global_code': '865QQJ32+C5'}, 'rating': 4.3, 'reference': 'ChIJIVpV2BYD9YgRIBhjAJ7nnpw', 'scope': 'GOOGLE', 'types': ['lodging', 'point_of_interest', 'establishment'], 'user_ratings_total': 147, 'vicinity': '89 Centennial Olympic Park Dr NW, Atlanta'}, {'business_status': 'OPERATIONAL', 'geometry': {'location': {'lat': 33.7858229, 'lng': -84.38596489999999}, 'viewport': {'northeast': {'lat': 33.78708182989272, 'lng': -84.38451392010728}, 'southwest': {'lat': 33.78438217010728, 'lng': -84.38721357989273}}}, 'icon': 'https://maps.gstatic.com/mapfiles/place_api/icons/v1/png_71/lodging-71.png', 'name': 'Moxy Atlanta Midtown', 'opening_hours': {'open_now': True}, 'photos': [{'height': 1366, 'html_attributions': ['<a href=\"https://maps.google.com/maps/contrib/114051701218983856984\">A Google User</a>'], 'photo_reference': 'ATtYBwK-UC9PgKo0qGlVSu1e84C0nHWrYrs8CEMOr_1qjxhFF6V9YcCvpM9nBZDNaIYsIDe8ZbVfBlzvu_j3LMhARtPS7OV4lqsMFx6gDPZ2Eiy3X58GEMALM1IwLBWBAh2TqzA4ExCmjpuYoQmz9FZ-hpPm124QEn2b1FUbM-YCU4YHGvvt', 'width': 2048}], 'place_id': 'ChIJh_qJq1wE9YgRD_EExnUGQgI', 'plus_code': {'compound_code': 'QJP7+8J Atlanta, Georgia', 'global_code': '865QQJP7+8J'}, 'rating': 4.3, 'reference': 'ChIJh_qJq1wE9YgRD_EExnUGQgI', 'scope': 'GOOGLE', 'types': ['lodging', 'point_of_interest', 'establishment'], 'user_ratings_total': 317, 'vicinity': '48 13th St NE, Atlanta'}, {'business_status': 'OPERATIONAL', 'geometry': {'location': {'lat': 33.7784607, 'lng': -84.38774529999999}, 'viewport': {'northeast': {'lat': 33.77959337989272, 'lng': -84.38627812010728}, 'southwest': {'lat': 33.77689372010727, 'lng': -84.38897777989273}}}, 'icon': 'https://maps.gstatic.com/mapfiles/place_api/icons/v1/png_71/lodging-71.png', 'name': 'Renaissance Atlanta Midtown Hotel', 'opening_hours': {'open_now': True}, 'photos': [{'height': 1366, 'html_attributions': ['<a href=\"https://maps.google.com/maps/contrib/118446031881554027824\">Renaissance Atlanta Midtown Hotel</a>'], 'photo_reference': 'ATtYBwJ0vBjDzrXKW2dHpAE2neZp0n1irTIL_GRU6KGdkqgkdmwPynUIeuMmH4Wfr0-4XkP8HRNPm-bL8tSt0i9Na7xDIUJgy1nOeRhwHnuBrrx8e3CneTIkTlhb0nhDGa5fLs0QtLXUG5bNXPQpK2VoQydqguV7P8KyvGupksoOEU3vuXcp', 'width': 2048}], 'place_id': 'ChIJG4VmsWcE9YgRoLLAyzuntX8', 'plus_code': {'compound_code': 'QJH6+9W Atlanta, Georgia', 'global_code': '865QQJH6+9W'}, 'rating': 4.3, 'reference': 'ChIJG4VmsWcE9YgRoLLAyzuntX8', 'scope': 'GOOGLE', 'types': ['lodging', 'point_of_interest', 'establishment'], 'user_ratings_total': 1257, 'vicinity': '866 W Peachtree St NW, Atlanta'}, {'business_status': 'OPERATIONAL', 'geometry': {'location': {'lat': 33.7931798, 'lng': -84.3880494}, 'viewport': {'northeast': {'lat': 33.79447137989273, 'lng': -84.38667852010728}, 'southwest': {'lat': 33.79177172010728, 'lng': -84.38937817989272}}}, 'icon': 'https://maps.gstatic.com/mapfiles/place_api/icons/v1/png_71/lodging-71.png', 'name': 'Canopy By Hilton Atlanta Midtown', 'opening_hours': {'open_now': True}, 'photos': [{'height': 472, 'html_attributions': ['<a href=\"https://maps.google.com/maps/contrib/100020669197759747175\">A Google User</a>'], 'photo_reference': 'ATtYBwKKyUeEhfinuSQTEcGmSvWrN85q8PM6CeBKWhAhkG_Daj4FVtwEZe4ap2FZgBx3RVBEuGQST22C3KoOlTOpZQSns9mj7vHzDh_W9K9JgXT51a0E2RtJZzcaqyTAGcVbzI4HP_JK7w2jSBruY5sI2gkU5duR4YywRiv8phwJ8PbgkURo', 'width': 840}], 'place_id': 'ChIJ477LYFAE9YgR24puh_com0g', 'plus_code': {'compound_code': 'QJV6+7Q Atlanta, Georgia', 'global_code': '865QQJV6+7Q'}, 'rating': 4.5, 'reference': 'ChIJ477LYFAE9YgR24puh_com0g', 'scope': 'GOOGLE', 'types': ['lodging', 'point_of_interest', 'establishment'], 'user_ratings_total': 372, 'vicinity': '1414 W Peachtree St NW, Atlanta'}], 'status': 'OK'}\n"
     ]
    }
   ],
   "source": [
    "## Test Return of all results\n",
    "hoteltest = hotelsearch(atlanta[\"lat\"],atlanta[\"lng\"], allresults=True)\n",
    "print(hoteltest)"
   ]
  },
  {
   "cell_type": "code",
   "execution_count": 10,
   "metadata": {},
   "outputs": [],
   "source": [
    "# Object Returned\n",
    "\n",
    "# icon Hotel_Name photos place_id rating Lat Lng"
   ]
  },
  {
   "cell_type": "code",
   "execution_count": 11,
   "metadata": {},
   "outputs": [
    {
     "data": {
      "text/html": [
       "<div>\n",
       "<style scoped>\n",
       "    .dataframe tbody tr th:only-of-type {\n",
       "        vertical-align: middle;\n",
       "    }\n",
       "\n",
       "    .dataframe tbody tr th {\n",
       "        vertical-align: top;\n",
       "    }\n",
       "\n",
       "    .dataframe thead th {\n",
       "        text-align: right;\n",
       "    }\n",
       "</style>\n",
       "<table border=\"1\" class=\"dataframe\">\n",
       "  <thead>\n",
       "    <tr style=\"text-align: right;\">\n",
       "      <th></th>\n",
       "      <th>city</th>\n",
       "      <th>country</th>\n",
       "      <th>lat</th>\n",
       "      <th>lng</th>\n",
       "      <th>Hotel Name</th>\n",
       "    </tr>\n",
       "  </thead>\n",
       "  <tbody>\n",
       "    <tr>\n",
       "      <th>127</th>\n",
       "      <td>Richards Bay</td>\n",
       "      <td>ZA</td>\n",
       "      <td>-28.7830</td>\n",
       "      <td>32.0377</td>\n",
       "      <td></td>\n",
       "    </tr>\n",
       "    <tr>\n",
       "      <th>129</th>\n",
       "      <td>Santiago del Estero</td>\n",
       "      <td>AR</td>\n",
       "      <td>-27.7951</td>\n",
       "      <td>-64.2615</td>\n",
       "      <td></td>\n",
       "    </tr>\n",
       "    <tr>\n",
       "      <th>217</th>\n",
       "      <td>Nador</td>\n",
       "      <td>MA</td>\n",
       "      <td>35.1740</td>\n",
       "      <td>-2.9287</td>\n",
       "      <td></td>\n",
       "    </tr>\n",
       "    <tr>\n",
       "      <th>254</th>\n",
       "      <td>Zmiyiv</td>\n",
       "      <td>UA</td>\n",
       "      <td>49.6966</td>\n",
       "      <td>36.3611</td>\n",
       "      <td></td>\n",
       "    </tr>\n",
       "    <tr>\n",
       "      <th>299</th>\n",
       "      <td>Yangi Marg`ilon</td>\n",
       "      <td>UZ</td>\n",
       "      <td>40.4272</td>\n",
       "      <td>71.7189</td>\n",
       "      <td></td>\n",
       "    </tr>\n",
       "  </tbody>\n",
       "</table>\n",
       "</div>"
      ],
      "text/plain": [
       "                    city country      lat      lng Hotel Name\n",
       "127         Richards Bay      ZA -28.7830  32.0377           \n",
       "129  Santiago del Estero      AR -27.7951 -64.2615           \n",
       "217                Nador      MA  35.1740  -2.9287           \n",
       "254               Zmiyiv      UA  49.6966  36.3611           \n",
       "299      Yangi Marg`ilon      UZ  40.4272  71.7189           "
      ]
     },
     "execution_count": 11,
     "metadata": {},
     "output_type": "execute_result"
    }
   ],
   "source": [
    "hotel_df = short_listdf.loc[:,['city','country','lat','lng']]\n",
    "hotel_df['Hotel Name'] = \"\"\n",
    "hotel_df.head()"
   ]
  },
  {
   "cell_type": "code",
   "execution_count": 12,
   "metadata": {},
   "outputs": [
    {
     "name": "stderr",
     "output_type": "stream",
     "text": [
      "c:\\users\\210057028\\appdata\\local\\programs\\python\\python39\\lib\\site-packages\\numpy\\core\\_asarray.py:83: VisibleDeprecationWarning: Creating an ndarray from ragged nested sequences (which is a list-or-tuple of lists-or-tuples-or ndarrays with different lengths or shapes) is deprecated. If you meant to do this, you must specify 'dtype=object' when creating the ndarray\n",
      "  return array(a, dtype, copy=False, order=order)\n"
     ]
    },
    {
     "name": "stdout",
     "output_type": "stream",
     "text": [
      "1 of 10 : Searching for hotels near Richards Bay. \n",
      "\t Found Aristo Manor\n",
      "2 of 10 : Searching for hotels near Santiago del Estero. \n",
      "\t Found Plaza 3 Apart\n",
      "3 of 10 : Searching for hotels near Nador. \n",
      "\t Found HOTEL MASTER HOME\n",
      "4 of 10 : Searching for hotels near Zmiyiv. \n",
      "\t Found None, removing....\n",
      "5 of 10 : Searching for hotels near Yangi Marg`ilon. \n",
      "\t Found Minimalist\n",
      "6 of 10 : Searching for hotels near Afipskiy. \n",
      "\t Found None, removing....\n",
      "7 of 10 : Searching for hotels near Murgab. \n",
      "\t Found None, removing....\n",
      "8 of 10 : Searching for hotels near Siavonga. \n",
      "\t Found kariba inns\n",
      "9 of 10 : Searching for hotels near Havelock. \n",
      "\t Found Holiday Inn Express & Suites Havelock NW-New Bern, an IHG Hotel\n",
      "10 of 10 : Searching for hotels near Manakara. \n",
      "\t Found Hotel Antemoro\n"
     ]
    }
   ],
   "source": [
    "hotel_df = short_listdf.loc[:,['city','country','lat','lng']]\n",
    "\n",
    "search_counter = 0 \n",
    "hotel_df['Hotel Name'] = \"\"\n",
    "hotel_list = []\n",
    "\n",
    "# Adding more details\n",
    "hotel_df['hotel_place_id'] = \"\"\n",
    "hotel_df['hotel_rating'] = \"\"\n",
    "hotel_df['hotel_lat'] = \"\"\n",
    "hotel_df['hotel_lng'] = \"\"\n",
    "hotel_df['hotel_photos'] = \"\"\n",
    "\n",
    "nitems = len(hotel_df)\n",
    "for index, row in hotel_df.iterrows():\n",
    "    lat = row[\"lat\"]\n",
    "    lng = row[\"lng\"]\n",
    "    city_name = row[\"city\"]\n",
    "    search_counter = search_counter+1\n",
    "    \n",
    "    #Save the hotel name to the dataframe\n",
    "    try:\n",
    "        outtext = f\"{search_counter} of {nitems} : Searching for hotels near {city_name}. \\n\"\n",
    "        result=hotelsearch(lat,lng)\n",
    "        if result is not None:\n",
    "            hotel_list.append(result)\n",
    "            hotelname = result['Hotel_Name']\n",
    "            outtext = outtext + f\"\\t Found {hotelname}\"\n",
    "            hotel_df.loc[index, [\"Hotel Name\",\"hotel_place_id\",\"hotel_rating\",\"hotel_lat\",\"hotel_lng\",\"photos\"]] = [result['Hotel_Name'], result['place_id'],result['rating'],result['Lat'],result['Lng'],result['photos']]\n",
    "            print(outtext)\n",
    "        else:\n",
    "            outtext = outtext + f\"\\t Found {result}, removing....\"\n",
    "            hotel_df.drop(index)\n",
    "            print(outtext)\n",
    "    except (KeyError, IndexError) as e:\n",
    "        print(f\"Something Happend : {e}\")\n",
    "        #time.sleep(1)\n",
    "\n",
    "# Need to clean up   \n",
    "hotel_df = hotel_df.dropna()"
   ]
  },
  {
   "cell_type": "code",
   "execution_count": 15,
   "metadata": {},
   "outputs": [
    {
     "data": {
      "text/html": [
       "<div>\n",
       "<style scoped>\n",
       "    .dataframe tbody tr th:only-of-type {\n",
       "        vertical-align: middle;\n",
       "    }\n",
       "\n",
       "    .dataframe tbody tr th {\n",
       "        vertical-align: top;\n",
       "    }\n",
       "\n",
       "    .dataframe thead th {\n",
       "        text-align: right;\n",
       "    }\n",
       "</style>\n",
       "<table border=\"1\" class=\"dataframe\">\n",
       "  <thead>\n",
       "    <tr style=\"text-align: right;\">\n",
       "      <th></th>\n",
       "      <th>hotel_lat</th>\n",
       "      <th>hotel_lng</th>\n",
       "    </tr>\n",
       "  </thead>\n",
       "  <tbody>\n",
       "    <tr>\n",
       "      <th>127</th>\n",
       "      <td>-28.7403</td>\n",
       "      <td>32.0764</td>\n",
       "    </tr>\n",
       "    <tr>\n",
       "      <th>129</th>\n",
       "      <td>-27.793</td>\n",
       "      <td>-64.2509</td>\n",
       "    </tr>\n",
       "    <tr>\n",
       "      <th>217</th>\n",
       "      <td>35.1491</td>\n",
       "      <td>-2.90979</td>\n",
       "    </tr>\n",
       "    <tr>\n",
       "      <th>299</th>\n",
       "      <td>40.3804</td>\n",
       "      <td>71.7767</td>\n",
       "    </tr>\n",
       "    <tr>\n",
       "      <th>487</th>\n",
       "      <td>-16.5323</td>\n",
       "      <td>28.7111</td>\n",
       "    </tr>\n",
       "    <tr>\n",
       "      <th>500</th>\n",
       "      <td>34.892</td>\n",
       "      <td>-76.9264</td>\n",
       "    </tr>\n",
       "    <tr>\n",
       "      <th>532</th>\n",
       "      <td>-22.1584</td>\n",
       "      <td>48.0169</td>\n",
       "    </tr>\n",
       "  </tbody>\n",
       "</table>\n",
       "</div>"
      ],
      "text/plain": [
       "    hotel_lat hotel_lng\n",
       "127  -28.7403   32.0764\n",
       "129   -27.793  -64.2509\n",
       "217   35.1491  -2.90979\n",
       "299   40.3804   71.7767\n",
       "487  -16.5323   28.7111\n",
       "500    34.892  -76.9264\n",
       "532  -22.1584   48.0169"
      ]
     },
     "execution_count": 15,
     "metadata": {},
     "output_type": "execute_result"
    }
   ],
   "source": [
    "# NOTE: Do not change any of the code in this cell\n",
    "\n",
    "# Using the template add the hotel marks to the heatmap\n",
    "info_box_template = \"\"\"\n",
    "<dl>\n",
    "<dt>Name</dt><dd>{Hotel Name}</dd>\n",
    "<dt>City</dt><dd>{city}</dd>\n",
    "<dt>Country</dt><dd>{country}</dd>\n",
    "<dt>Rating</dt><dd>{hotel_rating}</dd>\n",
    "</dl>\n",
    "\"\"\"\n",
    "# Store the DataFrame Row\n",
    "# NOTE: be sure to update with your DataFrame name\n",
    "hotel_info = [info_box_template.format(**row) for index, row in hotel_df.iterrows()]\n",
    "locations = hotel_df[[\"hotel_lat\", \"hotel_lng\"]]\n",
    "hotel_df[[\"hotel_lat\", \"hotel_lng\"]]"
   ]
  },
  {
   "cell_type": "code",
   "execution_count": 16,
   "metadata": {},
   "outputs": [
    {
     "data": {
      "application/vnd.jupyter.widget-view+json": {
       "model_id": "1960f27d5bf841309f945b4eeacec3fd",
       "version_major": 2,
       "version_minor": 0
      },
      "text/plain": [
       "Figure(layout=FigureLayout(height='420px'))"
      ]
     },
     "metadata": {},
     "output_type": "display_data"
    }
   ],
   "source": [
    "# Add marker layer ontop of heat map\n",
    "markers = gmaps.marker_layer(locations, info_box_content = hotel_info)\n",
    "fig.add_layer(markers)\n",
    "# Display figure\n",
    "fig\n"
   ]
  },
  {
   "cell_type": "code",
   "execution_count": null,
   "metadata": {},
   "outputs": [],
   "source": []
  }
 ],
 "metadata": {
  "kernelspec": {
   "display_name": "Python 3",
   "language": "python",
   "name": "python3"
  },
  "language_info": {
   "codemirror_mode": {
    "name": "ipython",
    "version": 3
   },
   "file_extension": ".py",
   "mimetype": "text/x-python",
   "name": "python",
   "nbconvert_exporter": "python",
   "pygments_lexer": "ipython3",
   "version": "3.9.2"
  },
  "latex_envs": {
   "LaTeX_envs_menu_present": true,
   "autoclose": false,
   "autocomplete": true,
   "bibliofile": "biblio.bib",
   "cite_by": "apalike",
   "current_citInitial": 1,
   "eqLabelWithNumbers": true,
   "eqNumInitial": 1,
   "hotkeys": {
    "equation": "Ctrl-E",
    "itemize": "Ctrl-I"
   },
   "labels_anchors": false,
   "latex_user_defs": false,
   "report_style_numbering": false,
   "user_envs_cfg": false
  }
 },
 "nbformat": 4,
 "nbformat_minor": 4
}
