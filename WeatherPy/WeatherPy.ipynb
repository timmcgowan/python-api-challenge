{
 "cells": [
  {
   "cell_type": "markdown",
   "metadata": {},
   "source": [
    "# WeatherPy\n",
    "----\n",
    "\n",
    "#### Note\n",
    "* Instructions have been included for each segment. You do not have to follow them exactly, but they are included to help you think through the steps."
   ]
  },
  {
   "cell_type": "code",
   "execution_count": 1,
   "metadata": {
    "scrolled": true
   },
   "outputs": [],
   "source": [
    "# Dependencies and Setup\n",
    "import matplotlib.pyplot as plt\n",
    "import pandas as pd\n",
    "import numpy as np\n",
    "import requests\n",
    "import time\n",
    "from scipy.stats import linregress\n",
    "\n",
    "from concurrent.futures import ThreadPoolExecutor, as_completed\n",
    "\n",
    "\n",
    "# Import API key\n",
    "from api_keys import weather_api_key\n",
    "\n",
    "# Incorporated citipy to determine city based on latitude and longitude\n",
    "from citipy import citipy\n",
    "\n",
    "# Output File (CSV)\n",
    "output_data_file = \"output_data/cities.csv\"\n",
    "\n",
    "# Range of latitudes and longitudes\n",
    "lat_range = (-90, 90)\n",
    "lng_range = (-180, 180)"
   ]
  },
  {
   "cell_type": "markdown",
   "metadata": {},
   "source": [
    "## Generate Cities List"
   ]
  },
  {
   "cell_type": "code",
   "execution_count": 2,
   "metadata": {},
   "outputs": [
    {
     "data": {
      "text/plain": [
       "606"
      ]
     },
     "execution_count": 2,
     "metadata": {},
     "output_type": "execute_result"
    }
   ],
   "source": [
    "# List for holding lat_lngs and cities\n",
    "lat_lngs = []\n",
    "cities = []\n",
    "\n",
    "# Create a set of random lat and lng combinations\n",
    "lats = np.random.uniform(lat_range[0], lat_range[1], size=1500)\n",
    "lngs = np.random.uniform(lng_range[0], lng_range[1], size=1500)\n",
    "lat_lngs = zip(lats, lngs)\n",
    "\n",
    "# Identify nearest city for each lat, lng combination\n",
    "for lat_lng in lat_lngs:\n",
    "    city = citipy.nearest_city(lat_lng[0], lat_lng[1]).city_name\n",
    "    \n",
    "    # If the city is unique, then add it to a our cities list\n",
    "    if city not in cities:\n",
    "        cities.append(city)\n",
    "\n",
    "# Print the city count to confirm sufficient count\n",
    "len(cities)"
   ]
  },
  {
   "cell_type": "markdown",
   "metadata": {},
   "source": [
    "## Config"
   ]
  },
  {
   "cell_type": "code",
   "execution_count": 3,
   "metadata": {},
   "outputs": [],
   "source": [
    "# Configuration Details for openweather API.\n",
    "url = \"http://api.openweathermap.org/data/2.5/weather?\"\n",
    "units = \"imperial\"\n",
    "\n",
    "# Build partial query URL\n",
    "query_url = f\"{url}appid={weather_api_key}&units={units}&q=\"\n",
    "\n",
    "## Function to get stats for a city, using above config details  \n",
    "def getCityStats(qurl, city):\n",
    "    try:\n",
    "        cstats = {}\n",
    "        response = requests.get(qurl + city).json()\n",
    "        cstats['city'] = city\n",
    "        cstats['lat'] = response['coord']['lat']\n",
    "        cstats['temp'] = response['main']['temp']\n",
    "        cstats['humidity'] = response['main']['humidity']\n",
    "        cstats['cloudiness'] = response['clouds']['all']\n",
    "        cstats['windspeed'] = response['wind']['speed']\n",
    "        return cstats\n",
    "    except KeyError:\n",
    "        e = f\"{city} \\n City not found. Skipping...\"\n",
    "        return e\n",
    "    \n",
    "# This runner will output a list of dictionaries, using the city stat getter\n",
    "# This runnder uses a configurable worker setting, to allow for better speed.  \n",
    "# I have tested it with 5 workers, and it is much faster, However .....\n",
    "# BE CAREFUL! OpenWeather API limits you. You will get key errors if you reach your limit.\n",
    "def runner(searchlist):\n",
    "    threads = []\n",
    "    cstat_list = []\n",
    "    nitems = len(searchlist)\n",
    "    with ThreadPoolExecutor(max_workers=3) as executor:\n",
    "        counter = 0 \n",
    "        for city in searchlist:\n",
    "            threads.append(executor.submit(getCityStats, query_url, city))\n",
    "            \n",
    "        for task in as_completed(threads):\n",
    "            counter = counter+1\n",
    "            outtext = f\"Processing Record {counter} of {nitems} | \"\n",
    "            rs = task.result()\n",
    "            if type(rs) is dict:\n",
    "                cstat_list.append(rs)\n",
    "                print(outtext, rs['city'])\n",
    "            else:\n",
    "                print(outtext, task.result())\n",
    "    print(len(cstat_list), \"Successfully Collected\")            \n",
    "    return cstat_list"
   ]
  },
  {
   "cell_type": "markdown",
   "metadata": {},
   "source": [
    "### Perform API Calls\n",
    "* Perform a weather check on each city using a series of successive API calls.\n",
    "* Include a print log of each city as it'sbeing processed (with the city number and city name).\n"
   ]
  },
  {
   "cell_type": "code",
   "execution_count": 4,
   "metadata": {},
   "outputs": [
    {
     "name": "stdout",
     "output_type": "stream",
     "text": [
      "{'city': 'misratah', 'lat': 32.3754, 'temp': 67.82, 'humidity': 66, 'cloudiness': 97, 'windspeed': 7.81}\n"
     ]
    }
   ],
   "source": [
    "# Test Check to validate connectivity and reponse format\n",
    "print(getCityStats(query_url, cities[1]))"
   ]
  },
  {
   "cell_type": "code",
   "execution_count": 5,
   "metadata": {},
   "outputs": [
    {
     "name": "stdout",
     "output_type": "stream",
     "text": [
      "Processing Record 1 of 606 |  vao\n",
      "Processing Record 2 of 606 |  misratah\n",
      "Processing Record 3 of 606 |  butaritari\n",
      "Processing Record 4 of 606 |  lompoc\n",
      "Processing Record 5 of 606 |  kavaratti\n",
      "Processing Record 6 of 606 |  khandyga\n",
      "Processing Record 7 of 606 |  nikolskoye\n",
      "Processing Record 8 of 606 |  salisbury\n",
      "Processing Record 9 of 606 |  raymondville\n",
      "Processing Record 10 of 606 |  busselton\n",
      "Processing Record 11 of 606 |  rikitea\n",
      "Processing Record 12 of 606 |  hihifo \n",
      " City not found. Skipping...\n",
      "Processing Record 13 of 606 |  bluff\n",
      "Processing Record 14 of 606 |  mataura\n",
      "Processing Record 15 of 606 |  new norfolk\n",
      "Processing Record 16 of 606 |  mar del plata\n",
      "Processing Record 17 of 606 |  bengkulu\n",
      "Processing Record 18 of 606 |  nome\n",
      "Processing Record 19 of 606 |  auki\n",
      "Processing Record 20 of 606 |  kushima\n",
      "Processing Record 21 of 606 |  albany\n",
      "Processing Record 22 of 606 |  talnakh\n",
      "Processing Record 23 of 606 |  hobart\n",
      "Processing Record 24 of 606 |  qaanaaq\n",
      "Processing Record 25 of 606 |  vaini\n",
      "Processing Record 26 of 606 |  bahia blanca\n",
      "Processing Record 27 of 606 |  hovd\n",
      "Processing Record 28 of 606 |  olga\n",
      "Processing Record 29 of 606 |  illoqqortoormiut \n",
      " City not found. Skipping...\n",
      "Processing Record 30 of 606 |  ushuaia\n",
      "Processing Record 31 of 606 |  ponta do sol\n",
      "Processing Record 32 of 606 |  sangar\n",
      "Processing Record 33 of 606 |  punta arenas\n",
      "Processing Record 34 of 606 |  atuona\n",
      "Processing Record 35 of 606 |  angoche\n",
      "Processing Record 36 of 606 |  muncar\n",
      "Processing Record 37 of 606 |  kodiak\n",
      "Processing Record 38 of 606 |  barrow\n",
      "Processing Record 39 of 606 |  hilo\n",
      "Processing Record 40 of 606 |  qaqortoq\n",
      "Processing Record 41 of 606 |  itarema\n",
      "Processing Record 42 of 606 |  barentsburg \n",
      " City not found. Skipping...\n",
      "Processing Record 43 of 606 |  coari\n",
      "Processing Record 44 of 606 |  ranong\n",
      "Processing Record 45 of 606 |  kazalinsk \n",
      " City not found. Skipping...\n",
      "Processing Record 46 of 606 |  yarim\n",
      "Processing Record 47 of 606 |  tiksi\n",
      "Processing Record 48 of 606 |  bredasdorp\n",
      "Processing Record 49 of 606 |  havre-saint-pierre\n",
      "Processing Record 50 of 606 |  port alfred\n",
      "Processing Record 51 of 606 |  bodden town\n",
      "Processing Record 52 of 606 |  port shepstone\n",
      "Processing Record 53 of 606 |  toftir \n",
      " City not found. Skipping...\n",
      "Processing Record 54 of 606 |  alofi\n",
      "Processing Record 55 of 606 |  gat\n",
      "Processing Record 56 of 606 |  setubal\n",
      "Processing Record 57 of 606 |  ribeira grande\n",
      "Processing Record 58 of 606 |  namibe\n",
      "Processing Record 59 of 606 |  votkinsk\n",
      "Processing Record 60 of 606 |  castro\n",
      "Processing Record 61 of 606 |  grindavik\n",
      "Processing Record 62 of 606 |  altamira\n",
      "Processing Record 63 of 606 |  hithadhoo\n",
      "Processing Record 64 of 606 |  bartica\n",
      "Processing Record 65 of 606 |  naze\n",
      "Processing Record 66 of 606 |  port lincoln\n",
      "Processing Record 67 of 606 |  correggio\n",
      "Processing Record 68 of 606 |  fukue\n",
      "Processing Record 69 of 606 |  nizhneyansk \n",
      " City not found. Skipping...\n",
      "Processing Record 70 of 606 |  victor harbor\n",
      "Processing Record 71 of 606 |  tuatapere\n",
      "Processing Record 72 of 606 |  nhulunbuy\n",
      "Processing Record 73 of 606 |  caxito\n",
      "Processing Record 74 of 606 |  nantucket\n",
      "Processing Record 75 of 606 |  ilulissat\n",
      "Processing Record 76 of 606 |  samusu \n",
      " City not found. Skipping...\n",
      "Processing Record 77 of 606 |  cape town\n",
      "Processing Record 78 of 606 |  taolanaro \n",
      " City not found. Skipping...\n",
      "Processing Record 79 of 606 |  saint-philippe\n",
      "Processing Record 80 of 606 |  attawapiskat \n",
      " City not found. Skipping...\n",
      "Processing Record 81 of 606 |  umzimvubu \n",
      " City not found. Skipping...\n",
      "Processing Record 82 of 606 |  brigantine\n",
      "Processing Record 83 of 606 |  havoysund\n",
      "Processing Record 84 of 606 |  chulym\n",
      "Processing Record 85 of 606 |  luanda\n",
      "Processing Record 86 of 606 |  broken hill\n",
      "Processing Record 87 of 606 |  vardo\n",
      "Processing Record 88 of 606 |  khlung\n",
      "Processing Record 89 of 606 |  vila velha\n",
      "Processing Record 90 of 606 |  saint anthony\n",
      "Processing Record 91 of 606 |  east london\n",
      "Processing Record 92 of 606 |  fortuna\n",
      "Processing Record 93 of 606 |  saldanha\n",
      "Processing Record 94 of 606 |  san carlos del zulia\n",
      "Processing Record 95 of 606 |  kabalo\n",
      "Processing Record 96 of 606 |  dunedin\n",
      "Processing Record 97 of 606 |  belushya guba \n",
      " City not found. Skipping...\n",
      "Processing Record 98 of 606 |  axim\n",
      "Processing Record 99 of 606 |  isangel\n",
      "Processing Record 100 of 606 |  portland\n",
      "Processing Record 101 of 606 |  georgetown\n",
      "Processing Record 102 of 606 |  the valley\n",
      "Processing Record 103 of 606 |  weatherford\n",
      "Processing Record 104 of 606 |  marsh harbour\n",
      "Processing Record 105 of 606 |  luderitz\n",
      "Processing Record 106 of 606 |  turukhansk\n",
      "Processing Record 107 of 606 |  ancud\n",
      "Processing Record 108 of 606 |  waynesville\n",
      "Processing Record 109 of 606 |  yellowknife\n",
      "Processing Record 110 of 606 |  dicabisagan\n",
      "Processing Record 111 of 606 |  ajaccio\n",
      "Processing Record 112 of 606 |  lasa\n",
      "Processing Record 113 of 606 |  hermanus\n",
      "Processing Record 114 of 606 |  okha\n",
      "Processing Record 115 of 606 |  saleaula \n",
      " City not found. Skipping...\n",
      "Processing Record 116 of 606 |  esperance\n",
      "Processing Record 117 of 606 |  kasongo-lunda\n",
      "Processing Record 118 of 606 |  caravelas\n",
      "Processing Record 119 of 606 |  gazanjyk\n",
      "Processing Record 120 of 606 |  inhambane\n",
      "Processing Record 121 of 606 |  iqaluit\n",
      "Processing Record 122 of 606 |  avarua\n",
      "Processing Record 123 of 606 |  saint-pierre\n",
      "Processing Record 124 of 606 |  dingle\n",
      "Processing Record 125 of 606 |  beringovskiy\n",
      "Processing Record 126 of 606 |  tumannyy \n",
      " City not found. Skipping...\n",
      "Processing Record 127 of 606 |  ossora\n",
      "Processing Record 128 of 606 |  tsihombe \n",
      " City not found. Skipping...\n",
      "Processing Record 129 of 606 |  chuy\n",
      "Processing Record 130 of 606 |  shrewsbury\n",
      "Processing Record 131 of 606 |  lorengau\n",
      "Processing Record 132 of 606 |  igrim\n",
      "Processing Record 133 of 606 |  aklavik\n",
      "Processing Record 134 of 606 |  pevek\n",
      "Processing Record 135 of 606 |  cidreira\n",
      "Processing Record 136 of 606 |  frunze\n",
      "Processing Record 137 of 606 |  batagay-alyta\n",
      "Processing Record 138 of 606 |  kununurra\n",
      "Processing Record 139 of 606 |  ondjiva\n",
      "Processing Record 140 of 606 |  mackenzie\n",
      "Processing Record 141 of 606 |  fare\n",
      "Processing Record 142 of 606 |  albolote\n",
      "Processing Record 143 of 606 |  arraial do cabo\n",
      "Processing Record 144 of 606 |  husavik\n",
      "Processing Record 145 of 606 |  huntington beach\n",
      "Processing Record 146 of 606 |  jiuquan\n",
      "Processing Record 147 of 606 |  petropavlovsk-kamchatskiy\n",
      "Processing Record 148 of 606 |  korablino\n",
      "Processing Record 149 of 606 |  hasaki\n",
      "Processing Record 150 of 606 |  victoria\n",
      "Processing Record 151 of 606 |  faanui\n",
      "Processing Record 152 of 606 |  praia da vitoria\n",
      "Processing Record 153 of 606 |  salym\n",
      "Processing Record 154 of 606 |  changji\n",
      "Processing Record 155 of 606 |  feicheng\n",
      "Processing Record 156 of 606 |  palana\n",
      "Processing Record 157 of 606 |  sao filipe\n",
      "Processing Record 158 of 606 |  bambous virieux\n",
      "Processing Record 159 of 606 |  mogadishu\n",
      "Processing Record 160 of 606 |  sinnamary\n",
      "Processing Record 161 of 606 |  mahebourg\n",
      "Processing Record 162 of 606 |  jamestown\n",
      "Processing Record 163 of 606 |  geraldton\n",
      "Processing Record 164 of 606 |  port hedland\n",
      "Processing Record 165 of 606 |  emerald\n",
      "Processing Record 166 of 606 |  luwuk\n",
      "Processing Record 167 of 606 |  kargasok\n",
      "Processing Record 168 of 606 |  tiznit\n",
      "Processing Record 169 of 606 |  hami\n",
      "Processing Record 170 of 606 |  mandalgovi\n",
      "Processing Record 171 of 606 |  semirom\n",
      "Processing Record 172 of 606 |  amderma \n",
      " City not found. Skipping...\n",
      "Processing Record 173 of 606 |  abnub\n",
      "Processing Record 174 of 606 |  mabaruma\n",
      "Processing Record 175 of 606 |  puerto ayora\n",
      "Processing Record 176 of 606 |  miri\n",
      "Processing Record 177 of 606 |  sheboygan\n",
      "Processing Record 178 of 606 |  revelstoke\n",
      "Processing Record 179 of 606 |  lebu\n",
      "Processing Record 180 of 606 |  dikson\n",
      "Processing Record 181 of 606 |  kavieng\n",
      "Processing Record 182 of 606 |  guadalupe y calvo\n",
      "Processing Record 183 of 606 |  da nang\n",
      "Processing Record 184 of 606 |  mount pleasant\n",
      "Processing Record 185 of 606 |  sitka\n",
      "Processing Record 186 of 606 |  rio gallegos\n",
      "Processing Record 187 of 606 |  klaksvik\n",
      "Processing Record 188 of 606 |  zhigansk\n",
      "Processing Record 189 of 606 |  upernavik\n",
      "Processing Record 190 of 606 |  wuwei\n",
      "Processing Record 191 of 606 |  chokurdakh\n",
      "Processing Record 192 of 606 |  coahuayana\n"
     ]
    },
    {
     "name": "stdout",
     "output_type": "stream",
     "text": [
      "Processing Record 193 of 606 |  torbay\n",
      "Processing Record 194 of 606 |  kapaa\n",
      "Processing Record 195 of 606 |  upata\n",
      "Processing Record 196 of 606 |  kahului\n",
      "Processing Record 197 of 606 |  lockhart\n",
      "Processing Record 198 of 606 |  jizan\n",
      "Processing Record 199 of 606 |  gamba\n",
      "Processing Record 200 of 606 |  sao jose da coroa grande\n",
      "Processing Record 201 of 606 |  elizabeth city\n",
      "Processing Record 202 of 606 |  thinadhoo\n",
      "Processing Record 203 of 606 |  longyearbyen\n",
      "Processing Record 204 of 606 |  kirakira\n",
      "Processing Record 205 of 606 |  roald\n",
      "Processing Record 206 of 606 |  luzhou\n",
      "Processing Record 207 of 606 |  russell\n",
      "Processing Record 208 of 606 |  bauru\n",
      "Processing Record 209 of 606 |  meulaboh\n",
      "Processing Record 210 of 606 |  vaitupu \n",
      " City not found. Skipping...\n",
      "Processing Record 211 of 606 |  shu\n",
      "Processing Record 212 of 606 |  ambulu\n",
      "Processing Record 213 of 606 |  schwabisch gmund\n",
      "Processing Record 214 of 606 |  grand river south east \n",
      " City not found. Skipping...\n",
      "Processing Record 215 of 606 |  antofagasta\n",
      "Processing Record 216 of 606 |  college\n",
      "Processing Record 217 of 606 |  port hardy\n",
      "Processing Record 218 of 606 |  port elizabeth\n",
      "Processing Record 219 of 606 |  vonnu \n",
      " City not found. Skipping...\n",
      "Processing Record 220 of 606 |  narrabri\n",
      "Processing Record 221 of 606 |  severo-kurilsk\n",
      "Processing Record 222 of 606 |  leningradskiy\n",
      "Processing Record 223 of 606 |  jetpur\n",
      "Processing Record 224 of 606 |  san jose\n",
      "Processing Record 225 of 606 |  marcona \n",
      " City not found. Skipping...\n",
      "Processing Record 226 of 606 |  yining\n",
      "Processing Record 227 of 606 |  north bay\n",
      "Processing Record 228 of 606 |  karratha\n",
      "Processing Record 229 of 606 |  stende\n",
      "Processing Record 230 of 606 |  saint-augustin\n",
      "Processing Record 231 of 606 |  arawa\n",
      "Processing Record 232 of 606 |  san quintin\n",
      "Processing Record 233 of 606 |  xuzhou\n",
      "Processing Record 234 of 606 |  dourbali\n",
      "Processing Record 235 of 606 |  grand-lahou\n",
      "Processing Record 236 of 606 |  zhezkazgan\n",
      "Processing Record 237 of 606 |  baoying\n",
      "Processing Record 238 of 606 |  laguna\n",
      "Processing Record 239 of 606 |  athabasca\n",
      "Processing Record 240 of 606 |  jeremoabo\n",
      "Processing Record 241 of 606 |  palabuhanratu \n",
      " City not found. Skipping...\n",
      "Processing Record 242 of 606 |  thompson\n",
      "Processing Record 243 of 606 |  inuvik\n",
      "Processing Record 244 of 606 |  atar\n",
      "Processing Record 245 of 606 |  coquimbo\n",
      "Processing Record 246 of 606 |  aswan\n",
      "Processing Record 247 of 606 |  sechura\n",
      "Processing Record 248 of 606 |  olonets\n",
      "Processing Record 249 of 606 |  phek\n",
      "Processing Record 250 of 606 |  te anau\n",
      "Processing Record 251 of 606 |  preobrazheniye\n",
      "Processing Record 252 of 606 |  haines junction\n",
      "Processing Record 253 of 606 |  mayo\n",
      "Processing Record 254 of 606 |  mount isa\n",
      "Processing Record 255 of 606 |  taoudenni\n",
      "Processing Record 256 of 606 |  poum\n",
      "Processing Record 257 of 606 |  beaverlodge\n",
      "Processing Record 258 of 606 |  kruisfontein\n",
      "Processing Record 259 of 606 |  aykhal\n",
      "Processing Record 260 of 606 |  bonavista\n",
      "Processing Record 261 of 606 |  rantepao\n",
      "Processing Record 262 of 606 |  mendi\n",
      "Processing Record 263 of 606 |  kulhudhuffushi\n",
      "Processing Record 264 of 606 |  labrea\n",
      "Processing Record 265 of 606 |  clyde river\n",
      "Processing Record 266 of 606 |  izberbash\n",
      "Processing Record 267 of 606 |  tibati\n",
      "Processing Record 268 of 606 |  nemuro\n",
      "Processing Record 269 of 606 |  kashary\n",
      "Processing Record 270 of 606 |  porto belo\n",
      "Processing Record 271 of 606 |  calama\n",
      "Processing Record 272 of 606 |  teberda\n",
      "Processing Record 273 of 606 |  bella union\n",
      "Processing Record 274 of 606 |  tasiilaq\n",
      "Processing Record 275 of 606 |  gboko\n",
      "Processing Record 276 of 606 |  oktyabrskiy\n",
      "Processing Record 277 of 606 |  mount gambier\n",
      "Processing Record 278 of 606 |  kaitangata\n",
      "Processing Record 279 of 606 |  cabo san lucas\n",
      "Processing Record 280 of 606 |  honningsvag\n",
      "Processing Record 281 of 606 |  zenzeli\n",
      "Processing Record 282 of 606 |  hofn\n",
      "Processing Record 283 of 606 |  saint george\n",
      "Processing Record 284 of 606 |  hambantota\n",
      "Processing Record 285 of 606 |  jining\n",
      "Processing Record 286 of 606 |  stamford\n",
      "Processing Record 287 of 606 |  sile\n",
      "Processing Record 288 of 606 |  umm kaddadah\n",
      "Processing Record 289 of 606 |  mys shmidta \n",
      " City not found. Skipping...\n",
      "Processing Record 290 of 606 |  sibolga\n",
      "Processing Record 291 of 606 |  lukovetskiy\n",
      "Processing Record 292 of 606 |  boa vista\n",
      "Processing Record 293 of 606 |  shenzhen\n",
      "Processing Record 294 of 606 |  nanortalik\n",
      "Processing Record 295 of 606 |  saskylakh\n",
      "Processing Record 296 of 606 |  lagoa\n",
      "Processing Record 297 of 606 |  tezu\n",
      "Processing Record 298 of 606 |  san juan\n",
      "Processing Record 299 of 606 |  itanagar\n",
      "Processing Record 300 of 606 |  verkhniye tatyshly\n",
      "Processing Record 301 of 606 |  sumbawa \n",
      " City not found. Skipping...\n",
      "Processing Record 302 of 606 |  constitucion\n",
      "Processing Record 303 of 606 |  columbus\n",
      "Processing Record 304 of 606 |  alyangula\n",
      "Processing Record 305 of 606 |  catarama\n",
      "Processing Record 306 of 606 |  sept-iles\n",
      "Processing Record 307 of 606 |  aksu\n",
      "Processing Record 308 of 606 |  makakilo city\n",
      "Processing Record 309 of 606 |  presidencia roque saenz pena\n",
      "Processing Record 310 of 606 |  vrangel\n",
      "Processing Record 311 of 606 |  marsa matruh\n",
      "Processing Record 312 of 606 |  oneonta\n",
      "Processing Record 313 of 606 |  athens\n",
      "Processing Record 314 of 606 |  chitral\n",
      "Processing Record 315 of 606 |  kuche \n",
      " City not found. Skipping...\n",
      "Processing Record 316 of 606 |  aasiaat\n",
      "Processing Record 317 of 606 |  waddan\n",
      "Processing Record 318 of 606 |  harper\n",
      "Processing Record 319 of 606 |  pangnirtung\n",
      "Processing Record 320 of 606 |  shetpe\n",
      "Processing Record 321 of 606 |  mozhga\n",
      "Processing Record 322 of 606 |  galgani \n",
      " City not found. Skipping...\n",
      "Processing Record 323 of 606 |  abapo\n",
      "Processing Record 324 of 606 |  mchinji\n",
      "Processing Record 325 of 606 |  pringsewu\n",
      "Processing Record 326 of 606 |  dwarka\n",
      "Processing Record 327 of 606 |  khatanga\n",
      "Processing Record 328 of 606 |  muroto\n",
      "Processing Record 329 of 606 |  yar-sale\n",
      "Processing Record 330 of 606 |  eirunepe\n",
      "Processing Record 331 of 606 |  peleduy\n",
      "Processing Record 332 of 606 |  lugovoy\n",
      "Processing Record 333 of 606 |  nouadhibou\n",
      "Processing Record 334 of 606 |  souillac\n",
      "Processing Record 335 of 606 |  singaparna\n",
      "Processing Record 336 of 606 |  mutsamudu \n",
      " City not found. Skipping...\n",
      "Processing Record 337 of 606 |  mocuba\n",
      "Processing Record 338 of 606 |  carnarvon\n",
      "Processing Record 339 of 606 |  westport\n",
      "Processing Record 340 of 606 |  corinto\n",
      "Processing Record 341 of 606 |  amapa\n",
      "Processing Record 342 of 606 |  bathsheba\n",
      "Processing Record 343 of 606 |  diego de almagro\n",
      "Processing Record 344 of 606 |  mehamn\n",
      "Processing Record 345 of 606 |  cody\n",
      "Processing Record 346 of 606 |  parabel\n",
      "Processing Record 347 of 606 |  chase\n",
      "Processing Record 348 of 606 |  sentyabrskiy \n",
      " City not found. Skipping...\n",
      "Processing Record 349 of 606 |  airai\n",
      "Processing Record 350 of 606 |  erenhot\n",
      "Processing Record 351 of 606 |  avera\n",
      "Processing Record 352 of 606 |  conde\n",
      "Processing Record 353 of 606 |  vad\n",
      "Processing Record 354 of 606 |  el dorado\n",
      "Processing Record 355 of 606 |  sataua \n",
      " City not found. Skipping...\n",
      "Processing Record 356 of 606 |  yumen\n",
      "Processing Record 357 of 606 |  kloulklubed\n",
      "Processing Record 358 of 606 |  puerto narino\n",
      "Processing Record 359 of 606 |  katsuura\n",
      "Processing Record 360 of 606 |  la romana\n",
      "Processing Record 361 of 606 |  bilibino\n",
      "Processing Record 362 of 606 |  ye \n",
      " City not found. Skipping...\n",
      "Processing Record 363 of 606 |  poya\n",
      "Processing Record 364 of 606 |  ouallam\n",
      "Processing Record 365 of 606 |  tessalit\n",
      "Processing Record 366 of 606 |  sioux lookout\n",
      "Processing Record 367 of 606 |  richards bay\n",
      "Processing Record 368 of 606 |  bubaque\n",
      "Processing Record 369 of 606 |  los llanos de aridane\n",
      "Processing Record 370 of 606 |  galesong\n",
      "Processing Record 371 of 606 |  kitakata\n",
      "Processing Record 372 of 606 |  ola\n",
      "Processing Record 373 of 606 |  soni\n",
      "Processing Record 374 of 606 |  krasnoselkup\n",
      "Processing Record 375 of 606 |  joensuu\n",
      "Processing Record 376 of 606 |  valle de allende\n",
      "Processing Record 377 of 606 |  taperoa\n",
      "Processing Record 378 of 606 |  rosario do sul\n",
      "Processing Record 379 of 606 |  gus-zheleznyy\n",
      "Processing Record 380 of 606 |  chapais\n",
      "Processing Record 381 of 606 |  rocha\n"
     ]
    },
    {
     "name": "stdout",
     "output_type": "stream",
     "text": [
      "Processing Record 382 of 606 |  sabang\n",
      "Processing Record 383 of 606 |  jumla\n",
      "Processing Record 384 of 606 |  bethel\n",
      "Processing Record 385 of 606 |  sarhari\n",
      "Processing Record 386 of 606 |  shimoda\n",
      "Processing Record 387 of 606 |  williams lake\n",
      "Processing Record 388 of 606 |  camas\n",
      "Processing Record 389 of 606 |  altamont\n",
      "Processing Record 390 of 606 |  dujuma \n",
      " City not found. Skipping...\n",
      "Processing Record 391 of 606 |  narsaq\n",
      "Processing Record 392 of 606 |  patacamaya\n",
      "Processing Record 393 of 606 |  porto novo\n",
      "Processing Record 394 of 606 |  concordia\n",
      "Processing Record 395 of 606 |  sao joao da barra\n",
      "Processing Record 396 of 606 |  palkino\n",
      "Processing Record 397 of 606 |  dunmore town\n",
      "Processing Record 398 of 606 |  kidal\n",
      "Processing Record 399 of 606 |  teya\n",
      "Processing Record 400 of 606 |  cherskiy\n",
      "Processing Record 401 of 606 |  egvekinot\n",
      "Processing Record 402 of 606 |  lata\n",
      "Processing Record 403 of 606 |  soyo\n",
      "Processing Record 404 of 606 |  paamiut\n",
      "Processing Record 405 of 606 |  bambanglipuro\n",
      "Processing Record 406 of 606 |  san jeronimo\n",
      "Processing Record 407 of 606 |  vestmannaeyjar\n",
      "Processing Record 408 of 606 |  ambilobe\n",
      "Processing Record 409 of 606 |  la tuque\n",
      "Processing Record 410 of 606 |  ixtapa\n",
      "Processing Record 411 of 606 |  izhma\n",
      "Processing Record 412 of 606 |  ruwi\n",
      "Processing Record 413 of 606 |  kuytun\n",
      "Processing Record 414 of 606 |  huarmey\n",
      "Processing Record 415 of 606 |  komsomolskiy\n",
      "Processing Record 416 of 606 |  ketchikan\n",
      "Processing Record 417 of 606 |  campos sales\n",
      "Processing Record 418 of 606 |  xining\n",
      "Processing Record 419 of 606 |  eureka\n",
      "Processing Record 420 of 606 |  cheuskiny \n",
      " City not found. Skipping...\n",
      "Processing Record 421 of 606 |  ulubaria \n",
      " City not found. Skipping...\n",
      "Processing Record 422 of 606 |  moose factory\n",
      "Processing Record 423 of 606 |  tazmalt\n",
      "Processing Record 424 of 606 |  andenes\n",
      "Processing Record 425 of 606 |  mukhen\n",
      "Processing Record 426 of 606 |  aanekoski\n",
      "Processing Record 427 of 606 |  olinda\n",
      "Processing Record 428 of 606 |  port macquarie\n",
      "Processing Record 429 of 606 |  pampierstad\n",
      "Processing Record 430 of 606 |  saint-ambroise\n",
      "Processing Record 431 of 606 |  coihaique\n",
      "Processing Record 432 of 606 |  scarborough\n",
      "Processing Record 433 of 606 |  lucea\n",
      "Processing Record 434 of 606 |  gazli\n",
      "Processing Record 435 of 606 |  muros\n",
      "Processing Record 436 of 606 |  manado\n",
      "Processing Record 437 of 606 |  tazovskiy\n",
      "Processing Record 438 of 606 |  norman wells\n",
      "Processing Record 439 of 606 |  tartagal\n",
      "Processing Record 440 of 606 |  ribeira brava\n",
      "Processing Record 441 of 606 |  kousseri\n",
      "Processing Record 442 of 606 |  deputatskiy\n",
      "Processing Record 443 of 606 |  santa maria\n",
      "Processing Record 444 of 606 |  oia\n",
      "Processing Record 445 of 606 |  koshurnikovo\n",
      "Processing Record 446 of 606 |  ulladulla\n",
      "Processing Record 447 of 606 |  angermunde\n",
      "Processing Record 448 of 606 |  trincomalee\n",
      "Processing Record 449 of 606 |  tuktoyaktuk\n",
      "Processing Record 450 of 606 |  uruzgan\n",
      "Processing Record 451 of 606 |  uray\n",
      "Processing Record 452 of 606 |  ostersund\n",
      "Processing Record 453 of 606 |  san patricio\n",
      "Processing Record 454 of 606 |  ciudad bolivar\n",
      "Processing Record 455 of 606 |  olafsvik\n",
      "Processing Record 456 of 606 |  saint-francois\n",
      "Processing Record 457 of 606 |  faya\n",
      "Processing Record 458 of 606 |  bilma\n",
      "Processing Record 459 of 606 |  ferrol\n",
      "Processing Record 460 of 606 |  vanimo\n",
      "Processing Record 461 of 606 |  storm lake\n",
      "Processing Record 462 of 606 |  trinidad\n",
      "Processing Record 463 of 606 |  tynda\n",
      "Processing Record 464 of 606 |  takoradi\n",
      "Processing Record 465 of 606 |  gilgit\n",
      "Processing Record 466 of 606 |  la ronge\n",
      "Processing Record 467 of 606 |  ko samui\n",
      "Processing Record 468 of 606 |  bose\n",
      "Processing Record 469 of 606 |  cravo norte\n",
      "Processing Record 470 of 606 |  rosarito\n",
      "Processing Record 471 of 606 |  east chicago\n",
      "Processing Record 472 of 606 |  dudinka\n",
      "Processing Record 473 of 606 |  basco\n",
      "Processing Record 474 of 606 |  salalah\n",
      "Processing Record 475 of 606 |  marzuq\n",
      "Processing Record 476 of 606 |  malindi\n",
      "Processing Record 477 of 606 |  beausejour\n",
      "Processing Record 478 of 606 |  coruripe\n",
      "Processing Record 479 of 606 |  lalomanu \n",
      " City not found. Skipping...\n",
      "Processing Record 480 of 606 |  sug-aksy \n",
      " City not found. Skipping...\n",
      "Processing Record 481 of 606 |  kalakamati\n",
      "Processing Record 482 of 606 |  yenagoa\n",
      "Processing Record 483 of 606 |  skjervoy\n",
      "Processing Record 484 of 606 |  ndele\n",
      "Processing Record 485 of 606 |  viedma\n",
      "Processing Record 486 of 606 |  kholmogory\n",
      "Processing Record 487 of 606 |  yomitan \n",
      " City not found. Skipping...\n",
      "Processing Record 488 of 606 |  hamilton\n",
      "Processing Record 489 of 606 |  zeliezovce\n",
      "Processing Record 490 of 606 |  pemalang\n",
      "Processing Record 491 of 606 |  redmond\n",
      "Processing Record 492 of 606 |  kampot\n",
      "Processing Record 493 of 606 |  itoman\n",
      "Processing Record 494 of 606 |  lyubech\n",
      "Processing Record 495 of 606 |  znamenskoye\n",
      "Processing Record 496 of 606 |  champerico\n",
      "Processing Record 497 of 606 |  san policarpo\n",
      "Processing Record 498 of 606 |  ostrovnoy\n",
      "Processing Record 499 of 606 |  bristol\n",
      "Processing Record 500 of 606 |  adrar\n",
      "Processing Record 501 of 606 |  calatayud\n",
      "Processing Record 502 of 606 |  palmer\n",
      "Processing Record 503 of 606 |  mugla\n",
      "Processing Record 504 of 606 |  samarkand\n",
      "Processing Record 505 of 606 |  marienburg\n",
      "Processing Record 506 of 606 |  guerrero negro\n",
      "Processing Record 507 of 606 |  baghdad\n",
      "Processing Record 508 of 606 |  igarka\n",
      "Processing Record 509 of 606 |  gumrak\n",
      "Processing Record 510 of 606 |  burica \n",
      " City not found. Skipping...\n",
      "Processing Record 511 of 606 |  vostok\n",
      "Processing Record 512 of 606 |  cambridge\n",
      "Processing Record 513 of 606 |  antsohihy\n",
      "Processing Record 514 of 606 |  rabnita \n",
      " City not found. Skipping...\n",
      "Processing Record 515 of 606 |  tura\n",
      "Processing Record 516 of 606 |  urucui\n",
      "Processing Record 517 of 606 |  sidrolandia\n",
      "Processing Record 518 of 606 |  tauranga\n",
      "Processing Record 519 of 606 |  mosesgegh\n",
      "Processing Record 520 of 606 |  kisangani\n",
      "Processing Record 521 of 606 |  kaduqli\n",
      "Processing Record 522 of 606 |  carauari\n",
      "Processing Record 523 of 606 |  floro\n",
      "Processing Record 524 of 606 |  lehigh acres\n",
      "Processing Record 525 of 606 |  kudahuvadhoo\n",
      "Processing Record 526 of 606 |  hearst\n",
      "Processing Record 527 of 606 |  sao felix do xingu\n",
      "Processing Record 528 of 606 |  lokosovo\n",
      "Processing Record 529 of 606 |  ijaki \n",
      " City not found. Skipping...\n",
      "Processing Record 530 of 606 |  sahrak \n",
      " City not found. Skipping...\n",
      "Processing Record 531 of 606 |  boone\n",
      "Processing Record 532 of 606 |  provideniya\n",
      "Processing Record 533 of 606 |  rapid valley\n",
      "Processing Record 534 of 606 |  warqla \n",
      " City not found. Skipping...\n",
      "Processing Record 535 of 606 |  weston\n",
      "Processing Record 536 of 606 |  bonwapitse\n",
      "Processing Record 537 of 606 |  esmeraldas\n",
      "Processing Record 538 of 606 |  pacific grove\n",
      "Processing Record 539 of 606 |  brae\n",
      "Processing Record 540 of 606 |  janakpur road \n",
      " City not found. Skipping...\n",
      "Processing Record 541 of 606 |  mwinilunga\n",
      "Processing Record 542 of 606 |  the pas\n",
      "Processing Record 543 of 606 |  bosaso\n",
      "Processing Record 544 of 606 |  saint-joseph\n",
      "Processing Record 545 of 606 |  musoma\n",
      "Processing Record 546 of 606 |  rawson\n",
      "Processing Record 547 of 606 |  diffa\n",
      "Processing Record 548 of 606 |  khani\n",
      "Processing Record 549 of 606 |  anloga\n",
      "Processing Record 550 of 606 |  dawson creek\n",
      "Processing Record 551 of 606 |  kenai\n",
      "Processing Record 552 of 606 |  iwaki\n",
      "Processing Record 553 of 606 |  maraa\n",
      "Processing Record 554 of 606 |  padang\n",
      "Processing Record 555 of 606 |  goderich\n",
      "Processing Record 556 of 606 |  itamaraju\n",
      "Processing Record 557 of 606 |  kawalu\n",
      "Processing Record 558 of 606 |  kahta\n",
      "Processing Record 559 of 606 |  puerto escondido\n",
      "Processing Record 560 of 606 |  kalmunai\n",
      "Processing Record 561 of 606 |  toliary \n",
      " City not found. Skipping...\n",
      "Processing Record 562 of 606 |  kyaikkami\n",
      "Processing Record 563 of 606 |  kurakh\n",
      "Processing Record 564 of 606 |  maldonado\n",
      "Processing Record 565 of 606 |  zaysan\n",
      "Processing Record 566 of 606 |  asau\n",
      "Processing Record 567 of 606 |  calderitas\n",
      "Processing Record 568 of 606 |  ovre ardal\n",
      "Processing Record 569 of 606 |  madang\n",
      "Processing Record 570 of 606 |  rock sound\n",
      "Processing Record 571 of 606 |  jablah\n",
      "Processing Record 572 of 606 |  waipawa\n",
      "Processing Record 573 of 606 |  isabela\n"
     ]
    },
    {
     "name": "stdout",
     "output_type": "stream",
     "text": [
      "Processing Record 574 of 606 |  huanren\n",
      "Processing Record 575 of 606 |  kasangulu\n",
      "Processing Record 576 of 606 |  kharp\n",
      "Processing Record 577 of 606 |  broome\n",
      "Processing Record 578 of 606 |  lagunas\n",
      "Processing Record 579 of 606 |  sale\n",
      "Processing Record 580 of 606 |  garowe\n",
      "Processing Record 581 of 606 |  leh\n",
      "Processing Record 582 of 606 |  kautokeino\n",
      "Processing Record 583 of 606 |  turkistan\n",
      "Processing Record 584 of 606 |  mayumba\n",
      "Processing Record 585 of 606 |  calinaoan \n",
      " City not found. Skipping...\n",
      "Processing Record 586 of 606 |  vaitape\n",
      "Processing Record 587 of 606 |  maniitsoq\n",
      "Processing Record 588 of 606 |  enem\n",
      "Processing Record 589 of 606 |  kuryk\n",
      "Processing Record 590 of 606 |  kenora\n",
      "Processing Record 591 of 606 |  arona\n",
      "Processing Record 592 of 606 |  ghanzi\n",
      "Processing Record 593 of 606 |  gimli\n",
      "Processing Record 594 of 606 |  sandakan\n",
      "Processing Record 595 of 606 |  pouso alegre\n",
      "Processing Record 596 of 606 |  caucaia\n",
      "Processing Record 597 of 606 |  safranbolu\n",
      "Processing Record 598 of 606 |  tazagyukh \n",
      " City not found. Skipping...\n",
      "Processing Record 599 of 606 |  korla\n",
      "Processing Record 600 of 606 |  polis\n",
      "Processing Record 601 of 606 |  margate\n",
      "Processing Record 602 of 606 |  brownwood\n",
      "Processing Record 603 of 606 |  kintampo\n",
      "Processing Record 604 of 606 |  tilichiki\n",
      "Processing Record 605 of 606 |  paita\n",
      "Processing Record 606 of 606 |  zhireken\n",
      "563 Successfully Collected\n"
     ]
    }
   ],
   "source": [
    "# Make the call and put into datafrom             \n",
    "citidata = runner(cities)\n"
   ]
  },
  {
   "cell_type": "markdown",
   "metadata": {},
   "source": [
    "### Convert Raw Data to DataFrame\n",
    "* Export the city data into a .csv.\n",
    "* Display the DataFrame"
   ]
  },
  {
   "cell_type": "code",
   "execution_count": 6,
   "metadata": {},
   "outputs": [
    {
     "data": {
      "text/html": [
       "<div>\n",
       "<style scoped>\n",
       "    .dataframe tbody tr th:only-of-type {\n",
       "        vertical-align: middle;\n",
       "    }\n",
       "\n",
       "    .dataframe tbody tr th {\n",
       "        vertical-align: top;\n",
       "    }\n",
       "\n",
       "    .dataframe thead th {\n",
       "        text-align: right;\n",
       "    }\n",
       "</style>\n",
       "<table border=\"1\" class=\"dataframe\">\n",
       "  <thead>\n",
       "    <tr style=\"text-align: right;\">\n",
       "      <th></th>\n",
       "      <th>city</th>\n",
       "      <th>lat</th>\n",
       "      <th>temp</th>\n",
       "      <th>humidity</th>\n",
       "      <th>cloudiness</th>\n",
       "      <th>windspeed</th>\n",
       "    </tr>\n",
       "  </thead>\n",
       "  <tbody>\n",
       "    <tr>\n",
       "      <th>0</th>\n",
       "      <td>vao</td>\n",
       "      <td>-22.6667</td>\n",
       "      <td>74.73</td>\n",
       "      <td>80</td>\n",
       "      <td>1</td>\n",
       "      <td>12.48</td>\n",
       "    </tr>\n",
       "    <tr>\n",
       "      <th>1</th>\n",
       "      <td>misratah</td>\n",
       "      <td>32.3754</td>\n",
       "      <td>67.82</td>\n",
       "      <td>66</td>\n",
       "      <td>97</td>\n",
       "      <td>7.81</td>\n",
       "    </tr>\n",
       "    <tr>\n",
       "      <th>2</th>\n",
       "      <td>butaritari</td>\n",
       "      <td>3.0707</td>\n",
       "      <td>83.52</td>\n",
       "      <td>77</td>\n",
       "      <td>100</td>\n",
       "      <td>19.13</td>\n",
       "    </tr>\n",
       "    <tr>\n",
       "      <th>3</th>\n",
       "      <td>lompoc</td>\n",
       "      <td>34.6391</td>\n",
       "      <td>58.26</td>\n",
       "      <td>82</td>\n",
       "      <td>10</td>\n",
       "      <td>10.36</td>\n",
       "    </tr>\n",
       "    <tr>\n",
       "      <th>4</th>\n",
       "      <td>kavaratti</td>\n",
       "      <td>10.5669</td>\n",
       "      <td>85.26</td>\n",
       "      <td>67</td>\n",
       "      <td>82</td>\n",
       "      <td>1.16</td>\n",
       "    </tr>\n",
       "    <tr>\n",
       "      <th>5</th>\n",
       "      <td>khandyga</td>\n",
       "      <td>62.6667</td>\n",
       "      <td>45.57</td>\n",
       "      <td>61</td>\n",
       "      <td>100</td>\n",
       "      <td>4.97</td>\n",
       "    </tr>\n",
       "    <tr>\n",
       "      <th>6</th>\n",
       "      <td>nikolskoye</td>\n",
       "      <td>59.7035</td>\n",
       "      <td>40.33</td>\n",
       "      <td>87</td>\n",
       "      <td>75</td>\n",
       "      <td>8.95</td>\n",
       "    </tr>\n",
       "    <tr>\n",
       "      <th>7</th>\n",
       "      <td>salisbury</td>\n",
       "      <td>51.0693</td>\n",
       "      <td>35.74</td>\n",
       "      <td>87</td>\n",
       "      <td>90</td>\n",
       "      <td>4.61</td>\n",
       "    </tr>\n",
       "    <tr>\n",
       "      <th>8</th>\n",
       "      <td>raymondville</td>\n",
       "      <td>26.4815</td>\n",
       "      <td>73.62</td>\n",
       "      <td>88</td>\n",
       "      <td>90</td>\n",
       "      <td>10.36</td>\n",
       "    </tr>\n",
       "    <tr>\n",
       "      <th>9</th>\n",
       "      <td>busselton</td>\n",
       "      <td>-33.6500</td>\n",
       "      <td>60.28</td>\n",
       "      <td>98</td>\n",
       "      <td>45</td>\n",
       "      <td>3.27</td>\n",
       "    </tr>\n",
       "  </tbody>\n",
       "</table>\n",
       "</div>"
      ],
      "text/plain": [
       "           city      lat   temp  humidity  cloudiness  windspeed\n",
       "0           vao -22.6667  74.73        80           1      12.48\n",
       "1      misratah  32.3754  67.82        66          97       7.81\n",
       "2    butaritari   3.0707  83.52        77         100      19.13\n",
       "3        lompoc  34.6391  58.26        82          10      10.36\n",
       "4     kavaratti  10.5669  85.26        67          82       1.16\n",
       "5      khandyga  62.6667  45.57        61         100       4.97\n",
       "6    nikolskoye  59.7035  40.33        87          75       8.95\n",
       "7     salisbury  51.0693  35.74        87          90       4.61\n",
       "8  raymondville  26.4815  73.62        88          90      10.36\n",
       "9     busselton -33.6500  60.28        98          45       3.27"
      ]
     },
     "execution_count": 6,
     "metadata": {},
     "output_type": "execute_result"
    }
   ],
   "source": [
    "citydatadf = pd.DataFrame(citidata)\n",
    "citydatadf.to_csv('citydata.csv', index=False)\n",
    "citydatadf.head(10)"
   ]
  },
  {
   "cell_type": "markdown",
   "metadata": {},
   "source": [
    "## Inspect the data and remove the cities where the humidity > 100%.\n",
    "----\n",
    "Skip this step if there are no cities that have humidity > 100%. "
   ]
  },
  {
   "cell_type": "code",
   "execution_count": 7,
   "metadata": {},
   "outputs": [
    {
     "data": {
      "text/html": [
       "<div>\n",
       "<style scoped>\n",
       "    .dataframe tbody tr th:only-of-type {\n",
       "        vertical-align: middle;\n",
       "    }\n",
       "\n",
       "    .dataframe tbody tr th {\n",
       "        vertical-align: top;\n",
       "    }\n",
       "\n",
       "    .dataframe thead th {\n",
       "        text-align: right;\n",
       "    }\n",
       "</style>\n",
       "<table border=\"1\" class=\"dataframe\">\n",
       "  <thead>\n",
       "    <tr style=\"text-align: right;\">\n",
       "      <th></th>\n",
       "      <th>lat</th>\n",
       "      <th>temp</th>\n",
       "      <th>humidity</th>\n",
       "      <th>cloudiness</th>\n",
       "      <th>windspeed</th>\n",
       "    </tr>\n",
       "  </thead>\n",
       "  <tbody>\n",
       "    <tr>\n",
       "      <th>count</th>\n",
       "      <td>563.000000</td>\n",
       "      <td>563.000000</td>\n",
       "      <td>563.000000</td>\n",
       "      <td>563.000000</td>\n",
       "      <td>563.000000</td>\n",
       "    </tr>\n",
       "    <tr>\n",
       "      <th>mean</th>\n",
       "      <td>22.091701</td>\n",
       "      <td>60.292114</td>\n",
       "      <td>71.424512</td>\n",
       "      <td>57.682060</td>\n",
       "      <td>7.442469</td>\n",
       "    </tr>\n",
       "    <tr>\n",
       "      <th>std</th>\n",
       "      <td>33.017061</td>\n",
       "      <td>17.730608</td>\n",
       "      <td>21.555339</td>\n",
       "      <td>39.488998</td>\n",
       "      <td>5.130422</td>\n",
       "    </tr>\n",
       "    <tr>\n",
       "      <th>min</th>\n",
       "      <td>-54.800000</td>\n",
       "      <td>9.720000</td>\n",
       "      <td>1.000000</td>\n",
       "      <td>0.000000</td>\n",
       "      <td>0.250000</td>\n",
       "    </tr>\n",
       "    <tr>\n",
       "      <th>25%</th>\n",
       "      <td>-5.337400</td>\n",
       "      <td>46.310000</td>\n",
       "      <td>63.000000</td>\n",
       "      <td>18.000000</td>\n",
       "      <td>3.655000</td>\n",
       "    </tr>\n",
       "    <tr>\n",
       "      <th>50%</th>\n",
       "      <td>28.872400</td>\n",
       "      <td>62.600000</td>\n",
       "      <td>77.000000</td>\n",
       "      <td>75.000000</td>\n",
       "      <td>6.150000</td>\n",
       "    </tr>\n",
       "    <tr>\n",
       "      <th>75%</th>\n",
       "      <td>48.659250</td>\n",
       "      <td>75.055000</td>\n",
       "      <td>87.000000</td>\n",
       "      <td>98.000000</td>\n",
       "      <td>9.955000</td>\n",
       "    </tr>\n",
       "    <tr>\n",
       "      <th>max</th>\n",
       "      <td>78.218600</td>\n",
       "      <td>89.600000</td>\n",
       "      <td>100.000000</td>\n",
       "      <td>100.000000</td>\n",
       "      <td>39.950000</td>\n",
       "    </tr>\n",
       "  </tbody>\n",
       "</table>\n",
       "</div>"
      ],
      "text/plain": [
       "              lat        temp    humidity  cloudiness   windspeed\n",
       "count  563.000000  563.000000  563.000000  563.000000  563.000000\n",
       "mean    22.091701   60.292114   71.424512   57.682060    7.442469\n",
       "std     33.017061   17.730608   21.555339   39.488998    5.130422\n",
       "min    -54.800000    9.720000    1.000000    0.000000    0.250000\n",
       "25%     -5.337400   46.310000   63.000000   18.000000    3.655000\n",
       "50%     28.872400   62.600000   77.000000   75.000000    6.150000\n",
       "75%     48.659250   75.055000   87.000000   98.000000    9.955000\n",
       "max     78.218600   89.600000  100.000000  100.000000   39.950000"
      ]
     },
     "execution_count": 7,
     "metadata": {},
     "output_type": "execute_result"
    }
   ],
   "source": [
    "citydatadf.describe()\n",
    "## Use MAX to see if there are any over 100."
   ]
  },
  {
   "cell_type": "code",
   "execution_count": 8,
   "metadata": {},
   "outputs": [],
   "source": [
    "# Another way, Return rows with humidity greater than 100.\n",
    "hundredpluscitiesdf = citydatadf[citydatadf['humidity'] <= 100]"
   ]
  },
  {
   "cell_type": "code",
   "execution_count": 9,
   "metadata": {},
   "outputs": [
    {
     "data": {
      "text/plain": [
       "[]"
      ]
     },
     "execution_count": 9,
     "metadata": {},
     "output_type": "execute_result"
    }
   ],
   "source": [
    "#  Get the indices of cities that have humidity over 100%.\n",
    "citydatadf.index[citydatadf['humidity'] > 100].tolist()"
   ]
  },
  {
   "cell_type": "code",
   "execution_count": 10,
   "metadata": {},
   "outputs": [
    {
     "data": {
      "text/html": [
       "<div>\n",
       "<style scoped>\n",
       "    .dataframe tbody tr th:only-of-type {\n",
       "        vertical-align: middle;\n",
       "    }\n",
       "\n",
       "    .dataframe tbody tr th {\n",
       "        vertical-align: top;\n",
       "    }\n",
       "\n",
       "    .dataframe thead th {\n",
       "        text-align: right;\n",
       "    }\n",
       "</style>\n",
       "<table border=\"1\" class=\"dataframe\">\n",
       "  <thead>\n",
       "    <tr style=\"text-align: right;\">\n",
       "      <th></th>\n",
       "      <th>city</th>\n",
       "      <th>lat</th>\n",
       "      <th>temp</th>\n",
       "      <th>humidity</th>\n",
       "      <th>cloudiness</th>\n",
       "      <th>windspeed</th>\n",
       "    </tr>\n",
       "  </thead>\n",
       "  <tbody>\n",
       "    <tr>\n",
       "      <th>0</th>\n",
       "      <td>vao</td>\n",
       "      <td>-22.6667</td>\n",
       "      <td>74.73</td>\n",
       "      <td>80</td>\n",
       "      <td>1</td>\n",
       "      <td>12.48</td>\n",
       "    </tr>\n",
       "    <tr>\n",
       "      <th>1</th>\n",
       "      <td>misratah</td>\n",
       "      <td>32.3754</td>\n",
       "      <td>67.82</td>\n",
       "      <td>66</td>\n",
       "      <td>97</td>\n",
       "      <td>7.81</td>\n",
       "    </tr>\n",
       "    <tr>\n",
       "      <th>2</th>\n",
       "      <td>butaritari</td>\n",
       "      <td>3.0707</td>\n",
       "      <td>83.52</td>\n",
       "      <td>77</td>\n",
       "      <td>100</td>\n",
       "      <td>19.13</td>\n",
       "    </tr>\n",
       "    <tr>\n",
       "      <th>3</th>\n",
       "      <td>lompoc</td>\n",
       "      <td>34.6391</td>\n",
       "      <td>58.26</td>\n",
       "      <td>82</td>\n",
       "      <td>10</td>\n",
       "      <td>10.36</td>\n",
       "    </tr>\n",
       "    <tr>\n",
       "      <th>4</th>\n",
       "      <td>kavaratti</td>\n",
       "      <td>10.5669</td>\n",
       "      <td>85.26</td>\n",
       "      <td>67</td>\n",
       "      <td>82</td>\n",
       "      <td>1.16</td>\n",
       "    </tr>\n",
       "  </tbody>\n",
       "</table>\n",
       "</div>"
      ],
      "text/plain": [
       "         city      lat   temp  humidity  cloudiness  windspeed\n",
       "0         vao -22.6667  74.73        80           1      12.48\n",
       "1    misratah  32.3754  67.82        66          97       7.81\n",
       "2  butaritari   3.0707  83.52        77         100      19.13\n",
       "3      lompoc  34.6391  58.26        82          10      10.36\n",
       "4   kavaratti  10.5669  85.26        67          82       1.16"
      ]
     },
     "execution_count": 10,
     "metadata": {},
     "output_type": "execute_result"
    }
   ],
   "source": [
    "# Make a new DataFrame equal to the city data to drop all humidity outliers by index.\n",
    "# Passing \"inplace=False\" will make a copy of the city_data DataFrame, which we call \"clean_city_data\".\n",
    "clean_city_data = citydatadf[citydatadf['humidity'] <= 100]\n",
    "clean_city_data.head()"
   ]
  },
  {
   "cell_type": "markdown",
   "metadata": {},
   "source": [
    "## Plotting the Data\n",
    "* Use proper labeling of the plots using plot titles (including date of analysis) and axes labels.\n",
    "* Save the plotted figures as .pngs."
   ]
  },
  {
   "cell_type": "markdown",
   "metadata": {},
   "source": [
    "## Latitude vs. Temperature Plot"
   ]
  },
  {
   "cell_type": "code",
   "execution_count": 11,
   "metadata": {
    "scrolled": true
   },
   "outputs": [
    {
     "data": {
      "image/png": "[encoded data removed]",
      "text/plain": [
       "<Figure size 432x288 with 1 Axes>"
      ]
     },
     "metadata": {
      "needs_background": "light"
     },
     "output_type": "display_data"
    }
   ],
   "source": [
    " # Create a Scatter Plot for temperature vs latitude\n",
    "x_values = clean_city_data['lat']\n",
    "y_values = clean_city_data['temp']\n",
    "plt.scatter(x_values,y_values)\n",
    "plt.xlabel('Latitude')\n",
    "plt.ylabel('Temperature')\n",
    "plt.show()"
   ]
  },
  {
   "cell_type": "markdown",
   "metadata": {},
   "source": [
    "## Latitude vs. Humidity Plot"
   ]
  },
  {
   "cell_type": "code",
   "execution_count": 12,
   "metadata": {},
   "outputs": [
    {
     "data": {
      "image/png": "[encoded data removed]",
      "text/plain": [
       "<Figure size 432x288 with 1 Axes>"
      ]
     },
     "metadata": {
      "needs_background": "light"
     },
     "output_type": "display_data"
    }
   ],
   "source": [
    " # Create a Scatter Plot for temperature vs latitude\n",
    "x_values = clean_city_data['lat']\n",
    "y_values = clean_city_data['humidity']\n",
    "plt.scatter(x_values,y_values)\n",
    "plt.xlabel('Latitude')\n",
    "plt.ylabel('Humidity')\n",
    "plt.show()"
   ]
  },
  {
   "cell_type": "markdown",
   "metadata": {},
   "source": [
    "## Latitude vs. Cloudiness Plot"
   ]
  },
  {
   "cell_type": "code",
   "execution_count": 13,
   "metadata": {},
   "outputs": [
    {
     "data": {
      "image/png": "[encoded data removed]",
      "text/plain": [
       "<Figure size 432x288 with 1 Axes>"
      ]
     },
     "metadata": {
      "needs_background": "light"
     },
     "output_type": "display_data"
    }
   ],
   "source": [
    " # Create a Scatter Plot for temperature vs latitude\n",
    "x_values = clean_city_data['lat']\n",
    "y_values = clean_city_data['cloudiness']\n",
    "plt.scatter(x_values,y_values)\n",
    "plt.xlabel('Latitude')\n",
    "plt.ylabel('Cloudiness')\n",
    "plt.show()"
   ]
  },
  {
   "cell_type": "markdown",
   "metadata": {},
   "source": [
    "## Latitude vs. Wind Speed Plot"
   ]
  },
  {
   "cell_type": "code",
   "execution_count": 14,
   "metadata": {},
   "outputs": [
    {
     "data": {
      "image/png": "[encoded data removed]",
      "text/plain": [
       "<Figure size 432x288 with 1 Axes>"
      ]
     },
     "metadata": {
      "needs_background": "light"
     },
     "output_type": "display_data"
    }
   ],
   "source": [
    " # Create a Scatter Plot for temperature vs latitude\n",
    "x_values = clean_city_data['lat']\n",
    "y_values = clean_city_data['windspeed']\n",
    "plt.scatter(x_values,y_values)\n",
    "plt.xlabel('Latitude')\n",
    "plt.ylabel('Wind Speed')\n",
    "plt.show()"
   ]
  },
  {
   "cell_type": "markdown",
   "metadata": {},
   "source": [
    "## Linear Regression"
   ]
  },
  {
   "cell_type": "code",
   "execution_count": 15,
   "metadata": {},
   "outputs": [
    {
     "name": "stdout",
     "output_type": "stream",
     "text": [
      "0      74.221891\n",
      "1      57.091605\n",
      "2      66.211858\n",
      "3      56.387093\n",
      "4      63.878880\n",
      "         ...    \n",
      "558    57.298910\n",
      "559    64.660232\n",
      "560    48.348988\n",
      "561    68.751395\n",
      "562    50.727281\n",
      "Name: lat, Length: 563, dtype: float64\n"
     ]
    }
   ],
   "source": [
    "x_values = clean_city_data['lat']\n",
    "y_values = clean_city_data['temp']\n",
    "\n",
    "# Perform a linear regression on temperature vs. latitude\n",
    "(slope, intercept, rvalue, pvalue, stderr) = linregress(x_values, y_values)\n",
    "\n",
    "# Get regression values\n",
    "regress_values = x_values * slope + intercept\n",
    "print(regress_values)"
   ]
  },
  {
   "cell_type": "markdown",
   "metadata": {},
   "source": [
    "####  Northern Hemisphere - Max Temp vs. Latitude Linear Regression"
   ]
  },
  {
   "cell_type": "code",
   "execution_count": 16,
   "metadata": {},
   "outputs": [],
   "source": [
    "northhem_city_data = clean_city_data[clean_city_data['lat'] > 0]"
   ]
  },
  {
   "cell_type": "code",
   "execution_count": 17,
   "metadata": {},
   "outputs": [
    {
     "name": "stdout",
     "output_type": "stream",
     "text": [
      "y = -0.85x +90.9\n",
      "The r-value is: 0.7766314645787329\n"
     ]
    },
    {
     "data": {
      "image/png": "[encoded data removed]",
      "text/plain": [
       "<Figure size 432x288 with 1 Axes>"
      ]
     },
     "metadata": {
      "needs_background": "light"
     },
     "output_type": "display_data"
    }
   ],
   "source": [
    "x_values = northhem_city_data['lat']\n",
    "y_values = northhem_city_data['temp']\n",
    "\n",
    "# Perform a linear regression on temperature vs. latitude\n",
    "(slope, intercept, rvalue, pvalue, stderr) = linregress(x_values, y_values)\n",
    "\n",
    "# Get regression values\n",
    "regress_values = x_values * slope + intercept\n",
    "#print(regress_values)\n",
    "\n",
    "# Create line equation string\n",
    "line_eq = \"y = \" + str(round(slope,2)) + \"x +\" + str(round(intercept,2))\n",
    "print(line_eq)\n",
    "\n",
    "# Create Plot\n",
    "plt.scatter(x_values,y_values)\n",
    "plt.plot(x_values,regress_values,\"r-\")\n",
    "\n",
    "# Label plot and annotate the line equation\n",
    "plt.suptitle('Northern Hemisphere - Max Temp vs. Latitude', fontsize='12')\n",
    "plt.xlabel('Latitude')\n",
    "plt.ylabel('Temperature')\n",
    "plt.annotate(line_eq,(20,15),fontsize=15,color=\"red\")\n",
    "\n",
    "# Print r value\n",
    "print(f\"The r-value is: {rvalue**2}\")\n",
    "\n",
    "# Show plot\n",
    "plt.savefig(\"northern-temp-vs-lat.png\")\n",
    "plt.show()"
   ]
  },
  {
   "cell_type": "markdown",
   "metadata": {},
   "source": [
    "####  Southern Hemisphere - Max Temp vs. Latitude Linear Regression"
   ]
  },
  {
   "cell_type": "code",
   "execution_count": 18,
   "metadata": {},
   "outputs": [
    {
     "name": "stdout",
     "output_type": "stream",
     "text": [
      "y = 0.59x +80.15\n",
      "The r-value is: 0.503516993278595\n"
     ]
    },
    {
     "data": {
      "image/png": "[encoded data removed]",
      "text/plain": [
       "<Figure size 432x288 with 1 Axes>"
      ]
     },
     "metadata": {
      "needs_background": "light"
     },
     "output_type": "display_data"
    }
   ],
   "source": [
    "southern_hem_city_data = clean_city_data[clean_city_data['lat'] < 0]\n",
    "x_values = southern_hem_city_data['lat']\n",
    "y_values = southern_hem_city_data['temp']\n",
    "\n",
    "# Perform a linear regression on temperature vs. latitude\n",
    "(slope, intercept, rvalue, pvalue, stderr) = linregress(x_values, y_values)\n",
    "\n",
    "# Get regression values\n",
    "regress_values = x_values * slope + intercept\n",
    "#print(regress_values)\n",
    "\n",
    "# Create line equation string\n",
    "line_eq = \"y = \" + str(round(slope,2)) + \"x +\" + str(round(intercept,2))\n",
    "print(line_eq)\n",
    "\n",
    "# Create Plot\n",
    "plt.scatter(x_values,y_values)\n",
    "plt.plot(x_values,regress_values,\"r-\")\n",
    "\n",
    "# Label plot and annotate the line equation\n",
    "plt.suptitle('Southern Hemisphere - Max Temp vs. Latitude', fontsize='12')\n",
    "plt.xlabel('Latitude')\n",
    "plt.ylabel('Temperature')\n",
    "plt.annotate(line_eq,(-50,85),fontsize=15,color=\"red\")\n",
    "\n",
    "# Print r value\n",
    "print(f\"The r-value is: {rvalue**2}\")\n",
    "\n",
    "# Show plot\n",
    "plt.savefig(\"southern-temp-vs-lat.png\")\n",
    "plt.show()"
   ]
  },
  {
   "cell_type": "markdown",
   "metadata": {},
   "source": [
    "####  Northern Hemisphere - Humidity (%) vs. Latitude Linear Regression"
   ]
  },
  {
   "cell_type": "code",
   "execution_count": 19,
   "metadata": {},
   "outputs": [
    {
     "name": "stdout",
     "output_type": "stream",
     "text": [
      "y = 0.04x +67.3\n",
      "The r-value is: 0.0011978863527664\n"
     ]
    },
    {
     "data": {
      "image/png": "[encoded data removed]",
      "text/plain": [
       "<Figure size 432x288 with 1 Axes>"
      ]
     },
     "metadata": {
      "needs_background": "light"
     },
     "output_type": "display_data"
    }
   ],
   "source": [
    "x_values = northhem_city_data['lat']\n",
    "y_values = northhem_city_data['humidity']\n",
    "\n",
    "# Perform a linear regression on temperature vs. latitude\n",
    "(slope, intercept, rvalue, pvalue, stderr) = linregress(x_values, y_values)\n",
    "\n",
    "# Get regression values\n",
    "regress_values = x_values * slope + intercept\n",
    "#print(regress_values)\n",
    "\n",
    "# Create line equation string\n",
    "line_eq = \"y = \" + str(round(slope,2)) + \"x +\" + str(round(intercept,2))\n",
    "print(line_eq)\n",
    "\n",
    "# Create Plot\n",
    "plt.scatter(x_values,y_values)\n",
    "plt.plot(x_values,regress_values,\"r-\")\n",
    "\n",
    "# Label plot and annotate the line equation\n",
    "plt.suptitle('Northern Hemisphere - Humidity vs. Latitude', fontsize='12')\n",
    "plt.xlabel('Latitude')\n",
    "plt.ylabel('Humidity')\n",
    "plt.annotate(line_eq,(45,8),fontsize=15,color=\"red\")\n",
    "\n",
    "# Print r value\n",
    "print(f\"The r-value is: {rvalue**2}\")\n",
    "\n",
    "# Show plot\n",
    "plt.savefig(\"northern-humidity-vs-lat.png\")\n",
    "plt.show()"
   ]
  },
  {
   "cell_type": "markdown",
   "metadata": {},
   "source": [
    "####  Southern Hemisphere - Humidity (%) vs. Latitude Linear Regression"
   ]
  },
  {
   "cell_type": "code",
   "execution_count": 20,
   "metadata": {},
   "outputs": [
    {
     "name": "stdout",
     "output_type": "stream",
     "text": [
      "y = 0.28x +83.01\n",
      "The r-value is: 0.051211814490640384\n"
     ]
    },
    {
     "data": {
      "image/png": "[encoded data removed]",
      "text/plain": [
       "<Figure size 432x288 with 1 Axes>"
      ]
     },
     "metadata": {
      "needs_background": "light"
     },
     "output_type": "display_data"
    }
   ],
   "source": [
    "x_values = southern_hem_city_data['lat']\n",
    "y_values = southern_hem_city_data['humidity']\n",
    "\n",
    "# Perform a linear regression on temperature vs. latitude\n",
    "(slope, intercept, rvalue, pvalue, stderr) = linregress(x_values, y_values)\n",
    "\n",
    "# Get regression values\n",
    "regress_values = x_values * slope + intercept\n",
    "#print(regress_values)\n",
    "\n",
    "# Create line equation string\n",
    "line_eq = \"y = \" + str(round(slope,2)) + \"x +\" + str(round(intercept,2))\n",
    "print(line_eq)\n",
    "\n",
    "# Create Plot\n",
    "plt.scatter(x_values,y_values)\n",
    "plt.plot(x_values,regress_values,\"r-\")\n",
    "\n",
    "# Label plot and annotate the line equation\n",
    "plt.suptitle('Southern Hemisphere - Humidity vs. Latitude', fontsize='12')\n",
    "plt.xlabel('Latitude')\n",
    "plt.ylabel('Humidity')\n",
    "plt.annotate(line_eq,(-40,33),fontsize=15,color=\"red\")\n",
    "\n",
    "# Print r value\n",
    "print(f\"The r-value is: {rvalue**2}\")\n",
    "\n",
    "# Show plot\n",
    "plt.savefig(\"southern-humidity-vs-lat.png\")\n",
    "plt.show()"
   ]
  },
  {
   "cell_type": "markdown",
   "metadata": {},
   "source": [
    "####  Northern Hemisphere - Cloudiness (%) vs. Latitude Linear Regression"
   ]
  },
  {
   "cell_type": "code",
   "execution_count": 21,
   "metadata": {},
   "outputs": [
    {
     "name": "stdout",
     "output_type": "stream",
     "text": [
      "y = 0.18x +50.45\n",
      "The r-value is: 0.007808007028255791\n"
     ]
    },
    {
     "data": {
      "image/png": "[encoded data removed]",
      "text/plain": [
       "<Figure size 432x288 with 1 Axes>"
      ]
     },
     "metadata": {
      "needs_background": "light"
     },
     "output_type": "display_data"
    }
   ],
   "source": [
    "x_values = northhem_city_data['lat']\n",
    "y_values = northhem_city_data['cloudiness']\n",
    "\n",
    "# Perform a linear regression on temperature vs. latitude\n",
    "(slope, intercept, rvalue, pvalue, stderr) = linregress(x_values, y_values)\n",
    "\n",
    "# Get regression values\n",
    "regress_values = x_values * slope + intercept\n",
    "#print(regress_values)\n",
    "\n",
    "# Create line equation string\n",
    "line_eq = \"y = \" + str(round(slope,2)) + \"x +\" + str(round(intercept,2))\n",
    "print(line_eq)\n",
    "\n",
    "# Create Plot\n",
    "plt.scatter(x_values,y_values)\n",
    "plt.plot(x_values,regress_values,\"r-\")\n",
    "\n",
    "# Label plot and annotate the line equation\n",
    "plt.suptitle('Northern Hemisphere - Cloudiness (%) vs. Latitude', fontsize='12')\n",
    "plt.xlabel('Latitude')\n",
    "plt.ylabel('Cloudiness')\n",
    "plt.annotate(line_eq,(30,50),fontsize=15,color=\"red\")\n",
    "\n",
    "# Print r value\n",
    "print(f\"The r-value is: {rvalue**2}\")\n",
    "\n",
    "# Show plot\n",
    "plt.savefig(\"northern-cloudiness-vs-lat.png\")\n",
    "plt.show()"
   ]
  },
  {
   "cell_type": "markdown",
   "metadata": {},
   "source": [
    "####  Southern Hemisphere - Cloudiness (%) vs. Latitude Linear Regression"
   ]
  },
  {
   "cell_type": "code",
   "execution_count": 22,
   "metadata": {},
   "outputs": [
    {
     "name": "stdout",
     "output_type": "stream",
     "text": [
      "y = 0.55x +68.8\n",
      "The r-value is: 0.037718954618820785\n"
     ]
    },
    {
     "data": {
      "image/png": "[encoded data removed]",
      "text/plain": [
       "<Figure size 432x288 with 1 Axes>"
      ]
     },
     "metadata": {
      "needs_background": "light"
     },
     "output_type": "display_data"
    }
   ],
   "source": [
    "x_values = southern_hem_city_data['lat']\n",
    "y_values = southern_hem_city_data['cloudiness']\n",
    "\n",
    "# Perform a linear regression on temperature vs. latitude\n",
    "(slope, intercept, rvalue, pvalue, stderr) = linregress(x_values, y_values)\n",
    "\n",
    "# Get regression values\n",
    "regress_values = x_values * slope + intercept\n",
    "#print(regress_values)\n",
    "\n",
    "# Create line equation string\n",
    "line_eq = \"y = \" + str(round(slope,2)) + \"x +\" + str(round(intercept,2))\n",
    "print(line_eq)\n",
    "\n",
    "# Create Plot\n",
    "plt.scatter(x_values,y_values)\n",
    "plt.plot(x_values,regress_values,\"r-\")\n",
    "\n",
    "# Label plot and annotate the line equation\n",
    "plt.suptitle('Southern Hemisphere - Cloudiness (%) vs. Latitude', fontsize='12')\n",
    "plt.xlabel('Latitude')\n",
    "plt.ylabel('Cloudiness')\n",
    "plt.annotate(line_eq,(-40,55),fontsize=15,color=\"red\")\n",
    "\n",
    "# Print r value\n",
    "print(f\"The r-value is: {rvalue**2}\")\n",
    "\n",
    "# Show plot\n",
    "plt.savefig(\"southern-cloudiness-vs-lat.png\")\n",
    "plt.show()"
   ]
  },
  {
   "cell_type": "markdown",
   "metadata": {},
   "source": [
    "####  Northern Hemisphere - Wind Speed (mph) vs. Latitude Linear Regression"
   ]
  },
  {
   "cell_type": "code",
   "execution_count": 23,
   "metadata": {},
   "outputs": [
    {
     "name": "stdout",
     "output_type": "stream",
     "text": [
      "y = 0.04x +67.3\n",
      "The r-value is: 0.0011978863527664\n"
     ]
    },
    {
     "data": {
      "image/png": "[encoded data removed]",
      "text/plain": [
       "<Figure size 432x288 with 1 Axes>"
      ]
     },
     "metadata": {
      "needs_background": "light"
     },
     "output_type": "display_data"
    }
   ],
   "source": [
    "x_values = northhem_city_data['lat']\n",
    "y_values = northhem_city_data['humidity']\n",
    "\n",
    "# Perform a linear regression on temperature vs. latitude\n",
    "(slope, intercept, rvalue, pvalue, stderr) = linregress(x_values, y_values)\n",
    "\n",
    "# Get regression values\n",
    "regress_values = x_values * slope + intercept\n",
    "#print(regress_values)\n",
    "\n",
    "# Create line equation string\n",
    "line_eq = \"y = \" + str(round(slope,2)) + \"x +\" + str(round(intercept,2))\n",
    "print(line_eq)\n",
    "\n",
    "# Create Plot\n",
    "plt.scatter(x_values,y_values)\n",
    "plt.plot(x_values,regress_values,\"r-\")\n",
    "\n",
    "# Label plot and annotate the line equation\n",
    "plt.suptitle('Northern Hemisphere - Wind Speed (mph) vs. Latitude', fontsize='12')\n",
    "plt.xlabel('Latitude')\n",
    "plt.ylabel('Wind Speed')\n",
    "plt.annotate(line_eq,(45,8),fontsize=15,color=\"red\")\n",
    "\n",
    "# Print r value\n",
    "print(f\"The r-value is: {rvalue**2}\")\n",
    "\n",
    "# Show plot\n",
    "plt.savefig(\"northern-windspeed-vs-lat.png\")\n",
    "plt.show()"
   ]
  },
  {
   "cell_type": "markdown",
   "metadata": {},
   "source": [
    "####  Southern Hemisphere - Wind Speed (mph) vs. Latitude Linear Regression"
   ]
  },
  {
   "cell_type": "code",
   "execution_count": 24,
   "metadata": {},
   "outputs": [
    {
     "name": "stdout",
     "output_type": "stream",
     "text": [
      "y = -0.14x +3.76\n",
      "The r-value is: 0.15017676092116886\n"
     ]
    },
    {
     "data": {
      "image/png": "[encoded data removed]",
      "text/plain": [
       "<Figure size 432x288 with 1 Axes>"
      ]
     },
     "metadata": {
      "needs_background": "light"
     },
     "output_type": "display_data"
    }
   ],
   "source": [
    "x_values = southern_hem_city_data['lat']\n",
    "y_values = southern_hem_city_data['windspeed']\n",
    "\n",
    "# Perform a linear regression on temperature vs. latitude\n",
    "(slope, intercept, rvalue, pvalue, stderr) = linregress(x_values, y_values)\n",
    "\n",
    "# Get regression values\n",
    "regress_values = x_values * slope + intercept\n",
    "#print(regress_values)\n",
    "\n",
    "# Create line equation string\n",
    "line_eq = \"y = \" + str(round(slope,2)) + \"x +\" + str(round(intercept,2))\n",
    "print(line_eq)\n",
    "\n",
    "# Create Plot\n",
    "plt.scatter(x_values,y_values)\n",
    "plt.plot(x_values,regress_values,\"r-\")\n",
    "\n",
    "# Label plot and annotate the line equation\n",
    "plt.suptitle('Southern Hemisphere - Wind Speed (mph) vs. Latitude', fontsize='12')\n",
    "plt.xlabel('Latitude')\n",
    "plt.ylabel('Wind Speed')\n",
    "plt.annotate(line_eq,(-40,17),fontsize=15,color=\"red\")\n",
    "\n",
    "# Print r value\n",
    "print(f\"The r-value is: {rvalue**2}\")\n",
    "\n",
    "# Show plot\n",
    "plt.savefig(\"southern-windspeed-vs-lat.png\")\n",
    "plt.show()"
   ]
  },
  {
   "cell_type": "code",
   "execution_count": null,
   "metadata": {},
   "outputs": [],
   "source": []
  }
 ],
 "metadata": {
  "anaconda-cloud": {},
  "kernel_info": {
   "name": "python3"
  },
  "kernelspec": {
   "display_name": "Python 3",
   "language": "python",
   "name": "python3"
  },
  "language_info": {
   "codemirror_mode": {
    "name": "ipython",
    "version": 3
   },
   "file_extension": ".py",
   "mimetype": "text/x-python",
   "name": "python",
   "nbconvert_exporter": "python",
   "pygments_lexer": "ipython3",
   "version": "3.9.2"
  },
  "latex_envs": {
   "LaTeX_envs_menu_present": true,
   "autoclose": false,
   "autocomplete": true,
   "bibliofile": "biblio.bib",
   "cite_by": "apalike",
   "current_citInitial": 1,
   "eqLabelWithNumbers": true,
   "eqNumInitial": 1,
   "hotkeys": {
    "equation": "Ctrl-E",
    "itemize": "Ctrl-I"
   },
   "labels_anchors": false,
   "latex_user_defs": false,
   "report_style_numbering": false,
   "user_envs_cfg": false
  },
  "nteract": {
   "version": "0.12.3"
  }
 },
 "nbformat": 4,
 "nbformat_minor": 2
}
