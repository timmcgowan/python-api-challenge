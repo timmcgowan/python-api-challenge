{
 "cells": [
  {
   "cell_type": "markdown",
   "metadata": {},
   "source": [
    "# WeatherPy\n",
    "----\n",
    "\n",
    "#### Note\n",
    "* Instructions have been included for each segment. You do not have to follow them exactly, but they are included to help you think through the steps."
   ]
  },
  {
   "cell_type": "code",
   "execution_count": 1,
   "metadata": {
    "scrolled": true
   },
   "outputs": [],
   "source": [
    "# Dependencies and Setup\n",
    "import matplotlib.pyplot as plt\n",
    "import pandas as pd\n",
    "import numpy as np\n",
    "import requests\n",
    "import time\n",
    "from scipy.stats import linregress\n",
    "\n",
    "from concurrent.futures import ThreadPoolExecutor, as_completed\n",
    "\n",
    "# Import API key\n",
    "from api_keys import weather_api_key\n",
    "\n",
    "# Incorporated citipy to determine city based on latitude and longitude\n",
    "from citipy import citipy\n",
    "\n",
    "# Output File (CSV)\n",
    "output_data_file = \"output_data/cities.csv\"\n",
    "\n",
    "# Range of latitudes and longitudes\n",
    "lat_range = (-90, 90)\n",
    "lng_range = (-180, 180)"
   ]
  },
  {
   "cell_type": "markdown",
   "metadata": {},
   "source": [
    "## Generate Cities List"
   ]
  },
  {
   "cell_type": "code",
   "execution_count": 2,
   "metadata": {},
   "outputs": [
    {
     "data": {
      "text/plain": [
       "606"
      ]
     },
     "execution_count": 2,
     "metadata": {},
     "output_type": "execute_result"
    }
   ],
   "source": [
    "# List for holding lat_lngs and cities\n",
    "lat_lngs = []\n",
    "cities = []\n",
    "\n",
    "# Create a set of random lat and lng combinations\n",
    "lats = np.random.uniform(lat_range[0], lat_range[1], size=1500)\n",
    "lngs = np.random.uniform(lng_range[0], lng_range[1], size=1500)\n",
    "lat_lngs = zip(lats, lngs)\n",
    "\n",
    "# Identify nearest city for each lat, lng combination\n",
    "for lat_lng in lat_lngs:\n",
    "    city = citipy.nearest_city(lat_lng[0], lat_lng[1]).city_name\n",
    "    \n",
    "    # If the city is unique, then add it to a our cities list\n",
    "    if city not in cities:\n",
    "        cities.append(city)\n",
    "\n",
    "# Print the city count to confirm sufficient count\n",
    "len(cities)"
   ]
  },
  {
   "cell_type": "markdown",
   "metadata": {},
   "source": [
    "## Config"
   ]
  },
  {
   "cell_type": "code",
   "execution_count": 3,
   "metadata": {},
   "outputs": [],
   "source": [
    "# Configuration Details for openweather API.\n",
    "url = \"http://api.openweathermap.org/data/2.5/weather?\"\n",
    "units = \"imperial\"\n",
    "\n",
    "# Build partial query URL\n",
    "query_url = f\"{url}appid={weather_api_key}&units={units}&q=\"\n",
    "\n",
    "\n",
    "def process_data(c,x):\n",
    "    try:\n",
    "        cstats = {}\n",
    "        cstats['searc_city'] = c\n",
    "        cstats['city'] = x['name']\n",
    "        cstats['country'] = x['sys']['country']      \n",
    "        cstats['lat'] = x['coord']['lat']\n",
    "        cstats['lng'] = x['coord']['lon']\n",
    "        cstats['temp'] = x['main']['temp']\n",
    "        cstats['humidity'] = x['main']['humidity']\n",
    "        cstats['cloudiness'] = x['clouds']['all']\n",
    "        cstats['windspeed'] = x['wind']['speed']\n",
    "        return cstats\n",
    "    except KeyError as e:\n",
    "        msg = f\"Key Error Missing Key - {e}\"\n",
    "        return msg\n",
    "\n",
    "def getCityStats(qurl, city):\n",
    "    try:\n",
    "        response = requests.get(qurl + city).json()\n",
    "        #print(qurl + city) ## Debug Only!\n",
    "    except Exception as e:\n",
    "        return SystemExit(e)\n",
    "    except requests.exceptions.RequestException as e:\n",
    "        return SystemExit(e)\n",
    "    else:\n",
    "        if response['cod'] == 200:\n",
    "            cstats = process_data(city, response)\n",
    "        elif response['cod'] == \"404\" and response['message'] == \"city not found\":\n",
    "            return f\"{city}\\n City not found. Skipping...\"\n",
    "        else:\n",
    "            code = response['cod']\n",
    "            msg = response['message']\n",
    "            return SystemExit(f\"Error {code} - {msg}\")\n",
    "    return cstats        \n",
    "\n",
    "# This runner will output a list of dictionaries, using the city stat getter\n",
    "# This runnder uses a configurable worker setting, to allow for better speed.  \n",
    "# I have tested it with 5 workers, with fast results, However .....\n",
    "# BE CAREFUL! OpenWeather API limits you. You will get errors if you reach your limit, and will need to wait!\n",
    "def runner(searchlist):\n",
    "    threads = []\n",
    "    cstat_list = []\n",
    "    nitems = len(searchlist)\n",
    "    with ThreadPoolExecutor(max_workers=2) as executor:\n",
    "        counter = 0 \n",
    "        for city in searchlist:\n",
    "            threads.append(executor.submit(getCityStats, query_url, city))\n",
    "            \n",
    "        for task in as_completed(threads):\n",
    "            counter = counter+1\n",
    "            outtext = f\"Processing Record {counter} of {nitems} | \"\n",
    "            rs = task.result()\n",
    "            if type(rs) is dict:\n",
    "                cstat_list.append(rs)\n",
    "                print(outtext, rs['city'])\n",
    "            else:\n",
    "                print(outtext, task.result())\n",
    "    print(len(cstat_list), \"Successfully Collected\")            \n",
    "    return cstat_list"
   ]
  },
  {
   "cell_type": "markdown",
   "metadata": {},
   "source": [
    "### Perform API Calls\n",
    "* Perform a weather check on each city using a series of successive API calls.\n",
    "* Include a print log of each city as it'sbeing processed (with the city number and city name).\n"
   ]
  },
  {
   "cell_type": "code",
   "execution_count": 4,
   "metadata": {},
   "outputs": [
    {
     "name": "stdout",
     "output_type": "stream",
     "text": [
      "{'searc_city': 'Atlanta', 'city': 'Atlanta', 'country': 'US', 'lat': 33.749, 'lng': -84.388, 'temp': 72.43, 'humidity': 37, 'cloudiness': 1, 'windspeed': 8.05}\n"
     ]
    }
   ],
   "source": [
    "# Test Check to validate connectivity and reponse format\n",
    "try:\n",
    "    print(getCityStats(query_url, 'Atlanta'))\n",
    "except KeyError as k:\n",
    "    raise SystemExit(k)"
   ]
  },
  {
   "cell_type": "code",
   "execution_count": 5,
   "metadata": {},
   "outputs": [
    {
     "name": "stdout",
     "output_type": "stream",
     "text": [
      "nocity\n",
      " City not found. Skipping...\n"
     ]
    }
   ],
   "source": [
    "# Test Check to validate connectivity and reponse format\n",
    "print(getCityStats(query_url, 'nocity'))"
   ]
  },
  {
   "cell_type": "code",
   "execution_count": 6,
   "metadata": {},
   "outputs": [
    {
     "name": "stdout",
     "output_type": "stream",
     "text": [
      "Processing Record 1 of 606 |  Ushuaia\n",
      "Processing Record 2 of 606 |  Oytal\n",
      "Processing Record 3 of 606 |  Bengkulu\n",
      "Processing Record 4 of 606 |  Muros\n",
      "Processing Record 5 of 606 |  Rock Sound\n",
      "Processing Record 6 of 606 |  Khani\n",
      "Processing Record 7 of 606 |  Nanortalik\n",
      "Processing Record 8 of 606 |  Dauphin\n",
      "Processing Record 9 of 606 |  Saint-Philippe\n",
      "Processing Record 10 of 606 |  mys shmidta\n",
      " City not found. Skipping...\n",
      "Processing Record 11 of 606 |  amderma\n",
      " City not found. Skipping...\n",
      "Processing Record 12 of 606 |  Arrondissement de Dieppe\n",
      "Processing Record 13 of 606 |  mocambique\n",
      " City not found. Skipping...\n",
      "Processing Record 14 of 606 |  Atuona\n",
      "Processing Record 15 of 606 |  Najrān\n",
      "Processing Record 16 of 606 |  New Norfolk\n",
      "Processing Record 17 of 606 |  Yellowknife\n",
      "Processing Record 18 of 606 |  Torrington\n",
      "Processing Record 19 of 606 |  Sitka\n",
      "Processing Record 20 of 606 |  Cockburn Town\n",
      "Processing Record 21 of 606 |  Mildura\n",
      "Processing Record 22 of 606 |  Martapura\n",
      "Processing Record 23 of 606 |  falealupo\n",
      " City not found. Skipping...\n",
      "Processing Record 24 of 606 |  Zhuhai\n",
      "Processing Record 25 of 606 |  Airai\n",
      "Processing Record 26 of 606 |  Ankazobe\n",
      "Processing Record 27 of 606 |  Punta Arenas\n",
      "Processing Record 28 of 606 |  Szentes\n",
      "Processing Record 29 of 606 |  Mount Gambier\n",
      "Processing Record 30 of 606 |  Katsuura\n",
      "Processing Record 31 of 606 |  Andra\n",
      "Processing Record 32 of 606 |  Walvis Bay\n",
      "Processing Record 33 of 606 |  labutta\n",
      " City not found. Skipping...\n",
      "Processing Record 34 of 606 |  Kassala\n",
      "Processing Record 35 of 606 |  tsihombe\n",
      " City not found. Skipping...\n",
      "Processing Record 36 of 606 |  Faanui\n",
      "Processing Record 37 of 606 |  Kruisfontein\n",
      "Processing Record 38 of 606 |  Margate\n",
      "Processing Record 39 of 606 |  Carnarvon\n",
      "Processing Record 40 of 606 |  Busselton\n",
      "Processing Record 41 of 606 |  Vaini\n",
      "Processing Record 42 of 606 |  Adeje\n",
      "Processing Record 43 of 606 |  Innisfail\n",
      "Processing Record 44 of 606 |  Rikitea\n",
      "Processing Record 45 of 606 |  Lethem\n",
      "Processing Record 46 of 606 |  Kavaratti\n",
      "Processing Record 47 of 606 |  Shepsi\n",
      "Processing Record 48 of 606 |  Kapit\n",
      "Processing Record 49 of 606 |  Lengshuijiang\n",
      "Processing Record 50 of 606 |  Albany\n",
      "Processing Record 51 of 606 |  Marawi\n",
      "Processing Record 52 of 606 |  Qaanaaq\n",
      "Processing Record 53 of 606 |  Port Hedland\n",
      "Processing Record 54 of 606 |  Port Elizabeth\n",
      "Processing Record 55 of 606 |  Bossangoa\n",
      "Processing Record 56 of 606 |  Rauma\n",
      "Processing Record 57 of 606 |  barentsburg\n",
      " City not found. Skipping...\n",
      "Processing Record 58 of 606 |  Tasiilaq\n",
      "Processing Record 59 of 606 |  kamenskoye\n",
      " City not found. Skipping...\n",
      "Processing Record 60 of 606 |  Hoquiam\n",
      "Processing Record 61 of 606 |  Cové\n",
      "Processing Record 62 of 606 |  Kysyl-Syr\n",
      "Processing Record 63 of 606 |  Mizdah\n",
      "Processing Record 64 of 606 |  Chifeng\n",
      "Processing Record 65 of 606 |  Shimokizukuri\n",
      "Processing Record 66 of 606 |  taolanaro\n",
      " City not found. Skipping...\n",
      "Processing Record 67 of 606 |  Nouadhibou\n",
      "Processing Record 68 of 606 |  Hermanus\n",
      "Processing Record 69 of 606 |  Puerto Ayora\n",
      "Processing Record 70 of 606 |  Butaritari\n",
      "Processing Record 71 of 606 |  samusu\n",
      " City not found. Skipping...\n",
      "Processing Record 72 of 606 |  Páez\n",
      "Processing Record 73 of 606 |  Dingle\n",
      "Processing Record 74 of 606 |  Cabo San Lucas\n",
      "Processing Record 75 of 606 |  Sur\n",
      "Processing Record 76 of 606 |  Beloha\n",
      "Processing Record 77 of 606 |  Hobart\n",
      "Processing Record 78 of 606 |  Plouzané\n",
      "Processing Record 79 of 606 |  Cherskiy\n",
      "Processing Record 80 of 606 |  Barrow\n",
      "Processing Record 81 of 606 |  Eyl\n",
      "Processing Record 82 of 606 |  illoqqortoormiut\n",
      " City not found. Skipping...\n",
      "Processing Record 83 of 606 |  Fare\n",
      "Processing Record 84 of 606 |  Road Town\n",
      "Processing Record 85 of 606 |  Sabang\n",
      "Processing Record 86 of 606 |  Diamantino\n",
      "Processing Record 87 of 606 |  Padang\n",
      "Processing Record 88 of 606 |  Hong Kong\n",
      "Processing Record 89 of 606 |  Nikolskoye\n",
      "Processing Record 90 of 606 |  Ribeira Brava\n",
      "Processing Record 91 of 606 |  tuggurt\n",
      " City not found. Skipping...\n",
      "Processing Record 92 of 606 |  Masvingo\n",
      "Processing Record 93 of 606 |  Jalu\n",
      "Processing Record 94 of 606 |  East London\n",
      "Processing Record 95 of 606 |  Vardø\n",
      "Processing Record 96 of 606 |  Goderich\n",
      "Processing Record 97 of 606 |  Bredasdorp\n",
      "Processing Record 98 of 606 |  Great Yarmouth\n",
      "Processing Record 99 of 606 |  Otane\n",
      "Processing Record 100 of 606 |  Port Alfred\n",
      "Processing Record 101 of 606 |  Voh\n",
      "Processing Record 102 of 606 |  Safi\n",
      "Processing Record 103 of 606 |  Castro\n",
      "Processing Record 104 of 606 |  Klaksvík\n",
      "Processing Record 105 of 606 |  Banda Aceh\n",
      "Processing Record 106 of 606 |  Kashgar\n",
      "Processing Record 107 of 606 |  Arraial do Cabo\n",
      "Processing Record 108 of 606 |  Codrington\n",
      "Processing Record 109 of 606 |  Diffa\n",
      "Processing Record 110 of 606 |  Hithadhoo\n",
      "Processing Record 111 of 606 |  Riviere-au-Renard\n",
      "Processing Record 112 of 606 |  Rome\n",
      "Processing Record 113 of 606 |  Hilo\n",
      "Processing Record 114 of 606 |  Bethel\n",
      "Processing Record 115 of 606 |  Dikson\n",
      "Processing Record 116 of 606 |  Sarkand\n",
      "Processing Record 117 of 606 |  belushya guba\n",
      " City not found. Skipping...\n",
      "Processing Record 118 of 606 |  Hasaki\n",
      "Processing Record 119 of 606 |  Hope\n",
      "Processing Record 120 of 606 |  Cap Malheureux\n",
      "Processing Record 121 of 606 |  kuche\n",
      " City not found. Skipping...\n",
      "Processing Record 122 of 606 |  Paramonga\n",
      "Processing Record 123 of 606 |  Tuktoyaktuk\n",
      "Processing Record 124 of 606 |  eMkhomazi\n",
      "Processing Record 125 of 606 |  Cañon City\n",
      "Processing Record 126 of 606 |  Uberlândia\n",
      "Processing Record 127 of 606 |  Avarua\n",
      "Processing Record 128 of 606 |  Tiksi\n",
      "Processing Record 129 of 606 |  Parintins\n",
      "Processing Record 130 of 606 |  maloshuyka\n",
      " City not found. Skipping...\n",
      "Processing Record 131 of 606 |  Lavrentiya\n",
      "Processing Record 132 of 606 |  Pacific Grove\n",
      "Processing Record 133 of 606 |  hihifo\n",
      " City not found. Skipping...\n",
      "Processing Record 134 of 606 |  Kaitangata\n",
      "Processing Record 135 of 606 |  Alofi\n",
      "Processing Record 136 of 606 |  Tuatapere\n",
      "Processing Record 137 of 606 |  Lorengau\n",
      "Processing Record 138 of 606 |  Ponta do Sol\n",
      "Processing Record 139 of 606 |  Juneau\n",
      "Processing Record 140 of 606 |  Atar\n",
      "Processing Record 141 of 606 |  Saint Paul Harbor\n",
      "Processing Record 142 of 606 |  Thompson\n",
      "Processing Record 143 of 606 |  Pangnirtung\n",
      "Processing Record 144 of 606 |  Richards Bay\n",
      "Processing Record 145 of 606 |  Plettenberg Bay\n",
      "Processing Record 146 of 606 |  Santiago del Estero\n",
      "Processing Record 147 of 606 |  Leer\n",
      "Processing Record 148 of 606 |  Provideniya\n",
      "Processing Record 149 of 606 |  Broome\n",
      "Processing Record 150 of 606 |  Lüderitz\n",
      "Processing Record 151 of 606 |  Waitati\n",
      "Processing Record 152 of 606 |  Stenlille\n",
      "Processing Record 153 of 606 |  Severo-Kuril'sk\n",
      "Processing Record 154 of 606 |  Kabo\n",
      "Processing Record 155 of 606 |  lolua\n",
      " City not found. Skipping...\n",
      "Processing Record 156 of 606 |  Shenjiamen\n",
      "Processing Record 157 of 606 |  Mataura\n",
      "Processing Record 158 of 606 |  Binga\n",
      "Processing Record 159 of 606 |  Lebu\n",
      "Processing Record 160 of 606 |  Krutinka\n",
      "Processing Record 161 of 606 |  Ābyek\n",
      "Processing Record 162 of 606 |  Vostok\n",
      "Processing Record 163 of 606 |  Corozal\n",
      "Processing Record 164 of 606 |  Mayumba\n",
      "Processing Record 165 of 606 |  Uzunovo\n",
      "Processing Record 166 of 606 |  George Town\n",
      "Processing Record 167 of 606 |  Tateyama\n",
      "Processing Record 168 of 606 |  Ostrovnoy\n",
      "Processing Record 169 of 606 |  Bluff\n",
      "Processing Record 170 of 606 |  Bow Island\n",
      "Processing Record 171 of 606 |  General Roca\n",
      "Processing Record 172 of 606 |  Bathsheba\n",
      "Processing Record 173 of 606 |  Khatanga\n",
      "Processing Record 174 of 606 |  Częstochowa\n",
      "Processing Record 175 of 606 |  Kapaa\n",
      "Processing Record 176 of 606 |  Saint George\n",
      "Processing Record 177 of 606 |  Olafsvik\n",
      "Processing Record 178 of 606 |  Chui\n",
      "Processing Record 179 of 606 |  Isangel\n",
      "Processing Record 180 of 606 |  Salalah\n",
      "Processing Record 181 of 606 |  Half Moon Bay\n",
      "Processing Record 182 of 606 |  Dilla\n",
      "Processing Record 183 of 606 |  Novo Aripuanã\n",
      "Processing Record 184 of 606 |  Guerrero Negro\n",
      "Processing Record 185 of 606 |  Vestmannaeyjar\n",
      "Processing Record 186 of 606 |  Mar del Plata\n",
      "Processing Record 187 of 606 |  Cape Town\n",
      "Processing Record 188 of 606 |  Riachão das Neves\n",
      "Processing Record 189 of 606 |  Aleksandrovsk-Sakhalinskiy\n"
     ]
    },
    {
     "name": "stdout",
     "output_type": "stream",
     "text": [
      "Processing Record 190 of 606 |  Sisimiut\n",
      "Processing Record 191 of 606 |  Kayanga\n",
      "Processing Record 192 of 606 |  San Luis\n",
      "Processing Record 193 of 606 |  Urucará\n",
      "Processing Record 194 of 606 |  Mirşid\n",
      "Processing Record 195 of 606 |  Ugoofaaru\n",
      "Processing Record 196 of 606 |  Djibo\n",
      "Processing Record 197 of 606 |  Terenos\n",
      "Processing Record 198 of 606 |  Guben\n",
      "Processing Record 199 of 606 |  Colac\n",
      "Processing Record 200 of 606 |  Port Blair\n",
      "Processing Record 201 of 606 |  Novyy Nekouz\n",
      "Processing Record 202 of 606 |  Ambilobe\n",
      "Processing Record 203 of 606 |  Porto Belo\n",
      "Processing Record 204 of 606 |  Maniitsoq\n",
      "Processing Record 205 of 606 |  Nemuro\n",
      "Processing Record 206 of 606 |  Batemans Bay\n",
      "Processing Record 207 of 606 |  Iqaluit\n",
      "Processing Record 208 of 606 |  Aklavik\n",
      "Processing Record 209 of 606 |  sentyabrskiy\n",
      " City not found. Skipping...\n",
      "Processing Record 210 of 606 |  Meulaboh\n",
      "Processing Record 211 of 606 |  Saint-Louis\n",
      "Processing Record 212 of 606 |  Port Lincoln\n",
      "Processing Record 213 of 606 |  Soweto\n",
      "Processing Record 214 of 606 |  Torbay\n",
      "Processing Record 215 of 606 |  Terrace\n",
      "Processing Record 216 of 606 |  Itaueira\n",
      "Processing Record 217 of 606 |  Mahébourg\n",
      "Processing Record 218 of 606 |  Seydişehir\n",
      "Processing Record 219 of 606 |  Salimpur\n",
      "Processing Record 220 of 606 |  Kavieng\n",
      "Processing Record 221 of 606 |  Norman Wells\n",
      "Processing Record 222 of 606 |  Mount Isa\n",
      "Processing Record 223 of 606 |  Egvekinot\n",
      "Processing Record 224 of 606 |  Saskylakh\n",
      "Processing Record 225 of 606 |  Greensboro\n",
      "Processing Record 226 of 606 |  Jamestown\n",
      "Processing Record 227 of 606 |  Hobyo\n",
      "Processing Record 228 of 606 |  attawapiskat\n",
      " City not found. Skipping...\n",
      "Processing Record 229 of 606 |  Yen Bai\n",
      "Processing Record 230 of 606 |  Balikpapan\n",
      "Processing Record 231 of 606 |  Itoman\n",
      "Processing Record 232 of 606 |  Kahului\n",
      "Processing Record 233 of 606 |  Vidim\n",
      "Processing Record 234 of 606 |  Am Timan\n",
      "Processing Record 235 of 606 |  Calama\n",
      "Processing Record 236 of 606 |  North Platte\n",
      "Processing Record 237 of 606 |  Nador\n",
      "Processing Record 238 of 606 |  Asău\n",
      "Processing Record 239 of 606 |  tumannyy\n",
      " City not found. Skipping...\n",
      "Processing Record 240 of 606 |  Pemangkat\n",
      "Processing Record 241 of 606 |  Saldanha\n",
      "Processing Record 242 of 606 |  jinchengjiang\n",
      " City not found. Skipping...\n",
      "Processing Record 243 of 606 |  Rawson\n",
      "Processing Record 244 of 606 |  Viytivka\n",
      "Processing Record 245 of 606 |  Taoudenni\n",
      "Processing Record 246 of 606 |  Lamu\n",
      "Processing Record 247 of 606 |  Esik\n",
      "Processing Record 248 of 606 |  Esim\n",
      "Processing Record 249 of 606 |  Luga\n",
      "Processing Record 250 of 606 |  Pevek\n",
      "Processing Record 251 of 606 |  Narsaq\n",
      "Processing Record 252 of 606 |  Husavik\n",
      "Processing Record 253 of 606 |  Afzalpur\n",
      "Processing Record 254 of 606 |  Upernavik\n",
      "Processing Record 255 of 606 |  Masterton\n",
      "Processing Record 256 of 606 |  Semey\n",
      "Processing Record 257 of 606 |  Vila Franca do Campo\n",
      "Processing Record 258 of 606 |  Nurota\n",
      "Processing Record 259 of 606 |  Livingston\n",
      "Processing Record 260 of 606 |  Missoula\n",
      "Processing Record 261 of 606 |  Acapulco de Juárez\n",
      "Processing Record 262 of 606 |  Vrangel'\n",
      "Processing Record 263 of 606 |  Luganville\n",
      "Processing Record 264 of 606 |  Coyhaique\n",
      "Processing Record 265 of 606 |  Raja\n",
      "Processing Record 266 of 606 |  Inuvik\n",
      "Processing Record 267 of 606 |  Araguaína\n",
      "Processing Record 268 of 606 |  Sarakhs\n",
      "Processing Record 269 of 606 |  Galveston\n",
      "Processing Record 270 of 606 |  Kirakira\n",
      "Processing Record 271 of 606 |  Huánuco\n",
      "Processing Record 272 of 606 |  Sandwick\n",
      "Processing Record 273 of 606 |  Vuktyl\n",
      "Processing Record 274 of 606 |  Mandalgovi\n",
      "Processing Record 275 of 606 |  Kjøllefjord\n",
      "Processing Record 276 of 606 |  Zmiyiv\n",
      "Processing Record 277 of 606 |  Ribeira Grande\n",
      "Processing Record 278 of 606 |  Oga\n",
      "Processing Record 279 of 606 |  Bekhtery\n",
      "Processing Record 280 of 606 |  Bowen\n",
      "Processing Record 281 of 606 |  Devonport\n",
      "Processing Record 282 of 606 |  Haines Junction\n",
      "Processing Record 283 of 606 |  Comodoro Rivadavia\n",
      "Processing Record 284 of 606 |  Dwārka\n",
      "Processing Record 285 of 606 |  Bairiki Village\n",
      "Processing Record 286 of 606 |  Batagay\n",
      "Processing Record 287 of 606 |  Coquimbo\n",
      "Processing Record 288 of 606 |  Cidreira\n",
      "Processing Record 289 of 606 |  Thinadhoo\n",
      "Processing Record 290 of 606 |  Kaili\n",
      "Processing Record 291 of 606 |  Carbondale\n",
      "Processing Record 292 of 606 |  Port Keats\n",
      "Processing Record 293 of 606 |  Chokurdakh\n",
      "Processing Record 294 of 606 |  Ordzhonīkīdze\n",
      "Processing Record 295 of 606 |  Koratla\n",
      "Processing Record 296 of 606 |  Artyom\n",
      "Processing Record 297 of 606 |  Lerwick\n",
      "Processing Record 298 of 606 |  Souillac\n",
      "Processing Record 299 of 606 |  The Valley\n",
      "Processing Record 300 of 606 |  Mocuba\n",
      "Processing Record 301 of 606 |  El Dorado\n",
      "Processing Record 302 of 606 |  Kushiro\n",
      "Processing Record 303 of 606 |  Mahanoro\n",
      "Processing Record 304 of 606 |  Beringovskiy\n",
      "Processing Record 305 of 606 |  Constitución\n",
      "Processing Record 306 of 606 |  Lompoc\n",
      "Processing Record 307 of 606 |  Olinda\n",
      "Processing Record 308 of 606 |  Garhwa\n",
      "Processing Record 309 of 606 |  Hailun\n",
      "Processing Record 310 of 606 |  Srednekolymsk\n",
      "Processing Record 311 of 606 |  Mogadishu\n",
      "Processing Record 312 of 606 |  Tela\n",
      "Processing Record 313 of 606 |  Nizhniy Kuranakh\n",
      "Processing Record 314 of 606 |  play cu\n",
      " City not found. Skipping...\n",
      "Processing Record 315 of 606 |  Sānchor\n",
      "Processing Record 316 of 606 |  Karymskoye\n",
      "Processing Record 317 of 606 |  beruni\n",
      " City not found. Skipping...\n",
      "Processing Record 318 of 606 |  Little Chute\n",
      "Processing Record 319 of 606 |  San Quintín\n",
      "Processing Record 320 of 606 |  Tocopilla\n",
      "Processing Record 321 of 606 |  Narrabri\n",
      "Processing Record 322 of 606 |  Pontianak\n",
      "Processing Record 323 of 606 |  saleaula\n",
      " City not found. Skipping...\n",
      "Processing Record 324 of 606 |  Yangi Marg`ilon\n",
      "Processing Record 325 of 606 |  Ahipara\n",
      "Processing Record 326 of 606 |  Pisco\n",
      "Processing Record 327 of 606 |  Cabedelo\n",
      "Processing Record 328 of 606 |  Rio Grande\n",
      "Processing Record 329 of 606 |  Cornwall\n",
      "Processing Record 330 of 606 |  Eenhana\n",
      "Processing Record 331 of 606 |  Ca Mau\n",
      "Processing Record 332 of 606 |  La Sarre\n",
      "Processing Record 333 of 606 |  San Patricio\n",
      "Processing Record 334 of 606 |  Måløy\n",
      "Processing Record 335 of 606 |  Yeniseysk\n",
      "Processing Record 336 of 606 |  Sarangani\n",
      "Processing Record 337 of 606 |  Narón\n",
      "Processing Record 338 of 606 |  Kiryat Gat\n",
      "Processing Record 339 of 606 |  Hakodate\n",
      "Processing Record 340 of 606 |  Tazovsky\n",
      "Processing Record 341 of 606 |  Çermik\n",
      "Processing Record 342 of 606 |  Saint-Joseph\n",
      "Processing Record 343 of 606 |  Kutum\n",
      "Processing Record 344 of 606 |  Duyun\n",
      "Processing Record 345 of 606 |  Muhafazat Lahij\n",
      "Processing Record 346 of 606 |  sahrak\n",
      " City not found. Skipping...\n",
      "Processing Record 347 of 606 |  Malanje\n",
      "Processing Record 348 of 606 |  Madang\n",
      "Processing Record 349 of 606 |  Sangar\n",
      "Processing Record 350 of 606 |  Kampot\n",
      "Processing Record 351 of 606 |  Mitú\n",
      "Processing Record 352 of 606 |  phan rang\n",
      " City not found. Skipping...\n",
      "Processing Record 353 of 606 |  Fujinomiya\n",
      "Processing Record 354 of 606 |  Petropavlovsk-Kamchatskiy\n",
      "Processing Record 355 of 606 |  Morozovsk\n",
      "Processing Record 356 of 606 |  Grindavik\n",
      "Processing Record 357 of 606 |  Arinos\n",
      "Processing Record 358 of 606 |  Nombre de Dios\n",
      "Processing Record 359 of 606 |  Pochutla\n",
      "Processing Record 360 of 606 |  São Filipe\n",
      "Processing Record 361 of 606 |  Yermekeyevo\n",
      "Processing Record 362 of 606 |  Kuril'sk\n",
      "Processing Record 363 of 606 |  Iclod\n",
      "Processing Record 364 of 606 |  Ilulissat\n",
      "Processing Record 365 of 606 |  Bulgan\n",
      "Processing Record 366 of 606 |  Wewak\n",
      "Processing Record 367 of 606 |  Lázaro Cárdenas\n",
      "Processing Record 368 of 606 |  Zhangaözen\n",
      "Processing Record 369 of 606 |  Okhotsk\n",
      "Processing Record 370 of 606 |  Bemidji\n",
      "Processing Record 371 of 606 |  Kamenka\n",
      "Processing Record 372 of 606 |  Wangaratta\n",
      "Processing Record 373 of 606 |  Vitry-le-François\n",
      "Processing Record 374 of 606 |  Kropotkin\n",
      "Processing Record 375 of 606 |  nizhneyansk\n",
      " City not found. Skipping...\n",
      "Processing Record 376 of 606 |  Fortuna\n",
      "Processing Record 377 of 606 |  Amboasary\n",
      "Processing Record 378 of 606 |  Grand Gaube\n",
      "Processing Record 379 of 606 |  palabuhanratu\n",
      " City not found. Skipping...\n"
     ]
    },
    {
     "name": "stdout",
     "output_type": "stream",
     "text": [
      "Processing Record 380 of 606 |  Gizo Government Station\n",
      "Processing Record 381 of 606 |  Cobija\n",
      "Processing Record 382 of 606 |  Mehamn\n",
      "Processing Record 383 of 606 |  Yar-Sale\n",
      "Processing Record 384 of 606 |  Tegul'det\n",
      "Processing Record 385 of 606 |  Dāmghān\n",
      "Processing Record 386 of 606 |  Mizque\n",
      "Processing Record 387 of 606 |  Corinth\n",
      "Processing Record 388 of 606 |  Hirara\n",
      "Processing Record 389 of 606 |  Jojoima\n",
      "Processing Record 390 of 606 |  Solnechnyy\n",
      "Processing Record 391 of 606 |  Henties Bay\n",
      "Processing Record 392 of 606 |  St. George's\n",
      "Processing Record 393 of 606 |  Bambous Virieux\n",
      "Processing Record 394 of 606 |  Dunmore Town\n",
      "Processing Record 395 of 606 |  São José da Coroa Grande\n",
      "Processing Record 396 of 606 |  vaitupu\n",
      " City not found. Skipping...\n",
      "Processing Record 397 of 606 |  Tuy Hoa\n",
      "Processing Record 398 of 606 |  Hilton Head\n",
      "Processing Record 399 of 606 |  Acton\n",
      "Processing Record 400 of 606 |  Dehlorān\n",
      "Processing Record 401 of 606 |  College\n",
      "Processing Record 402 of 606 |  Arrondissement de Vannes\n",
      "Processing Record 403 of 606 |  Houma\n",
      "Processing Record 404 of 606 |  Izumo\n",
      "Processing Record 405 of 606 |  Whitehorse\n",
      "Processing Record 406 of 606 |  Laguna\n",
      "Processing Record 407 of 606 |  Brewster\n",
      "Processing Record 408 of 606 |  Ancud\n",
      "Processing Record 409 of 606 |  Gaziantep\n",
      "Processing Record 410 of 606 |  Khorramshahr\n",
      "Processing Record 411 of 606 |  Skellefteå\n",
      "Processing Record 412 of 606 |  Bumba\n",
      "Processing Record 413 of 606 |  Nioro\n",
      "Processing Record 414 of 606 |  Malé\n",
      "Processing Record 415 of 606 |  Damphu\n",
      "Processing Record 416 of 606 |  West Lafayette\n",
      "Processing Record 417 of 606 |  Luena\n",
      "Processing Record 418 of 606 |  grand river south east\n",
      " City not found. Skipping...\n",
      "Processing Record 419 of 606 |  Saint-Augustin\n",
      "Processing Record 420 of 606 |  Townsville\n",
      "Processing Record 421 of 606 |  Beyneu\n",
      "Processing Record 422 of 606 |  Marsh Harbour\n",
      "Processing Record 423 of 606 |  Tazmalt\n",
      "Processing Record 424 of 606 |  Carutapera\n",
      "Processing Record 425 of 606 |  Nishihara\n",
      "Processing Record 426 of 606 |  Mountain Home\n",
      "Processing Record 427 of 606 |  Dunedin\n",
      "Processing Record 428 of 606 |  Río Gallegos\n",
      "Processing Record 429 of 606 |  Turukhansk\n",
      "Processing Record 430 of 606 |  Nelson Bay\n",
      "Processing Record 431 of 606 |  São João da Barra\n",
      "Processing Record 432 of 606 |  Campbellsville\n",
      "Processing Record 433 of 606 |  Tevriz\n",
      "Processing Record 434 of 606 |  Mezen'\n",
      "Processing Record 435 of 606 |  Antsohihy\n",
      "Processing Record 436 of 606 |  Akhisar\n",
      "Processing Record 437 of 606 |  Kuminskiy\n",
      "Processing Record 438 of 606 |  Baykit\n",
      "Processing Record 439 of 606 |  Teguise\n",
      "Processing Record 440 of 606 |  Chumikan\n",
      "Processing Record 441 of 606 |  Avera\n",
      "Processing Record 442 of 606 |  Tinyahuarco\n",
      "Processing Record 443 of 606 |  Kumul\n",
      "Processing Record 444 of 606 |  Hoa Binh\n",
      "Processing Record 445 of 606 |  Makakilo City\n",
      "Processing Record 446 of 606 |  Tomatlán\n",
      "Processing Record 447 of 606 |  San Andrés\n",
      "Processing Record 448 of 606 |  Ngaoundéré\n",
      "Processing Record 449 of 606 |  Sukumo\n",
      "Processing Record 450 of 606 |  Aleksandrov Gay\n",
      "Processing Record 451 of 606 |  Brae\n",
      "Processing Record 452 of 606 |  Tarakan\n",
      "Processing Record 453 of 606 |  Ciudad Bolivar\n",
      "Processing Record 454 of 606 |  Barra de Tecoanapa\n",
      "Processing Record 455 of 606 |  Nizwá\n",
      "Processing Record 456 of 606 |  Gillette\n",
      "Processing Record 457 of 606 |  Arrondissement de Cahors\n",
      "Processing Record 458 of 606 |  Launceston\n",
      "Processing Record 459 of 606 |  Petropavl\n",
      "Processing Record 460 of 606 |  Bariloche\n",
      "Processing Record 461 of 606 |  Savelugu\n",
      "Processing Record 462 of 606 |  Sharjah city\n",
      "Processing Record 463 of 606 |  Humberto de Campos\n",
      "Processing Record 464 of 606 |  Türkan\n",
      "Processing Record 465 of 606 |  Yaan\n",
      "Processing Record 466 of 606 |  Sechelt\n",
      "Processing Record 467 of 606 |  Sakakah\n",
      "Processing Record 468 of 606 |  Chara\n",
      "Processing Record 469 of 606 |  Broken Hill\n",
      "Processing Record 470 of 606 |  marcona\n",
      " City not found. Skipping...\n",
      "Processing Record 471 of 606 |  Khovd\n",
      "Processing Record 472 of 606 |  Bukama\n",
      "Processing Record 473 of 606 |  Kapoeta\n",
      "Processing Record 474 of 606 |  Kharp\n",
      "Processing Record 475 of 606 |  Kieta\n",
      "Processing Record 476 of 606 |  wulanhaote\n",
      " City not found. Skipping...\n",
      "Processing Record 477 of 606 |  Kez\n",
      "Processing Record 478 of 606 |  Xichang\n",
      "Processing Record 479 of 606 |  Yeppoon\n",
      "Processing Record 480 of 606 |  Afipskiy\n",
      "Processing Record 481 of 606 |  Igarka\n",
      "Processing Record 482 of 606 |  Lovington\n",
      "Processing Record 483 of 606 |  Tongchuanshi\n",
      "Processing Record 484 of 606 |  Paamiut\n",
      "Processing Record 485 of 606 |  Kiruna\n",
      "Processing Record 486 of 606 |  Conde\n",
      "Processing Record 487 of 606 |  Nantucket\n",
      "Processing Record 488 of 606 |  halalo\n",
      " City not found. Skipping...\n",
      "Processing Record 489 of 606 |  Vícar\n",
      "Processing Record 490 of 606 |  Progreso\n",
      "Processing Record 491 of 606 |  Hukuntsi\n",
      "Processing Record 492 of 606 |  Atbasar\n",
      "Processing Record 493 of 606 |  Nazaré\n",
      "Processing Record 494 of 606 |  Verkhoyansk\n",
      "Processing Record 495 of 606 |  Takoradze\n",
      "Processing Record 496 of 606 |  qingan\n",
      " City not found. Skipping...\n",
      "Processing Record 497 of 606 |  Emerald\n",
      "Processing Record 498 of 606 |  Kenai\n",
      "Processing Record 499 of 606 |  Palmerston\n",
      "Processing Record 500 of 606 |  Windhoek\n",
      "Processing Record 501 of 606 |  Reguengos de Monsaraz\n",
      "Processing Record 502 of 606 |  Poum\n",
      "Processing Record 503 of 606 |  Sokoto\n",
      "Processing Record 504 of 606 |  Vila Velha\n",
      "Processing Record 505 of 606 |  Benguela\n",
      "Processing Record 506 of 606 |  Kamenz\n",
      "Processing Record 507 of 606 |  Morant Bay\n",
      "Processing Record 508 of 606 |  Anadyr\n",
      "Processing Record 509 of 606 |  Jagdalpur\n",
      "Processing Record 510 of 606 |  Bubaque\n",
      "Processing Record 511 of 606 |  Mil'kovo\n",
      "Processing Record 512 of 606 |  Coihueco\n",
      "Processing Record 513 of 606 |  Boissevain\n",
      "Processing Record 514 of 606 |  Isabela\n",
      "Processing Record 515 of 606 |  Manggar\n",
      "Processing Record 516 of 606 |  Arlit\n",
      "Processing Record 517 of 606 |  Llanelli\n",
      "Processing Record 518 of 606 |  malwan\n",
      " City not found. Skipping...\n",
      "Processing Record 519 of 606 |  Bassar\n",
      "Processing Record 520 of 606 |  Chapais\n",
      "Processing Record 521 of 606 |  El Alto\n",
      "Processing Record 522 of 606 |  Murgab\n",
      "Processing Record 523 of 606 |  Siavonga\n",
      "Processing Record 524 of 606 |  Saint Anthony\n",
      "Processing Record 525 of 606 |  Levokumskoye\n",
      "Processing Record 526 of 606 |  Abū Zabad\n",
      "Processing Record 527 of 606 |  Baracoa\n",
      "Processing Record 528 of 606 |  Kathu\n",
      "Processing Record 529 of 606 |  Mahon\n",
      "Processing Record 530 of 606 |  Plaridel\n",
      "Processing Record 531 of 606 |  Moose Factory\n",
      "Processing Record 532 of 606 |  San Cristobal\n",
      "Processing Record 533 of 606 |  ‘Ewa Beach\n",
      "Processing Record 534 of 606 |  lushunkou\n",
      " City not found. Skipping...\n",
      "Processing Record 535 of 606 |  Muli\n",
      "Processing Record 536 of 606 |  Berlevåg\n",
      "Processing Record 537 of 606 |  Havelock\n",
      "Processing Record 538 of 606 |  Tingi\n",
      "Processing Record 539 of 606 |  Mirebalais\n",
      "Processing Record 540 of 606 |  Bandarbeyla\n",
      "Processing Record 541 of 606 |  Shenkursk\n",
      "Processing Record 542 of 606 |  Fukuechō\n",
      "Processing Record 543 of 606 |  Iralaya\n",
      "Processing Record 544 of 606 |  Denpasar\n",
      "Processing Record 545 of 606 |  Laredo\n",
      "Processing Record 546 of 606 |  Mirante do Paranapanema\n",
      "Processing Record 547 of 606 |  Mapiripán\n",
      "Processing Record 548 of 606 |  Onda\n",
      "Processing Record 549 of 606 |  tarhunah\n",
      " City not found. Skipping...\n",
      "Processing Record 550 of 606 |  Tura\n",
      "Processing Record 551 of 606 |  Leningradskiy\n",
      "Processing Record 552 of 606 |  Tsaitien\n",
      "Processing Record 553 of 606 |  Amapá\n",
      "Processing Record 554 of 606 |  Humaitá\n",
      "Processing Record 555 of 606 |  Sola\n",
      "Processing Record 556 of 606 |  Lagoa\n",
      "Processing Record 557 of 606 |  Labuhan\n",
      "Processing Record 558 of 606 |  Tilichiki\n",
      "Processing Record 559 of 606 |  Waycross\n",
      "Processing Record 560 of 606 |  Korla\n",
      "Processing Record 561 of 606 |  karkaralinsk\n",
      " City not found. Skipping...\n",
      "Processing Record 562 of 606 |  Maiduguri\n",
      "Processing Record 563 of 606 |  Kailua\n",
      "Processing Record 564 of 606 |  Necochea\n",
      "Processing Record 565 of 606 |  Alice Town\n",
      "Processing Record 566 of 606 |  Morales\n",
      "Processing Record 567 of 606 |  Ambon City\n",
      "Processing Record 568 of 606 |  Tra Vinh\n",
      "Processing Record 569 of 606 |  Yasnyy\n"
     ]
    },
    {
     "name": "stdout",
     "output_type": "stream",
     "text": [
      "Processing Record 570 of 606 |  Balakovo\n",
      "Processing Record 571 of 606 |  Manakara\n",
      "Processing Record 572 of 606 |  old road\n",
      " City not found. Skipping...\n",
      "Processing Record 573 of 606 |  Pedasí\n",
      "Processing Record 574 of 606 |  Båtsfjord\n",
      "Processing Record 575 of 606 |  Val-David\n",
      "Processing Record 576 of 606 |  Kisiwani\n",
      "Processing Record 577 of 606 |  Port Macquarie\n",
      "Processing Record 578 of 606 |  Zlobin\n",
      "Processing Record 579 of 606 |  Opuwo\n",
      "Processing Record 580 of 606 |  Gamba\n",
      "Processing Record 581 of 606 |  Samarai\n",
      "Processing Record 582 of 606 |  paiho\n",
      " City not found. Skipping...\n",
      "Processing Record 583 of 606 |  paradwip\n",
      " City not found. Skipping...\n",
      "Processing Record 584 of 606 |  Grants Pass\n",
      "Processing Record 585 of 606 |  Motema\n",
      "Processing Record 586 of 606 |  Cascais\n",
      "Processing Record 587 of 606 |  Linhares\n",
      "Processing Record 588 of 606 |  Trzebiatów\n",
      "Processing Record 589 of 606 |  Emba\n",
      "Processing Record 590 of 606 |  Nyurba\n",
      "Processing Record 591 of 606 |  Kloulklubed\n",
      "Processing Record 592 of 606 |  Longyearbyen\n",
      "Processing Record 593 of 606 |  Labuan\n",
      "Processing Record 594 of 606 |  Erdenet\n",
      "Processing Record 595 of 606 |  Angoche\n",
      "Processing Record 596 of 606 |  tidore\n",
      " City not found. Skipping...\n",
      "Processing Record 597 of 606 |  Ondangwa\n",
      "Processing Record 598 of 606 |  Teahupoo\n",
      "Processing Record 599 of 606 |  Geraldton\n",
      "Processing Record 600 of 606 |  Urusha\n",
      "Processing Record 601 of 606 |  Santo Antônio do Içá\n",
      "Processing Record 602 of 606 |  Umm Kaddadah\n",
      "Processing Record 603 of 606 |  San Jose\n",
      "Processing Record 604 of 606 |  gollere\n",
      " City not found. Skipping...\n",
      "Processing Record 605 of 606 |  Savannah Bight\n",
      "Processing Record 606 of 606 |  Kaeo\n",
      "563 Successfully Collected\n"
     ]
    }
   ],
   "source": [
    "# Make the call and put into datafrom             \n",
    "citidata = runner(cities)\n"
   ]
  },
  {
   "cell_type": "markdown",
   "metadata": {},
   "source": [
    "### Convert Raw Data to DataFrame\n",
    "* Export the city data into a .csv.\n",
    "* Display the DataFrame"
   ]
  },
  {
   "cell_type": "code",
   "execution_count": 7,
   "metadata": {},
   "outputs": [
    {
     "data": {
      "text/html": [
       "<div>\n",
       "<style scoped>\n",
       "    .dataframe tbody tr th:only-of-type {\n",
       "        vertical-align: middle;\n",
       "    }\n",
       "\n",
       "    .dataframe tbody tr th {\n",
       "        vertical-align: top;\n",
       "    }\n",
       "\n",
       "    .dataframe thead th {\n",
       "        text-align: right;\n",
       "    }\n",
       "</style>\n",
       "<table border=\"1\" class=\"dataframe\">\n",
       "  <thead>\n",
       "    <tr style=\"text-align: right;\">\n",
       "      <th></th>\n",
       "      <th>searc_city</th>\n",
       "      <th>city</th>\n",
       "      <th>country</th>\n",
       "      <th>lat</th>\n",
       "      <th>lng</th>\n",
       "      <th>temp</th>\n",
       "      <th>humidity</th>\n",
       "      <th>cloudiness</th>\n",
       "      <th>windspeed</th>\n",
       "    </tr>\n",
       "  </thead>\n",
       "  <tbody>\n",
       "    <tr>\n",
       "      <th>0</th>\n",
       "      <td>ushuaia</td>\n",
       "      <td>Ushuaia</td>\n",
       "      <td>AR</td>\n",
       "      <td>-54.8000</td>\n",
       "      <td>-68.3000</td>\n",
       "      <td>50.00</td>\n",
       "      <td>53</td>\n",
       "      <td>40</td>\n",
       "      <td>20.71</td>\n",
       "    </tr>\n",
       "    <tr>\n",
       "      <th>1</th>\n",
       "      <td>oytal</td>\n",
       "      <td>Oytal</td>\n",
       "      <td>KZ</td>\n",
       "      <td>42.9057</td>\n",
       "      <td>73.2697</td>\n",
       "      <td>55.27</td>\n",
       "      <td>56</td>\n",
       "      <td>33</td>\n",
       "      <td>7.20</td>\n",
       "    </tr>\n",
       "    <tr>\n",
       "      <th>2</th>\n",
       "      <td>bengkulu</td>\n",
       "      <td>Bengkulu</td>\n",
       "      <td>ID</td>\n",
       "      <td>-3.8004</td>\n",
       "      <td>102.2655</td>\n",
       "      <td>77.02</td>\n",
       "      <td>91</td>\n",
       "      <td>99</td>\n",
       "      <td>3.87</td>\n",
       "    </tr>\n",
       "    <tr>\n",
       "      <th>3</th>\n",
       "      <td>muros</td>\n",
       "      <td>Muros</td>\n",
       "      <td>ES</td>\n",
       "      <td>42.7762</td>\n",
       "      <td>-9.0603</td>\n",
       "      <td>62.02</td>\n",
       "      <td>94</td>\n",
       "      <td>100</td>\n",
       "      <td>3.00</td>\n",
       "    </tr>\n",
       "    <tr>\n",
       "      <th>4</th>\n",
       "      <td>rock sound</td>\n",
       "      <td>Rock Sound</td>\n",
       "      <td>BS</td>\n",
       "      <td>24.9000</td>\n",
       "      <td>-76.2000</td>\n",
       "      <td>77.90</td>\n",
       "      <td>73</td>\n",
       "      <td>70</td>\n",
       "      <td>12.35</td>\n",
       "    </tr>\n",
       "    <tr>\n",
       "      <th>5</th>\n",
       "      <td>khani</td>\n",
       "      <td>Khani</td>\n",
       "      <td>GE</td>\n",
       "      <td>41.9563</td>\n",
       "      <td>42.9566</td>\n",
       "      <td>69.80</td>\n",
       "      <td>52</td>\n",
       "      <td>0</td>\n",
       "      <td>5.75</td>\n",
       "    </tr>\n",
       "    <tr>\n",
       "      <th>6</th>\n",
       "      <td>nanortalik</td>\n",
       "      <td>Nanortalik</td>\n",
       "      <td>GL</td>\n",
       "      <td>60.1432</td>\n",
       "      <td>-45.2371</td>\n",
       "      <td>38.43</td>\n",
       "      <td>75</td>\n",
       "      <td>36</td>\n",
       "      <td>7.11</td>\n",
       "    </tr>\n",
       "    <tr>\n",
       "      <th>7</th>\n",
       "      <td>dauphin</td>\n",
       "      <td>Dauphin</td>\n",
       "      <td>CA</td>\n",
       "      <td>51.1494</td>\n",
       "      <td>-100.0502</td>\n",
       "      <td>53.60</td>\n",
       "      <td>76</td>\n",
       "      <td>1</td>\n",
       "      <td>3.44</td>\n",
       "    </tr>\n",
       "    <tr>\n",
       "      <th>8</th>\n",
       "      <td>saint-philippe</td>\n",
       "      <td>Saint-Philippe</td>\n",
       "      <td>RE</td>\n",
       "      <td>-21.3585</td>\n",
       "      <td>55.7679</td>\n",
       "      <td>74.61</td>\n",
       "      <td>73</td>\n",
       "      <td>34</td>\n",
       "      <td>18.41</td>\n",
       "    </tr>\n",
       "    <tr>\n",
       "      <th>9</th>\n",
       "      <td>dieppe</td>\n",
       "      <td>Arrondissement de Dieppe</td>\n",
       "      <td>FR</td>\n",
       "      <td>49.7500</td>\n",
       "      <td>1.1667</td>\n",
       "      <td>60.35</td>\n",
       "      <td>57</td>\n",
       "      <td>39</td>\n",
       "      <td>1.01</td>\n",
       "    </tr>\n",
       "  </tbody>\n",
       "</table>\n",
       "</div>"
      ],
      "text/plain": [
       "       searc_city                      city country      lat       lng   temp  \\\n",
       "0         ushuaia                   Ushuaia      AR -54.8000  -68.3000  50.00   \n",
       "1           oytal                     Oytal      KZ  42.9057   73.2697  55.27   \n",
       "2        bengkulu                  Bengkulu      ID  -3.8004  102.2655  77.02   \n",
       "3           muros                     Muros      ES  42.7762   -9.0603  62.02   \n",
       "4      rock sound                Rock Sound      BS  24.9000  -76.2000  77.90   \n",
       "5           khani                     Khani      GE  41.9563   42.9566  69.80   \n",
       "6      nanortalik                Nanortalik      GL  60.1432  -45.2371  38.43   \n",
       "7         dauphin                   Dauphin      CA  51.1494 -100.0502  53.60   \n",
       "8  saint-philippe            Saint-Philippe      RE -21.3585   55.7679  74.61   \n",
       "9          dieppe  Arrondissement de Dieppe      FR  49.7500    1.1667  60.35   \n",
       "\n",
       "   humidity  cloudiness  windspeed  \n",
       "0        53          40      20.71  \n",
       "1        56          33       7.20  \n",
       "2        91          99       3.87  \n",
       "3        94         100       3.00  \n",
       "4        73          70      12.35  \n",
       "5        52           0       5.75  \n",
       "6        75          36       7.11  \n",
       "7        76           1       3.44  \n",
       "8        73          34      18.41  \n",
       "9        57          39       1.01  "
      ]
     },
     "execution_count": 7,
     "metadata": {},
     "output_type": "execute_result"
    }
   ],
   "source": [
    "citydatadf = pd.DataFrame(citidata)\n",
    "citydatadf.to_csv('citydata.csv', index=False)\n",
    "citydatadf.head(10)"
   ]
  },
  {
   "cell_type": "markdown",
   "metadata": {},
   "source": [
    "## Inspect the data and remove the cities where the humidity > 100%.\n",
    "----\n",
    "Skip this step if there are no cities that have humidity > 100%. "
   ]
  },
  {
   "cell_type": "code",
   "execution_count": 8,
   "metadata": {},
   "outputs": [
    {
     "data": {
      "text/html": [
       "<div>\n",
       "<style scoped>\n",
       "    .dataframe tbody tr th:only-of-type {\n",
       "        vertical-align: middle;\n",
       "    }\n",
       "\n",
       "    .dataframe tbody tr th {\n",
       "        vertical-align: top;\n",
       "    }\n",
       "\n",
       "    .dataframe thead th {\n",
       "        text-align: right;\n",
       "    }\n",
       "</style>\n",
       "<table border=\"1\" class=\"dataframe\">\n",
       "  <thead>\n",
       "    <tr style=\"text-align: right;\">\n",
       "      <th></th>\n",
       "      <th>lat</th>\n",
       "      <th>lng</th>\n",
       "      <th>temp</th>\n",
       "      <th>humidity</th>\n",
       "      <th>cloudiness</th>\n",
       "      <th>windspeed</th>\n",
       "    </tr>\n",
       "  </thead>\n",
       "  <tbody>\n",
       "    <tr>\n",
       "      <th>count</th>\n",
       "      <td>563.000000</td>\n",
       "      <td>563.000000</td>\n",
       "      <td>563.000000</td>\n",
       "      <td>563.000000</td>\n",
       "      <td>563.000000</td>\n",
       "      <td>563.000000</td>\n",
       "    </tr>\n",
       "    <tr>\n",
       "      <th>mean</th>\n",
       "      <td>19.360607</td>\n",
       "      <td>18.222480</td>\n",
       "      <td>66.278686</td>\n",
       "      <td>65.241563</td>\n",
       "      <td>52.307282</td>\n",
       "      <td>8.116465</td>\n",
       "    </tr>\n",
       "    <tr>\n",
       "      <th>std</th>\n",
       "      <td>33.220443</td>\n",
       "      <td>90.501402</td>\n",
       "      <td>18.639514</td>\n",
       "      <td>23.436260</td>\n",
       "      <td>37.614874</td>\n",
       "      <td>5.315311</td>\n",
       "    </tr>\n",
       "    <tr>\n",
       "      <th>min</th>\n",
       "      <td>-54.800000</td>\n",
       "      <td>-179.166700</td>\n",
       "      <td>9.230000</td>\n",
       "      <td>4.000000</td>\n",
       "      <td>0.000000</td>\n",
       "      <td>0.160000</td>\n",
       "    </tr>\n",
       "    <tr>\n",
       "      <th>25%</th>\n",
       "      <td>-8.055950</td>\n",
       "      <td>-64.329300</td>\n",
       "      <td>53.890000</td>\n",
       "      <td>50.500000</td>\n",
       "      <td>18.000000</td>\n",
       "      <td>4.440000</td>\n",
       "    </tr>\n",
       "    <tr>\n",
       "      <th>50%</th>\n",
       "      <td>22.276900</td>\n",
       "      <td>23.133300</td>\n",
       "      <td>69.800000</td>\n",
       "      <td>70.000000</td>\n",
       "      <td>59.000000</td>\n",
       "      <td>6.910000</td>\n",
       "    </tr>\n",
       "    <tr>\n",
       "      <th>75%</th>\n",
       "      <td>46.999950</td>\n",
       "      <td>95.725350</td>\n",
       "      <td>79.285000</td>\n",
       "      <td>84.000000</td>\n",
       "      <td>90.000000</td>\n",
       "      <td>10.370000</td>\n",
       "    </tr>\n",
       "    <tr>\n",
       "      <th>max</th>\n",
       "      <td>78.218600</td>\n",
       "      <td>179.316700</td>\n",
       "      <td>110.140000</td>\n",
       "      <td>100.000000</td>\n",
       "      <td>100.000000</td>\n",
       "      <td>28.770000</td>\n",
       "    </tr>\n",
       "  </tbody>\n",
       "</table>\n",
       "</div>"
      ],
      "text/plain": [
       "              lat         lng        temp    humidity  cloudiness   windspeed\n",
       "count  563.000000  563.000000  563.000000  563.000000  563.000000  563.000000\n",
       "mean    19.360607   18.222480   66.278686   65.241563   52.307282    8.116465\n",
       "std     33.220443   90.501402   18.639514   23.436260   37.614874    5.315311\n",
       "min    -54.800000 -179.166700    9.230000    4.000000    0.000000    0.160000\n",
       "25%     -8.055950  -64.329300   53.890000   50.500000   18.000000    4.440000\n",
       "50%     22.276900   23.133300   69.800000   70.000000   59.000000    6.910000\n",
       "75%     46.999950   95.725350   79.285000   84.000000   90.000000   10.370000\n",
       "max     78.218600  179.316700  110.140000  100.000000  100.000000   28.770000"
      ]
     },
     "execution_count": 8,
     "metadata": {},
     "output_type": "execute_result"
    }
   ],
   "source": [
    "citydatadf.describe()\n",
    "## Use MAX to see if there are any over 100."
   ]
  },
  {
   "cell_type": "code",
   "execution_count": 9,
   "metadata": {},
   "outputs": [],
   "source": [
    "# Another way, Return rows with humidity greater than 100.\n",
    "hundredpluscitiesdf = citydatadf[citydatadf['humidity'] <= 100]"
   ]
  },
  {
   "cell_type": "code",
   "execution_count": 10,
   "metadata": {},
   "outputs": [
    {
     "data": {
      "text/plain": [
       "[]"
      ]
     },
     "execution_count": 10,
     "metadata": {},
     "output_type": "execute_result"
    }
   ],
   "source": [
    "#  Get the indices of cities that have humidity over 100%.\n",
    "citydatadf.index[citydatadf['humidity'] > 100].tolist()"
   ]
  },
  {
   "cell_type": "code",
   "execution_count": 11,
   "metadata": {},
   "outputs": [
    {
     "data": {
      "text/html": [
       "<div>\n",
       "<style scoped>\n",
       "    .dataframe tbody tr th:only-of-type {\n",
       "        vertical-align: middle;\n",
       "    }\n",
       "\n",
       "    .dataframe tbody tr th {\n",
       "        vertical-align: top;\n",
       "    }\n",
       "\n",
       "    .dataframe thead th {\n",
       "        text-align: right;\n",
       "    }\n",
       "</style>\n",
       "<table border=\"1\" class=\"dataframe\">\n",
       "  <thead>\n",
       "    <tr style=\"text-align: right;\">\n",
       "      <th></th>\n",
       "      <th>searc_city</th>\n",
       "      <th>city</th>\n",
       "      <th>country</th>\n",
       "      <th>lat</th>\n",
       "      <th>lng</th>\n",
       "      <th>temp</th>\n",
       "      <th>humidity</th>\n",
       "      <th>cloudiness</th>\n",
       "      <th>windspeed</th>\n",
       "    </tr>\n",
       "  </thead>\n",
       "  <tbody>\n",
       "    <tr>\n",
       "      <th>0</th>\n",
       "      <td>ushuaia</td>\n",
       "      <td>Ushuaia</td>\n",
       "      <td>AR</td>\n",
       "      <td>-54.8000</td>\n",
       "      <td>-68.3000</td>\n",
       "      <td>50.00</td>\n",
       "      <td>53</td>\n",
       "      <td>40</td>\n",
       "      <td>20.71</td>\n",
       "    </tr>\n",
       "    <tr>\n",
       "      <th>1</th>\n",
       "      <td>oytal</td>\n",
       "      <td>Oytal</td>\n",
       "      <td>KZ</td>\n",
       "      <td>42.9057</td>\n",
       "      <td>73.2697</td>\n",
       "      <td>55.27</td>\n",
       "      <td>56</td>\n",
       "      <td>33</td>\n",
       "      <td>7.20</td>\n",
       "    </tr>\n",
       "    <tr>\n",
       "      <th>2</th>\n",
       "      <td>bengkulu</td>\n",
       "      <td>Bengkulu</td>\n",
       "      <td>ID</td>\n",
       "      <td>-3.8004</td>\n",
       "      <td>102.2655</td>\n",
       "      <td>77.02</td>\n",
       "      <td>91</td>\n",
       "      <td>99</td>\n",
       "      <td>3.87</td>\n",
       "    </tr>\n",
       "    <tr>\n",
       "      <th>3</th>\n",
       "      <td>muros</td>\n",
       "      <td>Muros</td>\n",
       "      <td>ES</td>\n",
       "      <td>42.7762</td>\n",
       "      <td>-9.0603</td>\n",
       "      <td>62.02</td>\n",
       "      <td>94</td>\n",
       "      <td>100</td>\n",
       "      <td>3.00</td>\n",
       "    </tr>\n",
       "    <tr>\n",
       "      <th>4</th>\n",
       "      <td>rock sound</td>\n",
       "      <td>Rock Sound</td>\n",
       "      <td>BS</td>\n",
       "      <td>24.9000</td>\n",
       "      <td>-76.2000</td>\n",
       "      <td>77.90</td>\n",
       "      <td>73</td>\n",
       "      <td>70</td>\n",
       "      <td>12.35</td>\n",
       "    </tr>\n",
       "  </tbody>\n",
       "</table>\n",
       "</div>"
      ],
      "text/plain": [
       "   searc_city        city country      lat       lng   temp  humidity  \\\n",
       "0     ushuaia     Ushuaia      AR -54.8000  -68.3000  50.00        53   \n",
       "1       oytal       Oytal      KZ  42.9057   73.2697  55.27        56   \n",
       "2    bengkulu    Bengkulu      ID  -3.8004  102.2655  77.02        91   \n",
       "3       muros       Muros      ES  42.7762   -9.0603  62.02        94   \n",
       "4  rock sound  Rock Sound      BS  24.9000  -76.2000  77.90        73   \n",
       "\n",
       "   cloudiness  windspeed  \n",
       "0          40      20.71  \n",
       "1          33       7.20  \n",
       "2          99       3.87  \n",
       "3         100       3.00  \n",
       "4          70      12.35  "
      ]
     },
     "execution_count": 11,
     "metadata": {},
     "output_type": "execute_result"
    }
   ],
   "source": [
    "# Make a new DataFrame equal to the city data to drop all humidity outliers by index.\n",
    "# Passing \"inplace=False\" will make a copy of the city_data DataFrame, which we call \"clean_city_data\".\n",
    "clean_city_data = citydatadf[citydatadf['humidity'] <= 100]\n",
    "clean_city_data.head()"
   ]
  },
  {
   "cell_type": "markdown",
   "metadata": {},
   "source": [
    "## Plotting the Data\n",
    "* Use proper labeling of the plots using plot titles (including date of analysis) and axes labels.\n",
    "* Save the plotted figures as .pngs."
   ]
  },
  {
   "cell_type": "markdown",
   "metadata": {},
   "source": [
    "## Latitude vs. Temperature Plot"
   ]
  },
  {
   "cell_type": "code",
   "execution_count": 12,
   "metadata": {
    "scrolled": true
   },
   "outputs": [
    {
     "data": {
      "image/png": "[encoded data removed]",
      "text/plain": [
       "<Figure size 432x288 with 1 Axes>"
      ]
     },
     "metadata": {
      "needs_background": "light"
     },
     "output_type": "display_data"
    }
   ],
   "source": [
    " # Create a Scatter Plot for temperature vs latitude\n",
    "x_values = clean_city_data['lat']\n",
    "y_values = clean_city_data['temp']\n",
    "plt.scatter(x_values,y_values)\n",
    "plt.xlabel('Latitude')\n",
    "plt.ylabel('Temperature')\n",
    "plt.show()"
   ]
  },
  {
   "cell_type": "markdown",
   "metadata": {},
   "source": [
    "## Latitude vs. Humidity Plot"
   ]
  },
  {
   "cell_type": "code",
   "execution_count": 13,
   "metadata": {},
   "outputs": [
    {
     "data": {
      "image/png": "[encoded data removed]",
      "text/plain": [
       "<Figure size 432x288 with 1 Axes>"
      ]
     },
     "metadata": {
      "needs_background": "light"
     },
     "output_type": "display_data"
    }
   ],
   "source": [
    " # Create a Scatter Plot for temperature vs latitude\n",
    "x_values = clean_city_data['lat']\n",
    "y_values = clean_city_data['humidity']\n",
    "plt.scatter(x_values,y_values)\n",
    "plt.xlabel('Latitude')\n",
    "plt.ylabel('Humidity')\n",
    "plt.show()"
   ]
  },
  {
   "cell_type": "markdown",
   "metadata": {},
   "source": [
    "## Latitude vs. Cloudiness Plot"
   ]
  },
  {
   "cell_type": "code",
   "execution_count": 14,
   "metadata": {},
   "outputs": [
    {
     "data": {
      "image/png": "[encoded data removed]",
      "text/plain": [
       "<Figure size 432x288 with 1 Axes>"
      ]
     },
     "metadata": {
      "needs_background": "light"
     },
     "output_type": "display_data"
    }
   ],
   "source": [
    " # Create a Scatter Plot for temperature vs latitude\n",
    "x_values = clean_city_data['lat']\n",
    "y_values = clean_city_data['cloudiness']\n",
    "plt.scatter(x_values,y_values)\n",
    "plt.xlabel('Latitude')\n",
    "plt.ylabel('Cloudiness')\n",
    "plt.show()"
   ]
  },
  {
   "cell_type": "markdown",
   "metadata": {},
   "source": [
    "## Latitude vs. Wind Speed Plot"
   ]
  },
  {
   "cell_type": "code",
   "execution_count": 15,
   "metadata": {},
   "outputs": [
    {
     "data": {
      "image/png": "[encoded data removed]",
      "text/plain": [
       "<Figure size 432x288 with 1 Axes>"
      ]
     },
     "metadata": {
      "needs_background": "light"
     },
     "output_type": "display_data"
    }
   ],
   "source": [
    " # Create a Scatter Plot for temperature vs latitude\n",
    "x_values = clean_city_data['lat']\n",
    "y_values = clean_city_data['windspeed']\n",
    "plt.scatter(x_values,y_values)\n",
    "plt.xlabel('Latitude')\n",
    "plt.ylabel('Wind Speed')\n",
    "plt.show()"
   ]
  },
  {
   "cell_type": "markdown",
   "metadata": {},
   "source": [
    "## Linear Regression"
   ]
  },
  {
   "cell_type": "code",
   "execution_count": 16,
   "metadata": {},
   "outputs": [
    {
     "name": "stdout",
     "output_type": "stream",
     "text": [
      "0      81.696754\n",
      "1      61.383636\n",
      "2      71.093884\n",
      "3      61.410559\n",
      "4      65.127040\n",
      "         ...    \n",
      "558    70.948727\n",
      "559    67.475969\n",
      "560    62.540876\n",
      "561    66.883804\n",
      "562    77.601103\n",
      "Name: lat, Length: 563, dtype: float64\n"
     ]
    }
   ],
   "source": [
    "x_values = clean_city_data['lat']\n",
    "y_values = clean_city_data['temp']\n",
    "\n",
    "# Perform a linear regression on temperature vs. latitude\n",
    "(slope, intercept, rvalue, pvalue, stderr) = linregress(x_values, y_values)\n",
    "\n",
    "# Get regression values\n",
    "regress_values = x_values * slope + intercept\n",
    "print(regress_values)"
   ]
  },
  {
   "cell_type": "markdown",
   "metadata": {},
   "source": [
    "####  Northern Hemisphere - Max Temp vs. Latitude Linear Regression"
   ]
  },
  {
   "cell_type": "code",
   "execution_count": 17,
   "metadata": {},
   "outputs": [],
   "source": [
    "northhem_city_data = clean_city_data[clean_city_data['lat'] > 0]"
   ]
  },
  {
   "cell_type": "code",
   "execution_count": 18,
   "metadata": {},
   "outputs": [
    {
     "name": "stdout",
     "output_type": "stream",
     "text": [
      "y = -0.84x +97.33\n",
      "The r-value is: 0.6922212123435428\n"
     ]
    },
    {
     "data": {
      "image/png": "[encoded data removed]",
      "text/plain": [
       "<Figure size 432x288 with 1 Axes>"
      ]
     },
     "metadata": {
      "needs_background": "light"
     },
     "output_type": "display_data"
    }
   ],
   "source": [
    "x_values = northhem_city_data['lat']\n",
    "y_values = northhem_city_data['temp']\n",
    "\n",
    "# Perform a linear regression on temperature vs. latitude\n",
    "(slope, intercept, rvalue, pvalue, stderr) = linregress(x_values, y_values)\n",
    "\n",
    "# Get regression values\n",
    "regress_values = x_values * slope + intercept\n",
    "#print(regress_values)\n",
    "\n",
    "# Create line equation string\n",
    "line_eq = \"y = \" + str(round(slope,2)) + \"x +\" + str(round(intercept,2))\n",
    "print(line_eq)\n",
    "\n",
    "# Create Plot\n",
    "plt.scatter(x_values,y_values)\n",
    "plt.plot(x_values,regress_values,\"r-\")\n",
    "\n",
    "# Label plot and annotate the line equation\n",
    "plt.suptitle('Northern Hemisphere - Max Temp vs. Latitude', fontsize='12')\n",
    "plt.xlabel('Latitude')\n",
    "plt.ylabel('Temperature')\n",
    "plt.annotate(line_eq,(20,15),fontsize=15,color=\"red\")\n",
    "\n",
    "# Print r value\n",
    "print(f\"The r-value is: {rvalue**2}\")\n",
    "\n",
    "# Show plot\n",
    "plt.savefig(\"northern-temp-vs-lat.png\")\n",
    "plt.show()"
   ]
  },
  {
   "cell_type": "markdown",
   "metadata": {},
   "source": [
    "####  Southern Hemisphere - Max Temp vs. Latitude Linear Regression"
   ]
  },
  {
   "cell_type": "code",
   "execution_count": 19,
   "metadata": {},
   "outputs": [
    {
     "name": "stdout",
     "output_type": "stream",
     "text": [
      "y = 0.79x +85.31\n",
      "The r-value is: 0.6443247417588024\n"
     ]
    },
    {
     "data": {
      "image/png": "[encoded data removed]",
      "text/plain": [
       "<Figure size 432x288 with 1 Axes>"
      ]
     },
     "metadata": {
      "needs_background": "light"
     },
     "output_type": "display_data"
    }
   ],
   "source": [
    "southern_hem_city_data = clean_city_data[clean_city_data['lat'] < 0]\n",
    "x_values = southern_hem_city_data['lat']\n",
    "y_values = southern_hem_city_data['temp']\n",
    "\n",
    "# Perform a linear regression on temperature vs. latitude\n",
    "(slope, intercept, rvalue, pvalue, stderr) = linregress(x_values, y_values)\n",
    "\n",
    "# Get regression values\n",
    "regress_values = x_values * slope + intercept\n",
    "#print(regress_values)\n",
    "\n",
    "# Create line equation string\n",
    "line_eq = \"y = \" + str(round(slope,2)) + \"x +\" + str(round(intercept,2))\n",
    "print(line_eq)\n",
    "\n",
    "# Create Plot\n",
    "plt.scatter(x_values,y_values)\n",
    "plt.plot(x_values,regress_values,\"r-\")\n",
    "\n",
    "# Label plot and annotate the line equation\n",
    "plt.suptitle('Southern Hemisphere - Max Temp vs. Latitude', fontsize='12')\n",
    "plt.xlabel('Latitude')\n",
    "plt.ylabel('Temperature')\n",
    "plt.annotate(line_eq,(-50,85),fontsize=15,color=\"red\")\n",
    "\n",
    "# Print r value\n",
    "print(f\"The r-value is: {rvalue**2}\")\n",
    "\n",
    "# Show plot\n",
    "plt.savefig(\"southern-temp-vs-lat.png\")\n",
    "plt.show()"
   ]
  },
  {
   "cell_type": "markdown",
   "metadata": {},
   "source": [
    "####  Northern Hemisphere - Humidity (%) vs. Latitude Linear Regression"
   ]
  },
  {
   "cell_type": "code",
   "execution_count": 20,
   "metadata": {},
   "outputs": [
    {
     "name": "stdout",
     "output_type": "stream",
     "text": [
      "y = 0.16x +57.04\n",
      "The r-value is: 0.016793398673600607\n"
     ]
    },
    {
     "data": {
      "image/png": "[encoded data removed]",
      "text/plain": [
       "<Figure size 432x288 with 1 Axes>"
      ]
     },
     "metadata": {
      "needs_background": "light"
     },
     "output_type": "display_data"
    }
   ],
   "source": [
    "x_values = northhem_city_data['lat']\n",
    "y_values = northhem_city_data['humidity']\n",
    "\n",
    "# Perform a linear regression on temperature vs. latitude\n",
    "(slope, intercept, rvalue, pvalue, stderr) = linregress(x_values, y_values)\n",
    "\n",
    "# Get regression values\n",
    "regress_values = x_values * slope + intercept\n",
    "#print(regress_values)\n",
    "\n",
    "# Create line equation string\n",
    "line_eq = \"y = \" + str(round(slope,2)) + \"x +\" + str(round(intercept,2))\n",
    "print(line_eq)\n",
    "\n",
    "# Create Plot\n",
    "plt.scatter(x_values,y_values)\n",
    "plt.plot(x_values,regress_values,\"r-\")\n",
    "\n",
    "# Label plot and annotate the line equation\n",
    "plt.suptitle('Northern Hemisphere - Humidity vs. Latitude', fontsize='12')\n",
    "plt.xlabel('Latitude')\n",
    "plt.ylabel('Humidity')\n",
    "plt.annotate(line_eq,(45,8),fontsize=15,color=\"red\")\n",
    "\n",
    "# Print r value\n",
    "print(f\"The r-value is: {rvalue**2}\")\n",
    "\n",
    "# Show plot\n",
    "plt.savefig(\"northern-humidity-vs-lat.png\")\n",
    "plt.show()"
   ]
  },
  {
   "cell_type": "markdown",
   "metadata": {},
   "source": [
    "####  Southern Hemisphere - Humidity (%) vs. Latitude Linear Regression"
   ]
  },
  {
   "cell_type": "code",
   "execution_count": 21,
   "metadata": {},
   "outputs": [
    {
     "name": "stdout",
     "output_type": "stream",
     "text": [
      "y = -0.01x +70.16\n",
      "The r-value is: 2.164483744429927e-05\n"
     ]
    },
    {
     "data": {
      "image/png": "[encoded data removed]",
      "text/plain": [
       "<Figure size 432x288 with 1 Axes>"
      ]
     },
     "metadata": {
      "needs_background": "light"
     },
     "output_type": "display_data"
    }
   ],
   "source": [
    "x_values = southern_hem_city_data['lat']\n",
    "y_values = southern_hem_city_data['humidity']\n",
    "\n",
    "# Perform a linear regression on temperature vs. latitude\n",
    "(slope, intercept, rvalue, pvalue, stderr) = linregress(x_values, y_values)\n",
    "\n",
    "# Get regression values\n",
    "regress_values = x_values * slope + intercept\n",
    "#print(regress_values)\n",
    "\n",
    "# Create line equation string\n",
    "line_eq = \"y = \" + str(round(slope,2)) + \"x +\" + str(round(intercept,2))\n",
    "print(line_eq)\n",
    "\n",
    "# Create Plot\n",
    "plt.scatter(x_values,y_values)\n",
    "plt.plot(x_values,regress_values,\"r-\")\n",
    "\n",
    "# Label plot and annotate the line equation\n",
    "plt.suptitle('Southern Hemisphere - Humidity vs. Latitude', fontsize='12')\n",
    "plt.xlabel('Latitude')\n",
    "plt.ylabel('Humidity')\n",
    "plt.annotate(line_eq,(-40,33),fontsize=15,color=\"red\")\n",
    "\n",
    "# Print r value\n",
    "print(f\"The r-value is: {rvalue**2}\")\n",
    "\n",
    "# Show plot\n",
    "plt.savefig(\"southern-humidity-vs-lat.png\")\n",
    "plt.show()"
   ]
  },
  {
   "cell_type": "markdown",
   "metadata": {},
   "source": [
    "####  Northern Hemisphere - Cloudiness (%) vs. Latitude Linear Regression"
   ]
  },
  {
   "cell_type": "code",
   "execution_count": 22,
   "metadata": {},
   "outputs": [
    {
     "name": "stdout",
     "output_type": "stream",
     "text": [
      "y = 0.09x +50.91\n",
      "The r-value is: 0.0024210949076566273\n"
     ]
    },
    {
     "data": {
      "image/png": "[encoded data removed]",
      "text/plain": [
       "<Figure size 432x288 with 1 Axes>"
      ]
     },
     "metadata": {
      "needs_background": "light"
     },
     "output_type": "display_data"
    }
   ],
   "source": [
    "x_values = northhem_city_data['lat']\n",
    "y_values = northhem_city_data['cloudiness']\n",
    "\n",
    "# Perform a linear regression on temperature vs. latitude\n",
    "(slope, intercept, rvalue, pvalue, stderr) = linregress(x_values, y_values)\n",
    "\n",
    "# Get regression values\n",
    "regress_values = x_values * slope + intercept\n",
    "#print(regress_values)\n",
    "\n",
    "# Create line equation string\n",
    "line_eq = \"y = \" + str(round(slope,2)) + \"x +\" + str(round(intercept,2))\n",
    "print(line_eq)\n",
    "\n",
    "# Create Plot\n",
    "plt.scatter(x_values,y_values)\n",
    "plt.plot(x_values,regress_values,\"r-\")\n",
    "\n",
    "# Label plot and annotate the line equation\n",
    "plt.suptitle('Northern Hemisphere - Cloudiness (%) vs. Latitude', fontsize='12')\n",
    "plt.xlabel('Latitude')\n",
    "plt.ylabel('Cloudiness')\n",
    "plt.annotate(line_eq,(30,50),fontsize=15,color=\"red\")\n",
    "\n",
    "# Print r value\n",
    "print(f\"The r-value is: {rvalue**2}\")\n",
    "\n",
    "# Show plot\n",
    "plt.savefig(\"northern-cloudiness-vs-lat.png\")\n",
    "plt.show()"
   ]
  },
  {
   "cell_type": "markdown",
   "metadata": {},
   "source": [
    "####  Southern Hemisphere - Cloudiness (%) vs. Latitude Linear Regression"
   ]
  },
  {
   "cell_type": "code",
   "execution_count": 23,
   "metadata": {},
   "outputs": [
    {
     "name": "stdout",
     "output_type": "stream",
     "text": [
      "y = -0.07x +46.37\n",
      "The r-value is: 0.0005909191309773564\n"
     ]
    },
    {
     "data": {
      "image/png": "[encoded data removed]",
      "text/plain": [
       "<Figure size 432x288 with 1 Axes>"
      ]
     },
     "metadata": {
      "needs_background": "light"
     },
     "output_type": "display_data"
    }
   ],
   "source": [
    "x_values = southern_hem_city_data['lat']\n",
    "y_values = southern_hem_city_data['cloudiness']\n",
    "\n",
    "# Perform a linear regression on temperature vs. latitude\n",
    "(slope, intercept, rvalue, pvalue, stderr) = linregress(x_values, y_values)\n",
    "\n",
    "# Get regression values\n",
    "regress_values = x_values * slope + intercept\n",
    "#print(regress_values)\n",
    "\n",
    "# Create line equation string\n",
    "line_eq = \"y = \" + str(round(slope,2)) + \"x +\" + str(round(intercept,2))\n",
    "print(line_eq)\n",
    "\n",
    "# Create Plot\n",
    "plt.scatter(x_values,y_values)\n",
    "plt.plot(x_values,regress_values,\"r-\")\n",
    "\n",
    "# Label plot and annotate the line equation\n",
    "plt.suptitle('Southern Hemisphere - Cloudiness (%) vs. Latitude', fontsize='12')\n",
    "plt.xlabel('Latitude')\n",
    "plt.ylabel('Cloudiness')\n",
    "plt.annotate(line_eq,(-40,55),fontsize=15,color=\"red\")\n",
    "\n",
    "# Print r value\n",
    "print(f\"The r-value is: {rvalue**2}\")\n",
    "\n",
    "# Show plot\n",
    "plt.savefig(\"southern-cloudiness-vs-lat.png\")\n",
    "plt.show()"
   ]
  },
  {
   "cell_type": "markdown",
   "metadata": {},
   "source": [
    "####  Northern Hemisphere - Wind Speed (mph) vs. Latitude Linear Regression"
   ]
  },
  {
   "cell_type": "code",
   "execution_count": 24,
   "metadata": {},
   "outputs": [
    {
     "name": "stdout",
     "output_type": "stream",
     "text": [
      "y = 0.16x +57.04\n",
      "The r-value is: 0.016793398673600607\n"
     ]
    },
    {
     "data": {
      "image/png": "[encoded data removed]",
      "text/plain": [
       "<Figure size 432x288 with 1 Axes>"
      ]
     },
     "metadata": {
      "needs_background": "light"
     },
     "output_type": "display_data"
    }
   ],
   "source": [
    "x_values = northhem_city_data['lat']\n",
    "y_values = northhem_city_data['humidity']\n",
    "\n",
    "# Perform a linear regression on temperature vs. latitude\n",
    "(slope, intercept, rvalue, pvalue, stderr) = linregress(x_values, y_values)\n",
    "\n",
    "# Get regression values\n",
    "regress_values = x_values * slope + intercept\n",
    "#print(regress_values)\n",
    "\n",
    "# Create line equation string\n",
    "line_eq = \"y = \" + str(round(slope,2)) + \"x +\" + str(round(intercept,2))\n",
    "print(line_eq)\n",
    "\n",
    "# Create Plot\n",
    "plt.scatter(x_values,y_values)\n",
    "plt.plot(x_values,regress_values,\"r-\")\n",
    "\n",
    "# Label plot and annotate the line equation\n",
    "plt.suptitle('Northern Hemisphere - Wind Speed (mph) vs. Latitude', fontsize='12')\n",
    "plt.xlabel('Latitude')\n",
    "plt.ylabel('Wind Speed')\n",
    "plt.annotate(line_eq,(45,8),fontsize=15,color=\"red\")\n",
    "\n",
    "# Print r value\n",
    "print(f\"The r-value is: {rvalue**2}\")\n",
    "\n",
    "# Show plot\n",
    "plt.savefig(\"northern-windspeed-vs-lat.png\")\n",
    "plt.show()"
   ]
  },
  {
   "cell_type": "markdown",
   "metadata": {},
   "source": [
    "####  Southern Hemisphere - Wind Speed (mph) vs. Latitude Linear Regression"
   ]
  },
  {
   "cell_type": "code",
   "execution_count": 25,
   "metadata": {},
   "outputs": [
    {
     "name": "stdout",
     "output_type": "stream",
     "text": [
      "y = -0.0x +7.19\n",
      "The r-value is: 1.832207479705482e-05\n"
     ]
    },
    {
     "data": {
      "image/png": "[encoded data removed]",
      "text/plain": [
       "<Figure size 432x288 with 1 Axes>"
      ]
     },
     "metadata": {
      "needs_background": "light"
     },
     "output_type": "display_data"
    }
   ],
   "source": [
    "x_values = southern_hem_city_data['lat']\n",
    "y_values = southern_hem_city_data['windspeed']\n",
    "\n",
    "# Perform a linear regression on temperature vs. latitude\n",
    "(slope, intercept, rvalue, pvalue, stderr) = linregress(x_values, y_values)\n",
    "\n",
    "# Get regression values\n",
    "regress_values = x_values * slope + intercept\n",
    "#print(regress_values)\n",
    "\n",
    "# Create line equation string\n",
    "line_eq = \"y = \" + str(round(slope,2)) + \"x +\" + str(round(intercept,2))\n",
    "print(line_eq)\n",
    "\n",
    "# Create Plot\n",
    "plt.scatter(x_values,y_values)\n",
    "plt.plot(x_values,regress_values,\"r-\")\n",
    "\n",
    "# Label plot and annotate the line equation\n",
    "plt.suptitle('Southern Hemisphere - Wind Speed (mph) vs. Latitude', fontsize='12')\n",
    "plt.xlabel('Latitude')\n",
    "plt.ylabel('Wind Speed')\n",
    "plt.annotate(line_eq,(-40,17),fontsize=15,color=\"red\")\n",
    "\n",
    "# Print r value\n",
    "print(f\"The r-value is: {rvalue**2}\")\n",
    "\n",
    "# Show plot\n",
    "plt.savefig(\"southern-windspeed-vs-lat.png\")\n",
    "plt.show()"
   ]
  },
  {
   "cell_type": "code",
   "execution_count": null,
   "metadata": {},
   "outputs": [],
   "source": []
  }
 ],
 "metadata": {
  "anaconda-cloud": {},
  "kernel_info": {
   "name": "python3"
  },
  "kernelspec": {
   "display_name": "Python 3",
   "language": "python",
   "name": "python3"
  },
  "language_info": {
   "codemirror_mode": {
    "name": "ipython",
    "version": 3
   },
   "file_extension": ".py",
   "mimetype": "text/x-python",
   "name": "python",
   "nbconvert_exporter": "python",
   "pygments_lexer": "ipython3",
   "version": "3.9.2"
  },
  "latex_envs": {
   "LaTeX_envs_menu_present": true,
   "autoclose": false,
   "autocomplete": true,
   "bibliofile": "biblio.bib",
   "cite_by": "apalike",
   "current_citInitial": 1,
   "eqLabelWithNumbers": true,
   "eqNumInitial": 1,
   "hotkeys": {
    "equation": "Ctrl-E",
    "itemize": "Ctrl-I"
   },
   "labels_anchors": false,
   "latex_user_defs": false,
   "report_style_numbering": false,
   "user_envs_cfg": false
  },
  "nteract": {
   "version": "0.12.3"
  }
 },
 "nbformat": 4,
 "nbformat_minor": 2
}
