{
 "cells": [
  {
   "cell_type": "markdown",
   "metadata": {},
   "source": [
    "# WeatherPy\n",
    "----\n",
    "\n",
    "#### Note\n",
    "* Instructions have been included for each segment. You do not have to follow them exactly, but they are included to help you think through the steps."
   ]
  },
  {
   "cell_type": "code",
   "execution_count": 1,
   "metadata": {
    "scrolled": true
   },
   "outputs": [],
   "source": [
    "# Dependencies and Setup\n",
    "import matplotlib.pyplot as plt\n",
    "import pandas as pd\n",
    "import numpy as np\n",
    "import requests\n",
    "import time\n",
    "from scipy.stats import linregress\n",
    "\n",
    "from concurrent.futures import ThreadPoolExecutor, as_completed\n",
    "\n",
    "# Import API key\n",
    "from api_keys import weather_api_key\n",
    "\n",
    "# Incorporated citipy to determine city based on latitude and longitude\n",
    "from citipy import citipy\n",
    "\n",
    "# Output File (CSV)\n",
    "output_data_file = \"output_data/cities.csv\"\n",
    "\n",
    "# Range of latitudes and longitudes\n",
    "lat_range = (-90, 90)\n",
    "lng_range = (-180, 180)"
   ]
  },
  {
   "cell_type": "markdown",
   "metadata": {},
   "source": [
    "## Generate Cities List"
   ]
  },
  {
   "cell_type": "code",
   "execution_count": 2,
   "metadata": {},
   "outputs": [
    {
     "data": {
      "text/plain": [
       "601"
      ]
     },
     "execution_count": 2,
     "metadata": {},
     "output_type": "execute_result"
    }
   ],
   "source": [
    "# List for holding lat_lngs and cities\n",
    "lat_lngs = []\n",
    "cities = []\n",
    "\n",
    "# Create a set of random lat and lng combinations\n",
    "lats = np.random.uniform(lat_range[0], lat_range[1], size=1500)\n",
    "lngs = np.random.uniform(lng_range[0], lng_range[1], size=1500)\n",
    "lat_lngs = zip(lats, lngs)\n",
    "\n",
    "# Identify nearest city for each lat, lng combination\n",
    "for lat_lng in lat_lngs:\n",
    "    city = citipy.nearest_city(lat_lng[0], lat_lng[1]).city_name\n",
    "    \n",
    "    # If the city is unique, then add it to a our cities list\n",
    "    if city not in cities:\n",
    "        cities.append(city)\n",
    "\n",
    "# Print the city count to confirm sufficient count\n",
    "len(cities)"
   ]
  },
  {
   "cell_type": "markdown",
   "metadata": {},
   "source": [
    "## Config"
   ]
  },
  {
   "cell_type": "code",
   "execution_count": 3,
   "metadata": {},
   "outputs": [],
   "source": [
    "# Configuration Details for openweather API.\n",
    "url = \"http://api.openweathermap.org/data/2.5/weather?\"\n",
    "units = \"imperial\"\n",
    "\n",
    "# Build partial query URL\n",
    "query_url = f\"{url}appid={weather_api_key}&units={units}&q=\"\n",
    "\n",
    "\n",
    "def process_data(c,x):\n",
    "    try:\n",
    "        cstats = {}\n",
    "        cstats['city'] = c\n",
    "        cstats['lat'] = x['coord']['lat']\n",
    "        cstats['lng'] = x['coord']['lon']\n",
    "        cstats['temp'] = x['main']['temp']\n",
    "        cstats['humidity'] = x['main']['humidity']\n",
    "        cstats['cloudiness'] = x['clouds']['all']\n",
    "        cstats['windspeed'] = x['wind']['speed']\n",
    "        return cstats\n",
    "    except KeyError as e:\n",
    "        msg = f\"Key Error Missing Key - {e}\"\n",
    "        return msg\n",
    "\n",
    "def getCityStats(qurl, city):\n",
    "    try:\n",
    "        response = requests.get(qurl + city).json()\n",
    "        #print(qurl + city) ## Debug Only!\n",
    "    except Exception as e:\n",
    "        return SystemExit(e)\n",
    "    except requests.exceptions.RequestException as e:\n",
    "        return SystemExit(e)\n",
    "    else:\n",
    "        if response['cod'] == 200:\n",
    "            cstats = process_data(city, response)\n",
    "        elif response['cod'] == \"404\" and response['message'] == \"city not found\":\n",
    "            return f\"{city}\\n City not found. Skipping...\"\n",
    "        else:\n",
    "            code = response['cod']\n",
    "            msg = response['message']\n",
    "            return SystemExit(f\"Error {code} - {msg}\")\n",
    "    return cstats        \n",
    "\n",
    "# This runner will output a list of dictionaries, using the city stat getter\n",
    "# This runnder uses a configurable worker setting, to allow for better speed.  \n",
    "# I have tested it with 5 workers, with fast results, However .....\n",
    "# BE CAREFUL! OpenWeather API limits you. You will get errors if you reach your limit, and will need to wait!\n",
    "def runner(searchlist):\n",
    "    threads = []\n",
    "    cstat_list = []\n",
    "    nitems = len(searchlist)\n",
    "    with ThreadPoolExecutor(max_workers=2) as executor:\n",
    "        counter = 0 \n",
    "        for city in searchlist:\n",
    "            threads.append(executor.submit(getCityStats, query_url, city))\n",
    "            \n",
    "        for task in as_completed(threads):\n",
    "            counter = counter+1\n",
    "            outtext = f\"Processing Record {counter} of {nitems} | \"\n",
    "            rs = task.result()\n",
    "            if type(rs) is dict:\n",
    "                cstat_list.append(rs)\n",
    "                print(outtext, rs['city'])\n",
    "            else:\n",
    "                print(outtext, task.result())\n",
    "    print(len(cstat_list), \"Successfully Collected\")            \n",
    "    return cstat_list"
   ]
  },
  {
   "cell_type": "markdown",
   "metadata": {},
   "source": [
    "### Perform API Calls\n",
    "* Perform a weather check on each city using a series of successive API calls.\n",
    "* Include a print log of each city as it'sbeing processed (with the city number and city name).\n"
   ]
  },
  {
   "cell_type": "code",
   "execution_count": 4,
   "metadata": {},
   "outputs": [
    {
     "name": "stdout",
     "output_type": "stream",
     "text": [
      "{'city': 'jamestown', 'lat': 42.097, 'lng': -79.2353, 'temp': 41.2, 'humidity': 49, 'cloudiness': 1, 'windspeed': 6.91}\n"
     ]
    }
   ],
   "source": [
    "# Test Check to validate connectivity and reponse format\n",
    "print(getCityStats(query_url, cities[2]))"
   ]
  },
  {
   "cell_type": "code",
   "execution_count": 26,
   "metadata": {},
   "outputs": [
    {
     "name": "stdout",
     "output_type": "stream",
     "text": [
      "nocity\n",
      " City not found. Skipping...\n"
     ]
    }
   ],
   "source": [
    "# Test Check to validate connectivity and reponse format\n",
    "print(getCityStats(query_url, 'nocity'))"
   ]
  },
  {
   "cell_type": "code",
   "execution_count": 6,
   "metadata": {},
   "outputs": [
    {
     "name": "stdout",
     "output_type": "stream",
     "text": [
      "Processing Record 1 of 601 |  lebu\n",
      "Processing Record 2 of 601 |  mataura\n",
      "Processing Record 3 of 601 |  jamestown\n",
      "Processing Record 4 of 601 |  rikitea\n",
      "Processing Record 5 of 601 |  mar del plata\n",
      "Processing Record 6 of 601 |  anta\n",
      "Processing Record 7 of 601 |  pallisa\n",
      "Processing Record 8 of 601 |  zabid\n",
      "Processing Record 9 of 601 |  port alfred\n",
      "Processing Record 10 of 601 |  kavieng\n",
      "Processing Record 11 of 601 |  portland\n",
      "Processing Record 12 of 601 |  hobart\n",
      "Processing Record 13 of 601 |  busselton\n",
      "Processing Record 14 of 601 |  torbay\n",
      "Processing Record 15 of 601 |  culaman\n",
      "Processing Record 16 of 601 |  bambous virieux\n",
      "Processing Record 17 of 601 |  laguna\n",
      "Processing Record 18 of 601 |  auki\n",
      "Processing Record 19 of 601 |  port elizabeth\n",
      "Processing Record 20 of 601 |  bredasdorp\n",
      "Processing Record 21 of 601 |  jalu\n",
      "Processing Record 22 of 601 |  tura\n",
      "Processing Record 23 of 601 |  biak\n",
      "Processing Record 24 of 601 |  hasaki\n",
      "Processing Record 25 of 601 |  alianca\n",
      " City not found. Skipping...\n",
      "Processing Record 26 of 601 |  cape town\n",
      "Processing Record 27 of 601 |  lebane\n",
      "Processing Record 28 of 601 |  atuona\n",
      "Processing Record 29 of 601 |  namatanai\n",
      "Processing Record 30 of 601 |  puerto ayora\n",
      "Processing Record 31 of 601 |  matara\n",
      "Processing Record 32 of 601 |  barentsburg\n",
      " City not found. Skipping...\n",
      "Processing Record 33 of 601 |  kodiak\n",
      "Processing Record 34 of 601 |  hithadhoo\n",
      "Processing Record 35 of 601 |  sakakah\n",
      "Processing Record 36 of 601 |  hermanus\n",
      "Processing Record 37 of 601 |  cayenne\n",
      "Processing Record 38 of 601 |  berlevag\n",
      "Processing Record 39 of 601 |  port hardy\n",
      "Processing Record 40 of 601 |  alzamay\n",
      "Processing Record 41 of 601 |  haines junction\n",
      "Processing Record 42 of 601 |  katsuura\n",
      "Processing Record 43 of 601 |  samusu\n",
      " City not found. Skipping...\n",
      "Processing Record 44 of 601 |  chuy\n",
      "Processing Record 45 of 601 |  uvat\n",
      "Processing Record 46 of 601 |  strezhevoy\n",
      "Processing Record 47 of 601 |  east london\n",
      "Processing Record 48 of 601 |  broome\n",
      "Processing Record 49 of 601 |  illoqqortoormiut\n",
      " City not found. Skipping...\n",
      "Processing Record 50 of 601 |  pauini\n",
      "Processing Record 51 of 601 |  leningradskiy\n",
      "Processing Record 52 of 601 |  kita\n",
      "Processing Record 53 of 601 |  punta arenas\n",
      "Processing Record 54 of 601 |  saint-joseph\n",
      "Processing Record 55 of 601 |  kungurtug\n",
      "Processing Record 56 of 601 |  atasu\n",
      "Processing Record 57 of 601 |  half moon bay\n",
      "Processing Record 58 of 601 |  kapaa\n",
      "Processing Record 59 of 601 |  alyangula\n",
      "Processing Record 60 of 601 |  lagoa\n",
      "Processing Record 61 of 601 |  nadym\n",
      "Processing Record 62 of 601 |  amderma\n",
      " City not found. Skipping...\n",
      "Processing Record 63 of 601 |  north bend\n",
      "Processing Record 64 of 601 |  ruatoria\n",
      " City not found. Skipping...\n",
      "Processing Record 65 of 601 |  kamenskoye\n",
      " City not found. Skipping...\n",
      "Processing Record 66 of 601 |  kasuga\n",
      "Processing Record 67 of 601 |  pisco\n",
      "Processing Record 68 of 601 |  mys shmidta\n",
      " City not found. Skipping...\n",
      "Processing Record 69 of 601 |  ilulissat\n",
      "Processing Record 70 of 601 |  merauke\n",
      "Processing Record 71 of 601 |  vaini\n",
      "Processing Record 72 of 601 |  barrow\n",
      "Processing Record 73 of 601 |  vao\n",
      "Processing Record 74 of 601 |  narsaq\n",
      "Processing Record 75 of 601 |  qaanaaq\n",
      "Processing Record 76 of 601 |  bathsheba\n",
      "Processing Record 77 of 601 |  clinton\n",
      "Processing Record 78 of 601 |  guerrero negro\n",
      "Processing Record 79 of 601 |  tarancon\n",
      "Processing Record 80 of 601 |  vila franca do campo\n",
      "Processing Record 81 of 601 |  vestmannaeyjar\n",
      "Processing Record 82 of 601 |  edd\n",
      "Processing Record 83 of 601 |  tuatapere\n",
      "Processing Record 84 of 601 |  bluff\n",
      "Processing Record 85 of 601 |  zhanaozen\n",
      "Processing Record 86 of 601 |  saint-philippe\n",
      "Processing Record 87 of 601 |  antalaha\n",
      "Processing Record 88 of 601 |  carberry\n",
      "Processing Record 89 of 601 |  ushuaia\n",
      "Processing Record 90 of 601 |  agadez\n",
      "Processing Record 91 of 601 |  the valley\n",
      "Processing Record 92 of 601 |  kahului\n",
      "Processing Record 93 of 601 |  abaza\n",
      "Processing Record 94 of 601 |  mecca\n",
      "Processing Record 95 of 601 |  lolua\n",
      " City not found. Skipping...\n",
      "Processing Record 96 of 601 |  paamiut\n",
      "Processing Record 97 of 601 |  sedelnikovo\n",
      " City not found. Skipping...\n",
      "Processing Record 98 of 601 |  nikolskoye\n",
      "Processing Record 99 of 601 |  karpathos\n",
      "Processing Record 100 of 601 |  synya\n",
      "Processing Record 101 of 601 |  calamar\n",
      "Processing Record 102 of 601 |  khash\n",
      "Processing Record 103 of 601 |  ye\n",
      " City not found. Skipping...\n",
      "Processing Record 104 of 601 |  ahipara\n",
      "Processing Record 105 of 601 |  provideniya\n",
      "Processing Record 106 of 601 |  moerai\n",
      "Processing Record 107 of 601 |  henties bay\n",
      "Processing Record 108 of 601 |  bengkulu\n",
      "Processing Record 109 of 601 |  alofi\n",
      "Processing Record 110 of 601 |  georgetown\n",
      "Processing Record 111 of 601 |  airai\n",
      "Processing Record 112 of 601 |  kaitangata\n",
      "Processing Record 113 of 601 |  yazoo city\n",
      "Processing Record 114 of 601 |  estacion coahuila\n",
      "Processing Record 115 of 601 |  tasiilaq\n",
      "Processing Record 116 of 601 |  prince rupert\n",
      "Processing Record 117 of 601 |  flinders\n",
      "Processing Record 118 of 601 |  dunedin\n",
      "Processing Record 119 of 601 |  sitka\n",
      "Processing Record 120 of 601 |  klaksvik\n",
      "Processing Record 121 of 601 |  tunduru\n",
      " City not found. Skipping...\n",
      "Processing Record 122 of 601 |  nemuro\n",
      "Processing Record 123 of 601 |  saskylakh\n",
      "Processing Record 124 of 601 |  ciudad bolivar\n",
      "Processing Record 125 of 601 |  nosy varika\n",
      "Processing Record 126 of 601 |  cockburn town\n",
      "Processing Record 127 of 601 |  severo-kurilsk\n",
      "Processing Record 128 of 601 |  hamirpur\n",
      "Processing Record 129 of 601 |  alice springs\n",
      "Processing Record 130 of 601 |  taolanaro\n",
      " City not found. Skipping...\n",
      "Processing Record 131 of 601 |  belushya guba\n",
      " City not found. Skipping...\n",
      "Processing Record 132 of 601 |  nizhneyansk\n",
      " City not found. Skipping...\n",
      "Processing Record 133 of 601 |  peniche\n",
      "Processing Record 134 of 601 |  balkanabat\n",
      "Processing Record 135 of 601 |  victoria\n",
      "Processing Record 136 of 601 |  nanortalik\n",
      "Processing Record 137 of 601 |  chukhloma\n",
      "Processing Record 138 of 601 |  kurilsk\n",
      "Processing Record 139 of 601 |  faya\n",
      "Processing Record 140 of 601 |  new norfolk\n",
      "Processing Record 141 of 601 |  bonavista\n",
      "Processing Record 142 of 601 |  ponta do sol\n",
      "Processing Record 143 of 601 |  jinchang\n",
      "Processing Record 144 of 601 |  hun\n",
      "Processing Record 145 of 601 |  mayumba\n",
      "Processing Record 146 of 601 |  faanui\n",
      "Processing Record 147 of 601 |  alanya\n",
      "Processing Record 148 of 601 |  fornosovo\n",
      "Processing Record 149 of 601 |  sioux lookout\n",
      "Processing Record 150 of 601 |  sao filipe\n",
      "Processing Record 151 of 601 |  castro\n",
      "Processing Record 152 of 601 |  ailigandi\n",
      "Processing Record 153 of 601 |  nabire\n",
      "Processing Record 154 of 601 |  hamilton\n",
      "Processing Record 155 of 601 |  nha trang\n",
      "Processing Record 156 of 601 |  aklavik\n",
      "Processing Record 157 of 601 |  isangel\n",
      "Processing Record 158 of 601 |  hvammstangi\n",
      " City not found. Skipping...\n",
      "Processing Record 159 of 601 |  saleaula\n",
      " City not found. Skipping...\n",
      "Processing Record 160 of 601 |  kurtalan\n",
      "Processing Record 161 of 601 |  kidal\n",
      "Processing Record 162 of 601 |  jingdezhen\n",
      "Processing Record 163 of 601 |  khatanga\n",
      "Processing Record 164 of 601 |  waipawa\n",
      "Processing Record 165 of 601 |  egvekinot\n",
      "Processing Record 166 of 601 |  mamallapuram\n",
      "Processing Record 167 of 601 |  jennings\n",
      "Processing Record 168 of 601 |  kinablangan\n",
      "Processing Record 169 of 601 |  albany\n",
      "Processing Record 170 of 601 |  san francisco\n",
      "Processing Record 171 of 601 |  saldanha\n",
      "Processing Record 172 of 601 |  san alberto\n",
      "Processing Record 173 of 601 |  souillac\n",
      "Processing Record 174 of 601 |  mastic beach\n",
      "Processing Record 175 of 601 |  mahebourg\n",
      "Processing Record 176 of 601 |  yellowknife\n",
      "Processing Record 177 of 601 |  chokurdakh\n",
      "Processing Record 178 of 601 |  awjilah\n",
      "Processing Record 179 of 601 |  shingu\n",
      "Processing Record 180 of 601 |  salalah\n",
      "Processing Record 181 of 601 |  ancud\n",
      "Processing Record 182 of 601 |  feijo\n",
      "Processing Record 183 of 601 |  malanje\n",
      "Processing Record 184 of 601 |  milkovo\n",
      "Processing Record 185 of 601 |  sergeyevka\n",
      "Processing Record 186 of 601 |  ribeira grande\n",
      "Processing Record 187 of 601 |  launceston\n",
      "Processing Record 188 of 601 |  butaritari\n",
      "Processing Record 189 of 601 |  norman wells\n",
      "Processing Record 190 of 601 |  yar-sale\n"
     ]
    },
    {
     "name": "stdout",
     "output_type": "stream",
     "text": [
      "Processing Record 191 of 601 |  goderich\n",
      "Processing Record 192 of 601 |  ahuimanu\n",
      "Processing Record 193 of 601 |  teruel\n",
      "Processing Record 194 of 601 |  clyde river\n",
      "Processing Record 195 of 601 |  bilibino\n",
      "Processing Record 196 of 601 |  jaca\n",
      "Processing Record 197 of 601 |  itarema\n",
      "Processing Record 198 of 601 |  paracuru\n",
      "Processing Record 199 of 601 |  zvishavane\n",
      "Processing Record 200 of 601 |  thompson\n",
      "Processing Record 201 of 601 |  cherskiy\n",
      "Processing Record 202 of 601 |  kleck\n",
      " City not found. Skipping...\n",
      "Processing Record 203 of 601 |  veraval\n",
      "Processing Record 204 of 601 |  nyuksenitsa\n",
      "Processing Record 205 of 601 |  mrirt\n",
      " City not found. Skipping...\n",
      "Processing Record 206 of 601 |  winnemucca\n",
      "Processing Record 207 of 601 |  hilo\n",
      "Processing Record 208 of 601 |  nome\n",
      "Processing Record 209 of 601 |  broken hill\n",
      "Processing Record 210 of 601 |  tuktoyaktuk\n",
      "Processing Record 211 of 601 |  arraial do cabo\n",
      "Processing Record 212 of 601 |  korem\n",
      "Processing Record 213 of 601 |  victor harbor\n",
      "Processing Record 214 of 601 |  lavrentiya\n",
      "Processing Record 215 of 601 |  huarmey\n",
      "Processing Record 216 of 601 |  nelson\n",
      "Processing Record 217 of 601 |  richards bay\n",
      "Processing Record 218 of 601 |  dandong\n",
      "Processing Record 219 of 601 |  belmonte\n",
      "Processing Record 220 of 601 |  san patricio\n",
      "Processing Record 221 of 601 |  sidi ali\n",
      "Processing Record 222 of 601 |  kondagaon\n",
      "Processing Record 223 of 601 |  bata\n",
      "Processing Record 224 of 601 |  kieta\n",
      "Processing Record 225 of 601 |  beisfjord\n",
      "Processing Record 226 of 601 |  dikson\n",
      "Processing Record 227 of 601 |  cap-chat\n",
      "Processing Record 228 of 601 |  gazanjyk\n",
      "Processing Record 229 of 601 |  kruisfontein\n",
      "Processing Record 230 of 601 |  yulara\n",
      "Processing Record 231 of 601 |  vaitupu\n",
      " City not found. Skipping...\n",
      "Processing Record 232 of 601 |  longlac\n",
      " City not found. Skipping...\n",
      "Processing Record 233 of 601 |  houma\n",
      "Processing Record 234 of 601 |  tual\n",
      "Processing Record 235 of 601 |  seguela\n",
      "Processing Record 236 of 601 |  quimper\n",
      "Processing Record 237 of 601 |  coahuayana\n",
      "Processing Record 238 of 601 |  nhulunbuy\n",
      "Processing Record 239 of 601 |  pevek\n",
      "Processing Record 240 of 601 |  pangoa\n",
      "Processing Record 241 of 601 |  upernavik\n",
      "Processing Record 242 of 601 |  bereda\n",
      "Processing Record 243 of 601 |  kintinku\n",
      "Processing Record 244 of 601 |  ust-maya\n",
      "Processing Record 245 of 601 |  saint pete beach\n",
      "Processing Record 246 of 601 |  sechura\n",
      "Processing Record 247 of 601 |  salinopolis\n",
      "Processing Record 248 of 601 |  padang\n",
      "Processing Record 249 of 601 |  san cristobal\n",
      "Processing Record 250 of 601 |  quatre cocos\n",
      "Processing Record 251 of 601 |  parrita\n",
      "Processing Record 252 of 601 |  lensk\n",
      "Processing Record 253 of 601 |  poum\n",
      "Processing Record 254 of 601 |  kaeo\n",
      "Processing Record 255 of 601 |  mildura\n",
      "Processing Record 256 of 601 |  pultusk\n",
      "Processing Record 257 of 601 |  kuche\n",
      " City not found. Skipping...\n",
      "Processing Record 258 of 601 |  tahta\n",
      "Processing Record 259 of 601 |  ivybridge\n",
      "Processing Record 260 of 601 |  port-cartier\n",
      "Processing Record 261 of 601 |  te anau\n",
      "Processing Record 262 of 601 |  attawapiskat\n",
      " City not found. Skipping...\n",
      "Processing Record 263 of 601 |  vrangel\n",
      "Processing Record 264 of 601 |  tabuk\n",
      "Processing Record 265 of 601 |  ngukurr\n",
      " City not found. Skipping...\n",
      "Processing Record 266 of 601 |  cidreira\n",
      "Processing Record 267 of 601 |  homer\n",
      "Processing Record 268 of 601 |  valparaiso\n",
      "Processing Record 269 of 601 |  grand river south east\n",
      " City not found. Skipping...\n",
      "Processing Record 270 of 601 |  naze\n",
      "Processing Record 271 of 601 |  koson\n",
      "Processing Record 272 of 601 |  namtsy\n",
      "Processing Record 273 of 601 |  pueblo\n",
      "Processing Record 274 of 601 |  puerto escondido\n",
      "Processing Record 275 of 601 |  san andres\n",
      "Processing Record 276 of 601 |  mentok\n",
      " City not found. Skipping...\n",
      "Processing Record 277 of 601 |  kinanah\n",
      " City not found. Skipping...\n",
      "Processing Record 278 of 601 |  esperance\n",
      "Processing Record 279 of 601 |  codrington\n",
      "Processing Record 280 of 601 |  nouadhibou\n",
      "Processing Record 281 of 601 |  panjab\n",
      "Processing Record 282 of 601 |  pemangkat\n",
      "Processing Record 283 of 601 |  svetlaya\n",
      "Processing Record 284 of 601 |  usinsk\n",
      "Processing Record 285 of 601 |  xuddur\n",
      "Processing Record 286 of 601 |  rio gallegos\n",
      "Processing Record 287 of 601 |  jyvaskyla\n",
      "Processing Record 288 of 601 |  olafsvik\n",
      "Processing Record 289 of 601 |  gushikawa\n",
      "Processing Record 290 of 601 |  zayukovo\n",
      "Processing Record 291 of 601 |  lapua\n",
      "Processing Record 292 of 601 |  lorengau\n",
      "Processing Record 293 of 601 |  pineville\n",
      "Processing Record 294 of 601 |  adrar\n",
      "Processing Record 295 of 601 |  andenes\n",
      "Processing Record 296 of 601 |  inhambane\n",
      "Processing Record 297 of 601 |  bargal\n",
      " City not found. Skipping...\n",
      "Processing Record 298 of 601 |  norsup\n",
      "Processing Record 299 of 601 |  vardo\n",
      "Processing Record 300 of 601 |  outjo\n",
      "Processing Record 301 of 601 |  skibbereen\n",
      "Processing Record 302 of 601 |  tabas\n",
      "Processing Record 303 of 601 |  fort nelson\n",
      "Processing Record 304 of 601 |  longyearbyen\n",
      "Processing Record 305 of 601 |  fortuna\n",
      "Processing Record 306 of 601 |  kupang\n",
      "Processing Record 307 of 601 |  ambulu\n",
      "Processing Record 308 of 601 |  tiksi\n",
      "Processing Record 309 of 601 |  boatlaname\n",
      " City not found. Skipping...\n",
      "Processing Record 310 of 601 |  soto la marina\n",
      "Processing Record 311 of 601 |  luderitz\n",
      "Processing Record 312 of 601 |  piranhas\n",
      "Processing Record 313 of 601 |  olinda\n",
      "Processing Record 314 of 601 |  portsmouth\n",
      "Processing Record 315 of 601 |  mococa\n",
      "Processing Record 316 of 601 |  gorno-chuyskiy\n",
      " City not found. Skipping...\n",
      "Processing Record 317 of 601 |  la rioja\n",
      "Processing Record 318 of 601 |  pierre\n",
      "Processing Record 319 of 601 |  harlingen\n",
      "Processing Record 320 of 601 |  poplar bluff\n",
      "Processing Record 321 of 601 |  great yarmouth\n",
      "Processing Record 322 of 601 |  kismayo\n",
      "Processing Record 323 of 601 |  comodoro rivadavia\n",
      "Processing Record 324 of 601 |  camacha\n",
      "Processing Record 325 of 601 |  ketchikan\n",
      "Processing Record 326 of 601 |  avarua\n",
      "Processing Record 327 of 601 |  rongcheng\n",
      "Processing Record 328 of 601 |  viedma\n",
      "Processing Record 329 of 601 |  kirkwall\n",
      "Processing Record 330 of 601 |  nong chik\n",
      "Processing Record 331 of 601 |  tsihombe\n",
      " City not found. Skipping...\n",
      "Processing Record 332 of 601 |  la ronge\n",
      "Processing Record 333 of 601 |  karratha\n",
      "Processing Record 334 of 601 |  coquimbo\n",
      "Processing Record 335 of 601 |  praia da vitoria\n",
      "Processing Record 336 of 601 |  gidole\n",
      "Processing Record 337 of 601 |  ostrovnoy\n",
      "Processing Record 338 of 601 |  sao raimundo das mangabeiras\n",
      "Processing Record 339 of 601 |  iquique\n",
      "Processing Record 340 of 601 |  umzimvubu\n",
      " City not found. Skipping...\n",
      "Processing Record 341 of 601 |  horta\n",
      "Processing Record 342 of 601 |  udarnyy\n",
      "Processing Record 343 of 601 |  kampot\n",
      "Processing Record 344 of 601 |  santa barbara\n",
      "Processing Record 345 of 601 |  tselinnoye\n",
      "Processing Record 346 of 601 |  gamba\n",
      "Processing Record 347 of 601 |  miles city\n",
      "Processing Record 348 of 601 |  gambela\n",
      "Processing Record 349 of 601 |  arys\n",
      "Processing Record 350 of 601 |  linqing\n",
      "Processing Record 351 of 601 |  tecpan\n",
      "Processing Record 352 of 601 |  buritizeiro\n",
      "Processing Record 353 of 601 |  biltine\n",
      "Processing Record 354 of 601 |  port moresby\n",
      "Processing Record 355 of 601 |  las cruces\n",
      "Processing Record 356 of 601 |  sao joao da barra\n",
      "Processing Record 357 of 601 |  fort frances\n",
      "Processing Record 358 of 601 |  rajshahi\n",
      "Processing Record 359 of 601 |  saint-augustin\n",
      "Processing Record 360 of 601 |  imbituba\n",
      "Processing Record 361 of 601 |  cabo san lucas\n",
      "Processing Record 362 of 601 |  goba\n",
      "Processing Record 363 of 601 |  louisbourg\n",
      " City not found. Skipping...\n",
      "Processing Record 364 of 601 |  verkhnyaya inta\n",
      "Processing Record 365 of 601 |  koltubanovskiy\n",
      "Processing Record 366 of 601 |  rehoboth\n",
      "Processing Record 367 of 601 |  kavaratti\n",
      "Processing Record 368 of 601 |  zyryanka\n",
      "Processing Record 369 of 601 |  meyungs\n",
      " City not found. Skipping...\n",
      "Processing Record 370 of 601 |  samarai\n",
      "Processing Record 371 of 601 |  el alto\n",
      "Processing Record 372 of 601 |  novikovo\n",
      "Processing Record 373 of 601 |  isla mujeres\n",
      "Processing Record 374 of 601 |  jilemnice\n",
      "Processing Record 375 of 601 |  tarrega\n",
      "Processing Record 376 of 601 |  rio blanco\n",
      "Processing Record 377 of 601 |  asau\n",
      "Processing Record 378 of 601 |  skelleftea\n",
      "Processing Record 379 of 601 |  hovd\n"
     ]
    },
    {
     "name": "stdout",
     "output_type": "stream",
     "text": [
      "Processing Record 380 of 601 |  raver\n",
      "Processing Record 381 of 601 |  puerto madryn\n",
      "Processing Record 382 of 601 |  los llanos de aridane\n",
      "Processing Record 383 of 601 |  khuzdar\n",
      "Processing Record 384 of 601 |  bridlington\n",
      "Processing Record 385 of 601 |  bafra\n",
      "Processing Record 386 of 601 |  shimoda\n",
      "Processing Record 387 of 601 |  nawa\n",
      "Processing Record 388 of 601 |  bandarbeyla\n",
      "Processing Record 389 of 601 |  sentyabrskiy\n",
      " City not found. Skipping...\n",
      "Processing Record 390 of 601 |  pedasi\n",
      "Processing Record 391 of 601 |  hambantota\n",
      "Processing Record 392 of 601 |  tabiauea\n",
      " City not found. Skipping...\n",
      "Processing Record 393 of 601 |  davila\n",
      "Processing Record 394 of 601 |  buraydah\n",
      "Processing Record 395 of 601 |  carnarvon\n",
      "Processing Record 396 of 601 |  kibala\n",
      "Processing Record 397 of 601 |  catamarca\n",
      "Processing Record 398 of 601 |  muros\n",
      "Processing Record 399 of 601 |  barra do bugres\n",
      "Processing Record 400 of 601 |  witu\n",
      "Processing Record 401 of 601 |  staraya toropa\n",
      "Processing Record 402 of 601 |  san quintin\n",
      "Processing Record 403 of 601 |  listvyanskiy\n",
      "Processing Record 404 of 601 |  vikulovo\n",
      "Processing Record 405 of 601 |  pitimbu\n",
      "Processing Record 406 of 601 |  touros\n",
      "Processing Record 407 of 601 |  xinmin\n",
      "Processing Record 408 of 601 |  piravam\n",
      "Processing Record 409 of 601 |  tiznit\n",
      "Processing Record 410 of 601 |  sinjah\n",
      " City not found. Skipping...\n",
      "Processing Record 411 of 601 |  abu dhabi\n",
      "Processing Record 412 of 601 |  ampanihy\n",
      "Processing Record 413 of 601 |  esmeraldas\n",
      "Processing Record 414 of 601 |  willowmore\n",
      "Processing Record 415 of 601 |  rovnoye\n",
      "Processing Record 416 of 601 |  zhigansk\n",
      "Processing Record 417 of 601 |  batemans bay\n",
      "Processing Record 418 of 601 |  shcholkine\n",
      " City not found. Skipping...\n",
      "Processing Record 419 of 601 |  iqaluit\n",
      "Processing Record 420 of 601 |  hualmay\n",
      "Processing Record 421 of 601 |  bud\n",
      "Processing Record 422 of 601 |  lake shore\n",
      "Processing Record 423 of 601 |  mkushi\n",
      "Processing Record 424 of 601 |  koindu\n",
      "Processing Record 425 of 601 |  anadyr\n",
      "Processing Record 426 of 601 |  hobyo\n",
      "Processing Record 427 of 601 |  vincennes\n",
      "Processing Record 428 of 601 |  san luis\n",
      "Processing Record 429 of 601 |  caravelas\n",
      "Processing Record 430 of 601 |  constitucion\n",
      "Processing Record 431 of 601 |  iralaya\n",
      "Processing Record 432 of 601 |  phan rang\n",
      " City not found. Skipping...\n",
      "Processing Record 433 of 601 |  qasigiannguit\n",
      "Processing Record 434 of 601 |  korla\n",
      "Processing Record 435 of 601 |  oyama\n",
      "Processing Record 436 of 601 |  birjand\n",
      "Processing Record 437 of 601 |  hami\n",
      "Processing Record 438 of 601 |  boa vista\n",
      "Processing Record 439 of 601 |  candolim\n",
      "Processing Record 440 of 601 |  bolungarvik\n",
      " City not found. Skipping...\n",
      "Processing Record 441 of 601 |  zhigalovo\n",
      "Processing Record 442 of 601 |  morondava\n",
      "Processing Record 443 of 601 |  gupitan\n",
      "Processing Record 444 of 601 |  pangkalanbuun\n",
      "Processing Record 445 of 601 |  karamay\n",
      " City not found. Skipping...\n",
      "Processing Record 446 of 601 |  san pedro\n",
      "Processing Record 447 of 601 |  koboldo\n",
      " City not found. Skipping...\n",
      "Processing Record 448 of 601 |  aleksandrov gay\n",
      "Processing Record 449 of 601 |  bambanglipuro\n",
      "Processing Record 450 of 601 |  camana\n",
      "Processing Record 451 of 601 |  muzhi\n",
      "Processing Record 452 of 601 |  saint george\n",
      "Processing Record 453 of 601 |  nizwa\n",
      "Processing Record 454 of 601 |  eirunepe\n",
      "Processing Record 455 of 601 |  khani\n",
      "Processing Record 456 of 601 |  terrak\n",
      "Processing Record 457 of 601 |  bethel\n",
      "Processing Record 458 of 601 |  palabuhanratu\n",
      " City not found. Skipping...\n",
      "Processing Record 459 of 601 |  matadi\n",
      "Processing Record 460 of 601 |  ukiah\n",
      "Processing Record 461 of 601 |  urdzhar\n",
      " City not found. Skipping...\n",
      "Processing Record 462 of 601 |  riyadh\n",
      "Processing Record 463 of 601 |  nyrob\n",
      "Processing Record 464 of 601 |  blind river\n",
      "Processing Record 465 of 601 |  evensk\n",
      "Processing Record 466 of 601 |  maldonado\n",
      "Processing Record 467 of 601 |  mount gambier\n",
      "Processing Record 468 of 601 |  brae\n",
      "Processing Record 469 of 601 |  shalya\n",
      "Processing Record 470 of 601 |  mullaitivu\n",
      " City not found. Skipping...\n",
      "Processing Record 471 of 601 |  maarianhamina\n",
      "Processing Record 472 of 601 |  lata\n",
      "Processing Record 473 of 601 |  zlatoustovsk\n",
      " City not found. Skipping...\n",
      "Processing Record 474 of 601 |  mizdah\n",
      "Processing Record 475 of 601 |  kamenka\n",
      "Processing Record 476 of 601 |  loreto\n",
      "Processing Record 477 of 601 |  jaragua do sul\n",
      "Processing Record 478 of 601 |  simpang empat\n",
      "Processing Record 479 of 601 |  san matias\n",
      "Processing Record 480 of 601 |  sarakhs\n",
      "Processing Record 481 of 601 |  jiroft\n",
      " City not found. Skipping...\n",
      "Processing Record 482 of 601 |  merrill\n",
      "Processing Record 483 of 601 |  isabela\n",
      "Processing Record 484 of 601 |  mersing\n",
      "Processing Record 485 of 601 |  alcains\n",
      "Processing Record 486 of 601 |  lompoc\n",
      "Processing Record 487 of 601 |  fairbanks\n",
      "Processing Record 488 of 601 |  zhangjiakou\n",
      "Processing Record 489 of 601 |  belen\n",
      "Processing Record 490 of 601 |  moron\n",
      "Processing Record 491 of 601 |  abeokuta\n",
      "Processing Record 492 of 601 |  boguchany\n",
      "Processing Record 493 of 601 |  san policarpo\n",
      "Processing Record 494 of 601 |  bowen\n",
      "Processing Record 495 of 601 |  gat\n",
      "Processing Record 496 of 601 |  tuxtla\n",
      "Processing Record 497 of 601 |  tezu\n",
      "Processing Record 498 of 601 |  eyrarbakki\n",
      "Processing Record 499 of 601 |  itoman\n",
      "Processing Record 500 of 601 |  warqla\n",
      " City not found. Skipping...\n",
      "Processing Record 501 of 601 |  terny\n",
      "Processing Record 502 of 601 |  leo\n",
      "Processing Record 503 of 601 |  najran\n",
      "Processing Record 504 of 601 |  pindiga\n",
      "Processing Record 505 of 601 |  guajara-mirim\n",
      " City not found. Skipping...\n",
      "Processing Record 506 of 601 |  marawi\n",
      "Processing Record 507 of 601 |  otradnoye\n",
      "Processing Record 508 of 601 |  saint-pierre\n",
      "Processing Record 509 of 601 |  alta floresta\n",
      "Processing Record 510 of 601 |  gajendragarh\n",
      "Processing Record 511 of 601 |  namibe\n",
      "Processing Record 512 of 601 |  sayyan\n",
      "Processing Record 513 of 601 |  sokoto\n",
      "Processing Record 514 of 601 |  ornskoldsvik\n",
      "Processing Record 515 of 601 |  fevralsk\n",
      " City not found. Skipping...\n",
      "Processing Record 516 of 601 |  sola\n",
      "Processing Record 517 of 601 |  road town\n",
      "Processing Record 518 of 601 |  bubaque\n",
      "Processing Record 519 of 601 |  calama\n",
      "Processing Record 520 of 601 |  trairi\n",
      "Processing Record 521 of 601 |  sfantu gheorghe\n",
      "Processing Record 522 of 601 |  lingao\n",
      "Processing Record 523 of 601 |  acapulco\n",
      "Processing Record 524 of 601 |  porto novo\n",
      "Processing Record 525 of 601 |  muli\n",
      "Processing Record 526 of 601 |  stephenville\n",
      "Processing Record 527 of 601 |  tari\n",
      "Processing Record 528 of 601 |  chifeng\n",
      "Processing Record 529 of 601 |  sivaki\n",
      "Processing Record 530 of 601 |  punganuru\n",
      "Processing Record 531 of 601 |  becerril\n",
      "Processing Record 532 of 601 |  hirara\n",
      "Processing Record 533 of 601 |  cabatuan\n",
      "Processing Record 534 of 601 |  ko samui\n",
      "Processing Record 535 of 601 |  nara\n",
      "Processing Record 536 of 601 |  harwich\n",
      "Processing Record 537 of 601 |  ca mau\n",
      "Processing Record 538 of 601 |  loviisa\n",
      "Processing Record 539 of 601 |  labuhan\n",
      "Processing Record 540 of 601 |  tilichiki\n",
      "Processing Record 541 of 601 |  raudeberg\n",
      "Processing Record 542 of 601 |  college\n",
      "Processing Record 543 of 601 |  strazica\n",
      " City not found. Skipping...\n",
      "Processing Record 544 of 601 |  oudtshoorn\n",
      "Processing Record 545 of 601 |  pochutla\n",
      "Processing Record 546 of 601 |  apatou\n",
      "Processing Record 547 of 601 |  buariki\n",
      " City not found. Skipping...\n",
      "Processing Record 548 of 601 |  teguldet\n",
      "Processing Record 549 of 601 |  beecher\n",
      "Processing Record 550 of 601 |  ambovombe\n",
      "Processing Record 551 of 601 |  puerto leguizamo\n",
      "Processing Record 552 of 601 |  okhotsk\n",
      "Processing Record 553 of 601 |  xinyang\n",
      "Processing Record 554 of 601 |  abu kamal\n",
      "Processing Record 555 of 601 |  male\n",
      "Processing Record 556 of 601 |  sokoni\n",
      "Processing Record 557 of 601 |  vestmanna\n",
      "Processing Record 558 of 601 |  leh\n",
      "Processing Record 559 of 601 |  cherusti\n",
      "Processing Record 560 of 601 |  camabatela\n",
      "Processing Record 561 of 601 |  nantucket\n",
      "Processing Record 562 of 601 |  umm lajj\n",
      "Processing Record 563 of 601 |  ijaki\n",
      " City not found. Skipping...\n",
      "Processing Record 564 of 601 |  bundaberg\n",
      "Processing Record 565 of 601 |  tarakan\n",
      "Processing Record 566 of 601 |  lixourion\n",
      "Processing Record 567 of 601 |  phrai bung\n",
      " City not found. Skipping...\n",
      "Processing Record 568 of 601 |  masakin\n"
     ]
    },
    {
     "name": "stdout",
     "output_type": "stream",
     "text": [
      "Processing Record 569 of 601 |  saint anthony\n",
      "Processing Record 570 of 601 |  mitzic\n",
      "Processing Record 571 of 601 |  khonuu\n",
      " City not found. Skipping...\n",
      "Processing Record 572 of 601 |  beringovskiy\n",
      "Processing Record 573 of 601 |  rudbar\n",
      "Processing Record 574 of 601 |  lima duarte\n",
      "Processing Record 575 of 601 |  yamada\n",
      "Processing Record 576 of 601 |  kazalinsk\n",
      " City not found. Skipping...\n",
      "Processing Record 577 of 601 |  tatawin\n",
      "Processing Record 578 of 601 |  liverpool\n",
      "Processing Record 579 of 601 |  pak phanang\n",
      "Processing Record 580 of 601 |  oksovskiy\n",
      "Processing Record 581 of 601 |  beihai\n",
      "Processing Record 582 of 601 |  eydhafushi\n",
      "Processing Record 583 of 601 |  mahbubnagar\n",
      "Processing Record 584 of 601 |  valley\n",
      "Processing Record 585 of 601 |  vila real de santo antonio\n",
      "Processing Record 586 of 601 |  kuryk\n",
      "Processing Record 587 of 601 |  noumea\n",
      "Processing Record 588 of 601 |  krasnoselkup\n",
      "Processing Record 589 of 601 |  bokoro\n",
      "Processing Record 590 of 601 |  matay\n",
      "Processing Record 591 of 601 |  rio grande\n",
      "Processing Record 592 of 601 |  moree\n",
      "Processing Record 593 of 601 |  foumban\n",
      "Processing Record 594 of 601 |  arman\n",
      "Processing Record 595 of 601 |  srednekolymsk\n",
      "Processing Record 596 of 601 |  zhezkazgan\n",
      "Processing Record 597 of 601 |  saint-francois\n",
      "Processing Record 598 of 601 |  mehamn\n",
      "Processing Record 599 of 601 |  paita\n",
      "Processing Record 600 of 601 |  sumbawanga\n",
      "Processing Record 601 of 601 |  vila velha\n",
      "545 Successfully Collected\n"
     ]
    }
   ],
   "source": [
    "# Make the call and put into datafrom             \n",
    "citidata = runner(cities)\n"
   ]
  },
  {
   "cell_type": "markdown",
   "metadata": {},
   "source": [
    "### Convert Raw Data to DataFrame\n",
    "* Export the city data into a .csv.\n",
    "* Display the DataFrame"
   ]
  },
  {
   "cell_type": "code",
   "execution_count": 7,
   "metadata": {},
   "outputs": [
    {
     "data": {
      "text/html": [
       "<div>\n",
       "<style scoped>\n",
       "    .dataframe tbody tr th:only-of-type {\n",
       "        vertical-align: middle;\n",
       "    }\n",
       "\n",
       "    .dataframe tbody tr th {\n",
       "        vertical-align: top;\n",
       "    }\n",
       "\n",
       "    .dataframe thead th {\n",
       "        text-align: right;\n",
       "    }\n",
       "</style>\n",
       "<table border=\"1\" class=\"dataframe\">\n",
       "  <thead>\n",
       "    <tr style=\"text-align: right;\">\n",
       "      <th></th>\n",
       "      <th>city</th>\n",
       "      <th>lat</th>\n",
       "      <th>lng</th>\n",
       "      <th>temp</th>\n",
       "      <th>humidity</th>\n",
       "      <th>cloudiness</th>\n",
       "      <th>windspeed</th>\n",
       "    </tr>\n",
       "  </thead>\n",
       "  <tbody>\n",
       "    <tr>\n",
       "      <th>0</th>\n",
       "      <td>lebu</td>\n",
       "      <td>-37.6167</td>\n",
       "      <td>-73.6500</td>\n",
       "      <td>53.56</td>\n",
       "      <td>86</td>\n",
       "      <td>100</td>\n",
       "      <td>10.47</td>\n",
       "    </tr>\n",
       "    <tr>\n",
       "      <th>1</th>\n",
       "      <td>mataura</td>\n",
       "      <td>-46.1927</td>\n",
       "      <td>168.8643</td>\n",
       "      <td>52.39</td>\n",
       "      <td>52</td>\n",
       "      <td>4</td>\n",
       "      <td>1.66</td>\n",
       "    </tr>\n",
       "    <tr>\n",
       "      <th>2</th>\n",
       "      <td>jamestown</td>\n",
       "      <td>42.0970</td>\n",
       "      <td>-79.2353</td>\n",
       "      <td>41.20</td>\n",
       "      <td>49</td>\n",
       "      <td>1</td>\n",
       "      <td>6.91</td>\n",
       "    </tr>\n",
       "    <tr>\n",
       "      <th>3</th>\n",
       "      <td>rikitea</td>\n",
       "      <td>-23.1203</td>\n",
       "      <td>-134.9692</td>\n",
       "      <td>77.32</td>\n",
       "      <td>78</td>\n",
       "      <td>19</td>\n",
       "      <td>17.22</td>\n",
       "    </tr>\n",
       "    <tr>\n",
       "      <th>4</th>\n",
       "      <td>mar del plata</td>\n",
       "      <td>-38.0023</td>\n",
       "      <td>-57.5575</td>\n",
       "      <td>52.79</td>\n",
       "      <td>76</td>\n",
       "      <td>0</td>\n",
       "      <td>1.01</td>\n",
       "    </tr>\n",
       "    <tr>\n",
       "      <th>5</th>\n",
       "      <td>anta</td>\n",
       "      <td>25.1500</td>\n",
       "      <td>76.3000</td>\n",
       "      <td>87.53</td>\n",
       "      <td>38</td>\n",
       "      <td>88</td>\n",
       "      <td>8.10</td>\n",
       "    </tr>\n",
       "    <tr>\n",
       "      <th>6</th>\n",
       "      <td>pallisa</td>\n",
       "      <td>1.1450</td>\n",
       "      <td>33.7094</td>\n",
       "      <td>61.43</td>\n",
       "      <td>95</td>\n",
       "      <td>78</td>\n",
       "      <td>2.21</td>\n",
       "    </tr>\n",
       "    <tr>\n",
       "      <th>7</th>\n",
       "      <td>zabid</td>\n",
       "      <td>14.1951</td>\n",
       "      <td>43.3152</td>\n",
       "      <td>87.24</td>\n",
       "      <td>51</td>\n",
       "      <td>75</td>\n",
       "      <td>6.78</td>\n",
       "    </tr>\n",
       "    <tr>\n",
       "      <th>8</th>\n",
       "      <td>port alfred</td>\n",
       "      <td>-33.5906</td>\n",
       "      <td>26.8910</td>\n",
       "      <td>59.22</td>\n",
       "      <td>76</td>\n",
       "      <td>0</td>\n",
       "      <td>6.67</td>\n",
       "    </tr>\n",
       "    <tr>\n",
       "      <th>9</th>\n",
       "      <td>kavieng</td>\n",
       "      <td>-2.5744</td>\n",
       "      <td>150.7967</td>\n",
       "      <td>84.78</td>\n",
       "      <td>69</td>\n",
       "      <td>9</td>\n",
       "      <td>6.46</td>\n",
       "    </tr>\n",
       "  </tbody>\n",
       "</table>\n",
       "</div>"
      ],
      "text/plain": [
       "            city      lat       lng   temp  humidity  cloudiness  windspeed\n",
       "0           lebu -37.6167  -73.6500  53.56        86         100      10.47\n",
       "1        mataura -46.1927  168.8643  52.39        52           4       1.66\n",
       "2      jamestown  42.0970  -79.2353  41.20        49           1       6.91\n",
       "3        rikitea -23.1203 -134.9692  77.32        78          19      17.22\n",
       "4  mar del plata -38.0023  -57.5575  52.79        76           0       1.01\n",
       "5           anta  25.1500   76.3000  87.53        38          88       8.10\n",
       "6        pallisa   1.1450   33.7094  61.43        95          78       2.21\n",
       "7          zabid  14.1951   43.3152  87.24        51          75       6.78\n",
       "8    port alfred -33.5906   26.8910  59.22        76           0       6.67\n",
       "9        kavieng  -2.5744  150.7967  84.78        69           9       6.46"
      ]
     },
     "execution_count": 7,
     "metadata": {},
     "output_type": "execute_result"
    }
   ],
   "source": [
    "citydatadf = pd.DataFrame(citidata)\n",
    "citydatadf.to_csv('citydata.csv', index=False)\n",
    "citydatadf.head(10)"
   ]
  },
  {
   "cell_type": "markdown",
   "metadata": {},
   "source": [
    "## Inspect the data and remove the cities where the humidity > 100%.\n",
    "----\n",
    "Skip this step if there are no cities that have humidity > 100%. "
   ]
  },
  {
   "cell_type": "code",
   "execution_count": 8,
   "metadata": {},
   "outputs": [
    {
     "data": {
      "text/html": [
       "<div>\n",
       "<style scoped>\n",
       "    .dataframe tbody tr th:only-of-type {\n",
       "        vertical-align: middle;\n",
       "    }\n",
       "\n",
       "    .dataframe tbody tr th {\n",
       "        vertical-align: top;\n",
       "    }\n",
       "\n",
       "    .dataframe thead th {\n",
       "        text-align: right;\n",
       "    }\n",
       "</style>\n",
       "<table border=\"1\" class=\"dataframe\">\n",
       "  <thead>\n",
       "    <tr style=\"text-align: right;\">\n",
       "      <th></th>\n",
       "      <th>lat</th>\n",
       "      <th>lng</th>\n",
       "      <th>temp</th>\n",
       "      <th>humidity</th>\n",
       "      <th>cloudiness</th>\n",
       "      <th>windspeed</th>\n",
       "    </tr>\n",
       "  </thead>\n",
       "  <tbody>\n",
       "    <tr>\n",
       "      <th>count</th>\n",
       "      <td>545.000000</td>\n",
       "      <td>545.000000</td>\n",
       "      <td>545.000000</td>\n",
       "      <td>545.000000</td>\n",
       "      <td>545.000000</td>\n",
       "      <td>545.000000</td>\n",
       "    </tr>\n",
       "    <tr>\n",
       "      <th>mean</th>\n",
       "      <td>20.177427</td>\n",
       "      <td>18.445867</td>\n",
       "      <td>62.188587</td>\n",
       "      <td>69.409174</td>\n",
       "      <td>54.284404</td>\n",
       "      <td>7.585138</td>\n",
       "    </tr>\n",
       "    <tr>\n",
       "      <th>std</th>\n",
       "      <td>32.888477</td>\n",
       "      <td>89.946989</td>\n",
       "      <td>17.165652</td>\n",
       "      <td>20.533767</td>\n",
       "      <td>40.175463</td>\n",
       "      <td>5.366483</td>\n",
       "    </tr>\n",
       "    <tr>\n",
       "      <th>min</th>\n",
       "      <td>-54.800000</td>\n",
       "      <td>-179.166700</td>\n",
       "      <td>15.800000</td>\n",
       "      <td>7.000000</td>\n",
       "      <td>0.000000</td>\n",
       "      <td>0.000000</td>\n",
       "    </tr>\n",
       "    <tr>\n",
       "      <th>25%</th>\n",
       "      <td>-6.216700</td>\n",
       "      <td>-59.516700</td>\n",
       "      <td>49.170000</td>\n",
       "      <td>57.000000</td>\n",
       "      <td>8.000000</td>\n",
       "      <td>3.490000</td>\n",
       "    </tr>\n",
       "    <tr>\n",
       "      <th>50%</th>\n",
       "      <td>24.366700</td>\n",
       "      <td>23.489500</td>\n",
       "      <td>62.240000</td>\n",
       "      <td>75.000000</td>\n",
       "      <td>64.000000</td>\n",
       "      <td>6.290000</td>\n",
       "    </tr>\n",
       "    <tr>\n",
       "      <th>75%</th>\n",
       "      <td>46.433300</td>\n",
       "      <td>90.220100</td>\n",
       "      <td>77.850000</td>\n",
       "      <td>85.000000</td>\n",
       "      <td>96.000000</td>\n",
       "      <td>10.540000</td>\n",
       "    </tr>\n",
       "    <tr>\n",
       "      <th>max</th>\n",
       "      <td>78.218600</td>\n",
       "      <td>179.316700</td>\n",
       "      <td>93.940000</td>\n",
       "      <td>100.000000</td>\n",
       "      <td>100.000000</td>\n",
       "      <td>28.950000</td>\n",
       "    </tr>\n",
       "  </tbody>\n",
       "</table>\n",
       "</div>"
      ],
      "text/plain": [
       "              lat         lng        temp    humidity  cloudiness   windspeed\n",
       "count  545.000000  545.000000  545.000000  545.000000  545.000000  545.000000\n",
       "mean    20.177427   18.445867   62.188587   69.409174   54.284404    7.585138\n",
       "std     32.888477   89.946989   17.165652   20.533767   40.175463    5.366483\n",
       "min    -54.800000 -179.166700   15.800000    7.000000    0.000000    0.000000\n",
       "25%     -6.216700  -59.516700   49.170000   57.000000    8.000000    3.490000\n",
       "50%     24.366700   23.489500   62.240000   75.000000   64.000000    6.290000\n",
       "75%     46.433300   90.220100   77.850000   85.000000   96.000000   10.540000\n",
       "max     78.218600  179.316700   93.940000  100.000000  100.000000   28.950000"
      ]
     },
     "execution_count": 8,
     "metadata": {},
     "output_type": "execute_result"
    }
   ],
   "source": [
    "citydatadf.describe()\n",
    "## Use MAX to see if there are any over 100."
   ]
  },
  {
   "cell_type": "code",
   "execution_count": 9,
   "metadata": {},
   "outputs": [],
   "source": [
    "# Another way, Return rows with humidity greater than 100.\n",
    "hundredpluscitiesdf = citydatadf[citydatadf['humidity'] <= 100]"
   ]
  },
  {
   "cell_type": "code",
   "execution_count": 10,
   "metadata": {},
   "outputs": [
    {
     "data": {
      "text/plain": [
       "[]"
      ]
     },
     "execution_count": 10,
     "metadata": {},
     "output_type": "execute_result"
    }
   ],
   "source": [
    "#  Get the indices of cities that have humidity over 100%.\n",
    "citydatadf.index[citydatadf['humidity'] > 100].tolist()"
   ]
  },
  {
   "cell_type": "code",
   "execution_count": 11,
   "metadata": {},
   "outputs": [
    {
     "data": {
      "text/html": [
       "<div>\n",
       "<style scoped>\n",
       "    .dataframe tbody tr th:only-of-type {\n",
       "        vertical-align: middle;\n",
       "    }\n",
       "\n",
       "    .dataframe tbody tr th {\n",
       "        vertical-align: top;\n",
       "    }\n",
       "\n",
       "    .dataframe thead th {\n",
       "        text-align: right;\n",
       "    }\n",
       "</style>\n",
       "<table border=\"1\" class=\"dataframe\">\n",
       "  <thead>\n",
       "    <tr style=\"text-align: right;\">\n",
       "      <th></th>\n",
       "      <th>city</th>\n",
       "      <th>lat</th>\n",
       "      <th>lng</th>\n",
       "      <th>temp</th>\n",
       "      <th>humidity</th>\n",
       "      <th>cloudiness</th>\n",
       "      <th>windspeed</th>\n",
       "    </tr>\n",
       "  </thead>\n",
       "  <tbody>\n",
       "    <tr>\n",
       "      <th>0</th>\n",
       "      <td>lebu</td>\n",
       "      <td>-37.6167</td>\n",
       "      <td>-73.6500</td>\n",
       "      <td>53.56</td>\n",
       "      <td>86</td>\n",
       "      <td>100</td>\n",
       "      <td>10.47</td>\n",
       "    </tr>\n",
       "    <tr>\n",
       "      <th>1</th>\n",
       "      <td>mataura</td>\n",
       "      <td>-46.1927</td>\n",
       "      <td>168.8643</td>\n",
       "      <td>52.39</td>\n",
       "      <td>52</td>\n",
       "      <td>4</td>\n",
       "      <td>1.66</td>\n",
       "    </tr>\n",
       "    <tr>\n",
       "      <th>2</th>\n",
       "      <td>jamestown</td>\n",
       "      <td>42.0970</td>\n",
       "      <td>-79.2353</td>\n",
       "      <td>41.20</td>\n",
       "      <td>49</td>\n",
       "      <td>1</td>\n",
       "      <td>6.91</td>\n",
       "    </tr>\n",
       "    <tr>\n",
       "      <th>3</th>\n",
       "      <td>rikitea</td>\n",
       "      <td>-23.1203</td>\n",
       "      <td>-134.9692</td>\n",
       "      <td>77.32</td>\n",
       "      <td>78</td>\n",
       "      <td>19</td>\n",
       "      <td>17.22</td>\n",
       "    </tr>\n",
       "    <tr>\n",
       "      <th>4</th>\n",
       "      <td>mar del plata</td>\n",
       "      <td>-38.0023</td>\n",
       "      <td>-57.5575</td>\n",
       "      <td>52.79</td>\n",
       "      <td>76</td>\n",
       "      <td>0</td>\n",
       "      <td>1.01</td>\n",
       "    </tr>\n",
       "  </tbody>\n",
       "</table>\n",
       "</div>"
      ],
      "text/plain": [
       "            city      lat       lng   temp  humidity  cloudiness  windspeed\n",
       "0           lebu -37.6167  -73.6500  53.56        86         100      10.47\n",
       "1        mataura -46.1927  168.8643  52.39        52           4       1.66\n",
       "2      jamestown  42.0970  -79.2353  41.20        49           1       6.91\n",
       "3        rikitea -23.1203 -134.9692  77.32        78          19      17.22\n",
       "4  mar del plata -38.0023  -57.5575  52.79        76           0       1.01"
      ]
     },
     "execution_count": 11,
     "metadata": {},
     "output_type": "execute_result"
    }
   ],
   "source": [
    "# Make a new DataFrame equal to the city data to drop all humidity outliers by index.\n",
    "# Passing \"inplace=False\" will make a copy of the city_data DataFrame, which we call \"clean_city_data\".\n",
    "clean_city_data = citydatadf[citydatadf['humidity'] <= 100]\n",
    "clean_city_data.head()"
   ]
  },
  {
   "cell_type": "markdown",
   "metadata": {},
   "source": [
    "## Plotting the Data\n",
    "* Use proper labeling of the plots using plot titles (including date of analysis) and axes labels.\n",
    "* Save the plotted figures as .pngs."
   ]
  },
  {
   "cell_type": "markdown",
   "metadata": {},
   "source": [
    "## Latitude vs. Temperature Plot"
   ]
  },
  {
   "cell_type": "code",
   "execution_count": 12,
   "metadata": {
    "scrolled": true
   },
   "outputs": [
    {
     "data": {
      "image/png": "[encoded data removed]",
      "text/plain": [
       "<Figure size 432x288 with 1 Axes>"
      ]
     },
     "metadata": {
      "needs_background": "light"
     },
     "output_type": "display_data"
    }
   ],
   "source": [
    " # Create a Scatter Plot for temperature vs latitude\n",
    "x_values = clean_city_data['lat']\n",
    "y_values = clean_city_data['temp']\n",
    "plt.scatter(x_values,y_values)\n",
    "plt.xlabel('Latitude')\n",
    "plt.ylabel('Temperature')\n",
    "plt.show()"
   ]
  },
  {
   "cell_type": "markdown",
   "metadata": {},
   "source": [
    "## Latitude vs. Humidity Plot"
   ]
  },
  {
   "cell_type": "code",
   "execution_count": 13,
   "metadata": {},
   "outputs": [
    {
     "data": {
      "image/png": "[encoded data removed]",
      "text/plain": [
       "<Figure size 432x288 with 1 Axes>"
      ]
     },
     "metadata": {
      "needs_background": "light"
     },
     "output_type": "display_data"
    }
   ],
   "source": [
    " # Create a Scatter Plot for temperature vs latitude\n",
    "x_values = clean_city_data['lat']\n",
    "y_values = clean_city_data['humidity']\n",
    "plt.scatter(x_values,y_values)\n",
    "plt.xlabel('Latitude')\n",
    "plt.ylabel('Humidity')\n",
    "plt.show()"
   ]
  },
  {
   "cell_type": "markdown",
   "metadata": {},
   "source": [
    "## Latitude vs. Cloudiness Plot"
   ]
  },
  {
   "cell_type": "code",
   "execution_count": 14,
   "metadata": {},
   "outputs": [
    {
     "data": {
      "image/png": "[encoded data removed]",
      "text/plain": [
       "<Figure size 432x288 with 1 Axes>"
      ]
     },
     "metadata": {
      "needs_background": "light"
     },
     "output_type": "display_data"
    }
   ],
   "source": [
    " # Create a Scatter Plot for temperature vs latitude\n",
    "x_values = clean_city_data['lat']\n",
    "y_values = clean_city_data['cloudiness']\n",
    "plt.scatter(x_values,y_values)\n",
    "plt.xlabel('Latitude')\n",
    "plt.ylabel('Cloudiness')\n",
    "plt.show()"
   ]
  },
  {
   "cell_type": "markdown",
   "metadata": {},
   "source": [
    "## Latitude vs. Wind Speed Plot"
   ]
  },
  {
   "cell_type": "code",
   "execution_count": 15,
   "metadata": {},
   "outputs": [
    {
     "data": {
      "image/png": "[encoded data removed]",
      "text/plain": [
       "<Figure size 432x288 with 1 Axes>"
      ]
     },
     "metadata": {
      "needs_background": "light"
     },
     "output_type": "display_data"
    }
   ],
   "source": [
    " # Create a Scatter Plot for temperature vs latitude\n",
    "x_values = clean_city_data['lat']\n",
    "y_values = clean_city_data['windspeed']\n",
    "plt.scatter(x_values,y_values)\n",
    "plt.xlabel('Latitude')\n",
    "plt.ylabel('Wind Speed')\n",
    "plt.show()"
   ]
  },
  {
   "cell_type": "markdown",
   "metadata": {},
   "source": [
    "## Linear Regression"
   ]
  },
  {
   "cell_type": "code",
   "execution_count": 16,
   "metadata": {},
   "outputs": [
    {
     "name": "stdout",
     "output_type": "stream",
     "text": [
      "0      76.330313\n",
      "1      78.428786\n",
      "2      56.825056\n",
      "3      72.783169\n",
      "4      76.424666\n",
      "         ...    \n",
      "540    55.768381\n",
      "541    49.744005\n",
      "542    68.371113\n",
      "543    69.075213\n",
      "544    72.100333\n",
      "Name: lat, Length: 545, dtype: float64\n"
     ]
    }
   ],
   "source": [
    "x_values = clean_city_data['lat']\n",
    "y_values = clean_city_data['temp']\n",
    "\n",
    "# Perform a linear regression on temperature vs. latitude\n",
    "(slope, intercept, rvalue, pvalue, stderr) = linregress(x_values, y_values)\n",
    "\n",
    "# Get regression values\n",
    "regress_values = x_values * slope + intercept\n",
    "print(regress_values)"
   ]
  },
  {
   "cell_type": "markdown",
   "metadata": {},
   "source": [
    "####  Northern Hemisphere - Max Temp vs. Latitude Linear Regression"
   ]
  },
  {
   "cell_type": "code",
   "execution_count": 17,
   "metadata": {},
   "outputs": [],
   "source": [
    "northhem_city_data = clean_city_data[clean_city_data['lat'] > 0]"
   ]
  },
  {
   "cell_type": "code",
   "execution_count": 18,
   "metadata": {},
   "outputs": [
    {
     "name": "stdout",
     "output_type": "stream",
     "text": [
      "y = -0.76x +88.82\n",
      "The r-value is: 0.6860560495393886\n"
     ]
    },
    {
     "data": {
      "image/png": "[encoded data removed]",
      "text/plain": [
       "<Figure size 432x288 with 1 Axes>"
      ]
     },
     "metadata": {
      "needs_background": "light"
     },
     "output_type": "display_data"
    }
   ],
   "source": [
    "x_values = northhem_city_data['lat']\n",
    "y_values = northhem_city_data['temp']\n",
    "\n",
    "# Perform a linear regression on temperature vs. latitude\n",
    "(slope, intercept, rvalue, pvalue, stderr) = linregress(x_values, y_values)\n",
    "\n",
    "# Get regression values\n",
    "regress_values = x_values * slope + intercept\n",
    "#print(regress_values)\n",
    "\n",
    "# Create line equation string\n",
    "line_eq = \"y = \" + str(round(slope,2)) + \"x +\" + str(round(intercept,2))\n",
    "print(line_eq)\n",
    "\n",
    "# Create Plot\n",
    "plt.scatter(x_values,y_values)\n",
    "plt.plot(x_values,regress_values,\"r-\")\n",
    "\n",
    "# Label plot and annotate the line equation\n",
    "plt.suptitle('Northern Hemisphere - Max Temp vs. Latitude', fontsize='12')\n",
    "plt.xlabel('Latitude')\n",
    "plt.ylabel('Temperature')\n",
    "plt.annotate(line_eq,(20,15),fontsize=15,color=\"red\")\n",
    "\n",
    "# Print r value\n",
    "print(f\"The r-value is: {rvalue**2}\")\n",
    "\n",
    "# Show plot\n",
    "plt.savefig(\"northern-temp-vs-lat.png\")\n",
    "plt.show()"
   ]
  },
  {
   "cell_type": "markdown",
   "metadata": {},
   "source": [
    "####  Southern Hemisphere - Max Temp vs. Latitude Linear Regression"
   ]
  },
  {
   "cell_type": "code",
   "execution_count": 19,
   "metadata": {},
   "outputs": [
    {
     "name": "stdout",
     "output_type": "stream",
     "text": [
      "y = 0.67x +81.44\n",
      "The r-value is: 0.5437505769054958\n"
     ]
    },
    {
     "data": {
      "image/png": "[encoded data removed]",
      "text/plain": [
       "<Figure size 432x288 with 1 Axes>"
      ]
     },
     "metadata": {
      "needs_background": "light"
     },
     "output_type": "display_data"
    }
   ],
   "source": [
    "southern_hem_city_data = clean_city_data[clean_city_data['lat'] < 0]\n",
    "x_values = southern_hem_city_data['lat']\n",
    "y_values = southern_hem_city_data['temp']\n",
    "\n",
    "# Perform a linear regression on temperature vs. latitude\n",
    "(slope, intercept, rvalue, pvalue, stderr) = linregress(x_values, y_values)\n",
    "\n",
    "# Get regression values\n",
    "regress_values = x_values * slope + intercept\n",
    "#print(regress_values)\n",
    "\n",
    "# Create line equation string\n",
    "line_eq = \"y = \" + str(round(slope,2)) + \"x +\" + str(round(intercept,2))\n",
    "print(line_eq)\n",
    "\n",
    "# Create Plot\n",
    "plt.scatter(x_values,y_values)\n",
    "plt.plot(x_values,regress_values,\"r-\")\n",
    "\n",
    "# Label plot and annotate the line equation\n",
    "plt.suptitle('Southern Hemisphere - Max Temp vs. Latitude', fontsize='12')\n",
    "plt.xlabel('Latitude')\n",
    "plt.ylabel('Temperature')\n",
    "plt.annotate(line_eq,(-50,85),fontsize=15,color=\"red\")\n",
    "\n",
    "# Print r value\n",
    "print(f\"The r-value is: {rvalue**2}\")\n",
    "\n",
    "# Show plot\n",
    "plt.savefig(\"southern-temp-vs-lat.png\")\n",
    "plt.show()"
   ]
  },
  {
   "cell_type": "markdown",
   "metadata": {},
   "source": [
    "####  Northern Hemisphere - Humidity (%) vs. Latitude Linear Regression"
   ]
  },
  {
   "cell_type": "code",
   "execution_count": 20,
   "metadata": {},
   "outputs": [
    {
     "name": "stdout",
     "output_type": "stream",
     "text": [
      "y = 0.11x +63.71\n",
      "The r-value is: 0.010567671969555164\n"
     ]
    },
    {
     "data": {
      "image/png": "[encoded data removed]",
      "text/plain": [
       "<Figure size 432x288 with 1 Axes>"
      ]
     },
     "metadata": {
      "needs_background": "light"
     },
     "output_type": "display_data"
    }
   ],
   "source": [
    "x_values = northhem_city_data['lat']\n",
    "y_values = northhem_city_data['humidity']\n",
    "\n",
    "# Perform a linear regression on temperature vs. latitude\n",
    "(slope, intercept, rvalue, pvalue, stderr) = linregress(x_values, y_values)\n",
    "\n",
    "# Get regression values\n",
    "regress_values = x_values * slope + intercept\n",
    "#print(regress_values)\n",
    "\n",
    "# Create line equation string\n",
    "line_eq = \"y = \" + str(round(slope,2)) + \"x +\" + str(round(intercept,2))\n",
    "print(line_eq)\n",
    "\n",
    "# Create Plot\n",
    "plt.scatter(x_values,y_values)\n",
    "plt.plot(x_values,regress_values,\"r-\")\n",
    "\n",
    "# Label plot and annotate the line equation\n",
    "plt.suptitle('Northern Hemisphere - Humidity vs. Latitude', fontsize='12')\n",
    "plt.xlabel('Latitude')\n",
    "plt.ylabel('Humidity')\n",
    "plt.annotate(line_eq,(45,8),fontsize=15,color=\"red\")\n",
    "\n",
    "# Print r value\n",
    "print(f\"The r-value is: {rvalue**2}\")\n",
    "\n",
    "# Show plot\n",
    "plt.savefig(\"northern-humidity-vs-lat.png\")\n",
    "plt.show()"
   ]
  },
  {
   "cell_type": "markdown",
   "metadata": {},
   "source": [
    "####  Southern Hemisphere - Humidity (%) vs. Latitude Linear Regression"
   ]
  },
  {
   "cell_type": "code",
   "execution_count": 21,
   "metadata": {},
   "outputs": [
    {
     "name": "stdout",
     "output_type": "stream",
     "text": [
      "y = 0.39x +81.18\n",
      "The r-value is: 0.09839894254546216\n"
     ]
    },
    {
     "data": {
      "image/png": "[encoded data removed]",
      "text/plain": [
       "<Figure size 432x288 with 1 Axes>"
      ]
     },
     "metadata": {
      "needs_background": "light"
     },
     "output_type": "display_data"
    }
   ],
   "source": [
    "x_values = southern_hem_city_data['lat']\n",
    "y_values = southern_hem_city_data['humidity']\n",
    "\n",
    "# Perform a linear regression on temperature vs. latitude\n",
    "(slope, intercept, rvalue, pvalue, stderr) = linregress(x_values, y_values)\n",
    "\n",
    "# Get regression values\n",
    "regress_values = x_values * slope + intercept\n",
    "#print(regress_values)\n",
    "\n",
    "# Create line equation string\n",
    "line_eq = \"y = \" + str(round(slope,2)) + \"x +\" + str(round(intercept,2))\n",
    "print(line_eq)\n",
    "\n",
    "# Create Plot\n",
    "plt.scatter(x_values,y_values)\n",
    "plt.plot(x_values,regress_values,\"r-\")\n",
    "\n",
    "# Label plot and annotate the line equation\n",
    "plt.suptitle('Southern Hemisphere - Humidity vs. Latitude', fontsize='12')\n",
    "plt.xlabel('Latitude')\n",
    "plt.ylabel('Humidity')\n",
    "plt.annotate(line_eq,(-40,33),fontsize=15,color=\"red\")\n",
    "\n",
    "# Print r value\n",
    "print(f\"The r-value is: {rvalue**2}\")\n",
    "\n",
    "# Show plot\n",
    "plt.savefig(\"southern-humidity-vs-lat.png\")\n",
    "plt.show()"
   ]
  },
  {
   "cell_type": "markdown",
   "metadata": {},
   "source": [
    "####  Northern Hemisphere - Cloudiness (%) vs. Latitude Linear Regression"
   ]
  },
  {
   "cell_type": "code",
   "execution_count": 22,
   "metadata": {},
   "outputs": [
    {
     "name": "stdout",
     "output_type": "stream",
     "text": [
      "y = 0.19x +50.9\n",
      "The r-value is: 0.00973332883055217\n"
     ]
    },
    {
     "data": {
      "image/png": "[encoded data removed]",
      "text/plain": [
       "<Figure size 432x288 with 1 Axes>"
      ]
     },
     "metadata": {
      "needs_background": "light"
     },
     "output_type": "display_data"
    }
   ],
   "source": [
    "x_values = northhem_city_data['lat']\n",
    "y_values = northhem_city_data['cloudiness']\n",
    "\n",
    "# Perform a linear regression on temperature vs. latitude\n",
    "(slope, intercept, rvalue, pvalue, stderr) = linregress(x_values, y_values)\n",
    "\n",
    "# Get regression values\n",
    "regress_values = x_values * slope + intercept\n",
    "#print(regress_values)\n",
    "\n",
    "# Create line equation string\n",
    "line_eq = \"y = \" + str(round(slope,2)) + \"x +\" + str(round(intercept,2))\n",
    "print(line_eq)\n",
    "\n",
    "# Create Plot\n",
    "plt.scatter(x_values,y_values)\n",
    "plt.plot(x_values,regress_values,\"r-\")\n",
    "\n",
    "# Label plot and annotate the line equation\n",
    "plt.suptitle('Northern Hemisphere - Cloudiness (%) vs. Latitude', fontsize='12')\n",
    "plt.xlabel('Latitude')\n",
    "plt.ylabel('Cloudiness')\n",
    "plt.annotate(line_eq,(30,50),fontsize=15,color=\"red\")\n",
    "\n",
    "# Print r value\n",
    "print(f\"The r-value is: {rvalue**2}\")\n",
    "\n",
    "# Show plot\n",
    "plt.savefig(\"northern-cloudiness-vs-lat.png\")\n",
    "plt.show()"
   ]
  },
  {
   "cell_type": "markdown",
   "metadata": {},
   "source": [
    "####  Southern Hemisphere - Cloudiness (%) vs. Latitude Linear Regression"
   ]
  },
  {
   "cell_type": "code",
   "execution_count": 23,
   "metadata": {},
   "outputs": [
    {
     "name": "stdout",
     "output_type": "stream",
     "text": [
      "y = 0.85x +63.15\n",
      "The r-value is: 0.08312211285761609\n"
     ]
    },
    {
     "data": {
      "image/png": "[encoded data removed]",
      "text/plain": [
       "<Figure size 432x288 with 1 Axes>"
      ]
     },
     "metadata": {
      "needs_background": "light"
     },
     "output_type": "display_data"
    }
   ],
   "source": [
    "x_values = southern_hem_city_data['lat']\n",
    "y_values = southern_hem_city_data['cloudiness']\n",
    "\n",
    "# Perform a linear regression on temperature vs. latitude\n",
    "(slope, intercept, rvalue, pvalue, stderr) = linregress(x_values, y_values)\n",
    "\n",
    "# Get regression values\n",
    "regress_values = x_values * slope + intercept\n",
    "#print(regress_values)\n",
    "\n",
    "# Create line equation string\n",
    "line_eq = \"y = \" + str(round(slope,2)) + \"x +\" + str(round(intercept,2))\n",
    "print(line_eq)\n",
    "\n",
    "# Create Plot\n",
    "plt.scatter(x_values,y_values)\n",
    "plt.plot(x_values,regress_values,\"r-\")\n",
    "\n",
    "# Label plot and annotate the line equation\n",
    "plt.suptitle('Southern Hemisphere - Cloudiness (%) vs. Latitude', fontsize='12')\n",
    "plt.xlabel('Latitude')\n",
    "plt.ylabel('Cloudiness')\n",
    "plt.annotate(line_eq,(-40,55),fontsize=15,color=\"red\")\n",
    "\n",
    "# Print r value\n",
    "print(f\"The r-value is: {rvalue**2}\")\n",
    "\n",
    "# Show plot\n",
    "plt.savefig(\"southern-cloudiness-vs-lat.png\")\n",
    "plt.show()"
   ]
  },
  {
   "cell_type": "markdown",
   "metadata": {},
   "source": [
    "####  Northern Hemisphere - Wind Speed (mph) vs. Latitude Linear Regression"
   ]
  },
  {
   "cell_type": "code",
   "execution_count": 24,
   "metadata": {},
   "outputs": [
    {
     "name": "stdout",
     "output_type": "stream",
     "text": [
      "y = 0.11x +63.71\n",
      "The r-value is: 0.010567671969555164\n"
     ]
    },
    {
     "data": {
      "image/png": "[encoded data removed]",
      "text/plain": [
       "<Figure size 432x288 with 1 Axes>"
      ]
     },
     "metadata": {
      "needs_background": "light"
     },
     "output_type": "display_data"
    }
   ],
   "source": [
    "x_values = northhem_city_data['lat']\n",
    "y_values = northhem_city_data['humidity']\n",
    "\n",
    "# Perform a linear regression on temperature vs. latitude\n",
    "(slope, intercept, rvalue, pvalue, stderr) = linregress(x_values, y_values)\n",
    "\n",
    "# Get regression values\n",
    "regress_values = x_values * slope + intercept\n",
    "#print(regress_values)\n",
    "\n",
    "# Create line equation string\n",
    "line_eq = \"y = \" + str(round(slope,2)) + \"x +\" + str(round(intercept,2))\n",
    "print(line_eq)\n",
    "\n",
    "# Create Plot\n",
    "plt.scatter(x_values,y_values)\n",
    "plt.plot(x_values,regress_values,\"r-\")\n",
    "\n",
    "# Label plot and annotate the line equation\n",
    "plt.suptitle('Northern Hemisphere - Wind Speed (mph) vs. Latitude', fontsize='12')\n",
    "plt.xlabel('Latitude')\n",
    "plt.ylabel('Wind Speed')\n",
    "plt.annotate(line_eq,(45,8),fontsize=15,color=\"red\")\n",
    "\n",
    "# Print r value\n",
    "print(f\"The r-value is: {rvalue**2}\")\n",
    "\n",
    "# Show plot\n",
    "plt.savefig(\"northern-windspeed-vs-lat.png\")\n",
    "plt.show()"
   ]
  },
  {
   "cell_type": "markdown",
   "metadata": {},
   "source": [
    "####  Southern Hemisphere - Wind Speed (mph) vs. Latitude Linear Regression"
   ]
  },
  {
   "cell_type": "code",
   "execution_count": 25,
   "metadata": {},
   "outputs": [
    {
     "name": "stdout",
     "output_type": "stream",
     "text": [
      "y = 0.02x +7.83\n",
      "The r-value is: 0.0026364254224326956\n"
     ]
    },
    {
     "data": {
      "image/png": "[encoded data removed]",
      "text/plain": [
       "<Figure size 432x288 with 1 Axes>"
      ]
     },
     "metadata": {
      "needs_background": "light"
     },
     "output_type": "display_data"
    }
   ],
   "source": [
    "x_values = southern_hem_city_data['lat']\n",
    "y_values = southern_hem_city_data['windspeed']\n",
    "\n",
    "# Perform a linear regression on temperature vs. latitude\n",
    "(slope, intercept, rvalue, pvalue, stderr) = linregress(x_values, y_values)\n",
    "\n",
    "# Get regression values\n",
    "regress_values = x_values * slope + intercept\n",
    "#print(regress_values)\n",
    "\n",
    "# Create line equation string\n",
    "line_eq = \"y = \" + str(round(slope,2)) + \"x +\" + str(round(intercept,2))\n",
    "print(line_eq)\n",
    "\n",
    "# Create Plot\n",
    "plt.scatter(x_values,y_values)\n",
    "plt.plot(x_values,regress_values,\"r-\")\n",
    "\n",
    "# Label plot and annotate the line equation\n",
    "plt.suptitle('Southern Hemisphere - Wind Speed (mph) vs. Latitude', fontsize='12')\n",
    "plt.xlabel('Latitude')\n",
    "plt.ylabel('Wind Speed')\n",
    "plt.annotate(line_eq,(-40,17),fontsize=15,color=\"red\")\n",
    "\n",
    "# Print r value\n",
    "print(f\"The r-value is: {rvalue**2}\")\n",
    "\n",
    "# Show plot\n",
    "plt.savefig(\"southern-windspeed-vs-lat.png\")\n",
    "plt.show()"
   ]
  },
  {
   "cell_type": "code",
   "execution_count": null,
   "metadata": {},
   "outputs": [],
   "source": []
  }
 ],
 "metadata": {
  "anaconda-cloud": {},
  "kernel_info": {
   "name": "python3"
  },
  "kernelspec": {
   "display_name": "Python 3",
   "language": "python",
   "name": "python3"
  },
  "language_info": {
   "codemirror_mode": {
    "name": "ipython",
    "version": 3
   },
   "file_extension": ".py",
   "mimetype": "text/x-python",
   "name": "python",
   "nbconvert_exporter": "python",
   "pygments_lexer": "ipython3",
   "version": "3.9.2"
  },
  "latex_envs": {
   "LaTeX_envs_menu_present": true,
   "autoclose": false,
   "autocomplete": true,
   "bibliofile": "biblio.bib",
   "cite_by": "apalike",
   "current_citInitial": 1,
   "eqLabelWithNumbers": true,
   "eqNumInitial": 1,
   "hotkeys": {
    "equation": "Ctrl-E",
    "itemize": "Ctrl-I"
   },
   "labels_anchors": false,
   "latex_user_defs": false,
   "report_style_numbering": false,
   "user_envs_cfg": false
  },
  "nteract": {
   "version": "0.12.3"
  }
 },
 "nbformat": 4,
 "nbformat_minor": 2
}
